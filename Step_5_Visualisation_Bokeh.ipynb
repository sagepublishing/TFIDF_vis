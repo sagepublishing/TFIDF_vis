{
 "cells": [
  {
   "cell_type": "markdown",
   "metadata": {
    "hideCode": false,
    "hidePrompt": false
   },
   "source": [
    "### Visualisation with Bokeh\n",
    "This is just a simple piece of visualisation code to display the text data which has been processed in other notebooks.  "
   ]
  },
  {
   "cell_type": "code",
   "execution_count": 1,
   "metadata": {
    "hideCode": false,
    "hidePrompt": false
   },
   "outputs": [
    {
     "name": "stdout",
     "output_type": "stream",
     "text": [
      "------------------------------------------------------\n",
      "Step 5:  Creating visualisation\n",
      "2018-02-16 18:00:25.609348\n",
      "------------------------------------------------------\n"
     ]
    }
   ],
   "source": [
    "print('------------------------------------------------------')\n",
    "print('Step 5:  Creating visualisation')\n",
    "from datetime import datetime as dt\n",
    "print(dt.now())\n",
    "print('------------------------------------------------------')"
   ]
  },
  {
   "cell_type": "code",
   "execution_count": 2,
   "metadata": {
    "collapsed": true,
    "hideCode": false,
    "hidePrompt": false
   },
   "outputs": [],
   "source": [
    "import pandas as pd\n",
    "import numpy as np\n",
    "import pickle\n",
    "\n",
    "# %matplotlib inline\n",
    "import matplotlib.pyplot as plt\n",
    "import seaborn as sns\n",
    "\n",
    "\n",
    "from bokeh.plotting import *\n",
    "# from bokeh.models import ColumnDataSource, OpenURL, TapTool\n",
    "from bokeh.models import *\n",
    "from bokeh.io import output_notebook"
   ]
  },
  {
   "cell_type": "code",
   "execution_count": 3,
   "metadata": {
    "collapsed": true,
    "hideCode": false,
    "hidePrompt": false
   },
   "outputs": [],
   "source": [
    "from config import Config as c\n",
    "tfidf_filename = c.tfidf_filename\n",
    "bar_filename = c.bar_filename\n",
    "plot_title = c.title\n",
    "doi_datapath = c.dois_pkl\n",
    "working_data = c.working_data\n",
    "set_name = c.set_name\n",
    "# test_set = c.test_set\n",
    "n_clusters = c.n_clusters\n",
    "journal_of_interest = c.joi"
   ]
  },
  {
   "cell_type": "code",
   "execution_count": 4,
   "metadata": {
    "collapsed": true,
    "hideCode": false,
    "hidePrompt": false
   },
   "outputs": [],
   "source": [
    "# global variable\n",
    "dois = pickle.load(open(doi_datapath,'rb'))"
   ]
  },
  {
   "cell_type": "code",
   "execution_count": 5,
   "metadata": {
    "hideCode": false,
    "hidePrompt": false
   },
   "outputs": [
    {
     "data": {
      "text/html": [
       "<div>\n",
       "<style scoped>\n",
       "    .dataframe tbody tr th:only-of-type {\n",
       "        vertical-align: middle;\n",
       "    }\n",
       "\n",
       "    .dataframe tbody tr th {\n",
       "        vertical-align: top;\n",
       "    }\n",
       "\n",
       "    .dataframe thead th {\n",
       "        text-align: right;\n",
       "    }\n",
       "</style>\n",
       "<table border=\"1\" class=\"dataframe\">\n",
       "  <thead>\n",
       "    <tr style=\"text-align: right;\">\n",
       "      <th></th>\n",
       "      <th>DI</th>\n",
       "      <th>PY</th>\n",
       "      <th>WD</th>\n",
       "      <th>AU</th>\n",
       "      <th>AF</th>\n",
       "      <th>SO</th>\n",
       "      <th>SC</th>\n",
       "      <th>SN</th>\n",
       "      <th>EI</th>\n",
       "      <th>TC</th>\n",
       "      <th>...</th>\n",
       "      <th>highly_cited_1</th>\n",
       "      <th>highly_cited_10</th>\n",
       "      <th>highly_cited_5</th>\n",
       "      <th>recent_citations</th>\n",
       "      <th>relative_citation_ratio</th>\n",
       "      <th>times_cited</th>\n",
       "      <th>Citations</th>\n",
       "      <th>Cluster</th>\n",
       "      <th>Cluster_no</th>\n",
       "      <th>Article_kws</th>\n",
       "    </tr>\n",
       "  </thead>\n",
       "  <tbody>\n",
       "    <tr>\n",
       "      <th>4564</th>\n",
       "      <td>10.1016/j.neuroimage.2012.06.024</td>\n",
       "      <td>2012</td>\n",
       "      <td>Activation and connectivity patterns of the pr...</td>\n",
       "      <td>de Manzano, O; Ullen, F</td>\n",
       "      <td>de Manzano, Orjan; Ullen, Fredrik</td>\n",
       "      <td>NEUROIMAGE</td>\n",
       "      <td>Neurosciences &amp; Neurology; Radiology, Nuclear ...</td>\n",
       "      <td>1053-8119</td>\n",
       "      <td>1095-9572</td>\n",
       "      <td>13</td>\n",
       "      <td>...</td>\n",
       "      <td>False</td>\n",
       "      <td>False</td>\n",
       "      <td>False</td>\n",
       "      <td>12.0</td>\n",
       "      <td>0.90</td>\n",
       "      <td>20.0</td>\n",
       "      <td>20.0</td>\n",
       "      <td>['connectivity', 'network', 'effects']</td>\n",
       "      <td>1</td>\n",
       "      <td>['rhythms', 'free', 'premotor']</td>\n",
       "    </tr>\n",
       "    <tr>\n",
       "      <th>2331</th>\n",
       "      <td>10.1523/JNEUROSCI.3942-12.2013</td>\n",
       "      <td>2013</td>\n",
       "      <td>Runx1 Controls Terminal Morphology and Mechano...</td>\n",
       "      <td>Lou, S; Duan, B; Vong, L; Lowell, BB; Ma, QF</td>\n",
       "      <td>Lou, Shan; Duan, Bo; Linh Vong; Lowell, Bradfo...</td>\n",
       "      <td>JOURNAL OF NEUROSCIENCE</td>\n",
       "      <td>Neurosciences &amp; Neurology</td>\n",
       "      <td>0270-6474</td>\n",
       "      <td>NaN</td>\n",
       "      <td>52</td>\n",
       "      <td>...</td>\n",
       "      <td>False</td>\n",
       "      <td>True</td>\n",
       "      <td>True</td>\n",
       "      <td>23.0</td>\n",
       "      <td>3.89</td>\n",
       "      <td>67.0</td>\n",
       "      <td>67.0</td>\n",
       "      <td>['dynamics', 'retinal', 'sleep']</td>\n",
       "      <td>4</td>\n",
       "      <td>['runx1', 'vglut3', 'morphology']</td>\n",
       "    </tr>\n",
       "    <tr>\n",
       "      <th>5847</th>\n",
       "      <td>10.1016/j.neuron.2012.04.021</td>\n",
       "      <td>2012</td>\n",
       "      <td>Odor Representations in Olfactory Cortex: Dist...</td>\n",
       "      <td>Miura, K; Mainen, ZF; Uchida, N</td>\n",
       "      <td>Miura, Keiji; Mainen, Zachary F.; Uchida, Naos...</td>\n",
       "      <td>NEURON</td>\n",
       "      <td>Neurosciences &amp; Neurology</td>\n",
       "      <td>0896-6273</td>\n",
       "      <td>NaN</td>\n",
       "      <td>58</td>\n",
       "      <td>...</td>\n",
       "      <td>False</td>\n",
       "      <td>True</td>\n",
       "      <td>True</td>\n",
       "      <td>27.0</td>\n",
       "      <td>2.60</td>\n",
       "      <td>71.0</td>\n",
       "      <td>71.0</td>\n",
       "      <td>['mice', 'induced', 'olfactory']</td>\n",
       "      <td>9</td>\n",
       "      <td>['odor', 'distributed', 'rate']</td>\n",
       "    </tr>\n",
       "    <tr>\n",
       "      <th>5427</th>\n",
       "      <td>10.1212/WNL.0b013e318248e4ff</td>\n",
       "      <td>2012</td>\n",
       "      <td>American Academy of Neurology policy on pharma...</td>\n",
       "      <td>Hutchins, JC; Rydell, CM; Griggs, RC; Sagsveen...</td>\n",
       "      <td>Hutchins, J. C.; Rydell, C. M.; Griggs, R. C.;...</td>\n",
       "      <td>NEUROLOGY</td>\n",
       "      <td>Neurosciences &amp; Neurology</td>\n",
       "      <td>0028-3878</td>\n",
       "      <td>NaN</td>\n",
       "      <td>4</td>\n",
       "      <td>...</td>\n",
       "      <td>False</td>\n",
       "      <td>False</td>\n",
       "      <td>False</td>\n",
       "      <td>2.0</td>\n",
       "      <td>0.15</td>\n",
       "      <td>6.0</td>\n",
       "      <td>6.0</td>\n",
       "      <td>['mutation', 'models', 'new']</td>\n",
       "      <td>10</td>\n",
       "      <td>['policy', 'academy', 'american']</td>\n",
       "    </tr>\n",
       "    <tr>\n",
       "      <th>3796</th>\n",
       "      <td>10.1016/j.neuroimage.2014.03.042</td>\n",
       "      <td>2014</td>\n",
       "      <td>Characterizing individual differences in funct...</td>\n",
       "      <td>Smith, DV; Utevsky, AV; Bland, AR; Clement, N;...</td>\n",
       "      <td>Smith, David V.; Utevsky, Amanda V.; Bland, Am...</td>\n",
       "      <td>NEUROIMAGE</td>\n",
       "      <td>Neurosciences &amp; Neurology; Radiology, Nuclear ...</td>\n",
       "      <td>1053-8119</td>\n",
       "      <td>1095-9572</td>\n",
       "      <td>27</td>\n",
       "      <td>...</td>\n",
       "      <td>False</td>\n",
       "      <td>True</td>\n",
       "      <td>False</td>\n",
       "      <td>18.0</td>\n",
       "      <td>2.84</td>\n",
       "      <td>32.0</td>\n",
       "      <td>32.0</td>\n",
       "      <td>['based', 'receptors', 'distinct']</td>\n",
       "      <td>7</td>\n",
       "      <td>['characterizing', 'approaches', 'regression']</td>\n",
       "    </tr>\n",
       "  </tbody>\n",
       "</table>\n",
       "<p>5 rows × 26 columns</p>\n",
       "</div>"
      ],
      "text/plain": [
       "                                    DI    PY  \\\n",
       "4564  10.1016/j.neuroimage.2012.06.024  2012   \n",
       "2331    10.1523/JNEUROSCI.3942-12.2013  2013   \n",
       "5847      10.1016/j.neuron.2012.04.021  2012   \n",
       "5427      10.1212/WNL.0b013e318248e4ff  2012   \n",
       "3796  10.1016/j.neuroimage.2014.03.042  2014   \n",
       "\n",
       "                                                     WD  \\\n",
       "4564  Activation and connectivity patterns of the pr...   \n",
       "2331  Runx1 Controls Terminal Morphology and Mechano...   \n",
       "5847  Odor Representations in Olfactory Cortex: Dist...   \n",
       "5427  American Academy of Neurology policy on pharma...   \n",
       "3796  Characterizing individual differences in funct...   \n",
       "\n",
       "                                                     AU  \\\n",
       "4564                            de Manzano, O; Ullen, F   \n",
       "2331       Lou, S; Duan, B; Vong, L; Lowell, BB; Ma, QF   \n",
       "5847                    Miura, K; Mainen, ZF; Uchida, N   \n",
       "5427  Hutchins, JC; Rydell, CM; Griggs, RC; Sagsveen...   \n",
       "3796  Smith, DV; Utevsky, AV; Bland, AR; Clement, N;...   \n",
       "\n",
       "                                                     AF  \\\n",
       "4564                  de Manzano, Orjan; Ullen, Fredrik   \n",
       "2331  Lou, Shan; Duan, Bo; Linh Vong; Lowell, Bradfo...   \n",
       "5847  Miura, Keiji; Mainen, Zachary F.; Uchida, Naos...   \n",
       "5427  Hutchins, J. C.; Rydell, C. M.; Griggs, R. C.;...   \n",
       "3796  Smith, David V.; Utevsky, Amanda V.; Bland, Am...   \n",
       "\n",
       "                           SO  \\\n",
       "4564               NEUROIMAGE   \n",
       "2331  JOURNAL OF NEUROSCIENCE   \n",
       "5847                   NEURON   \n",
       "5427                NEUROLOGY   \n",
       "3796               NEUROIMAGE   \n",
       "\n",
       "                                                     SC         SN         EI  \\\n",
       "4564  Neurosciences & Neurology; Radiology, Nuclear ...  1053-8119  1095-9572   \n",
       "2331                          Neurosciences & Neurology  0270-6474        NaN   \n",
       "5847                          Neurosciences & Neurology  0896-6273        NaN   \n",
       "5427                          Neurosciences & Neurology  0028-3878        NaN   \n",
       "3796  Neurosciences & Neurology; Radiology, Nuclear ...  1053-8119  1095-9572   \n",
       "\n",
       "      TC                       ...                        highly_cited_1  \\\n",
       "4564  13                       ...                                 False   \n",
       "2331  52                       ...                                 False   \n",
       "5847  58                       ...                                 False   \n",
       "5427   4                       ...                                 False   \n",
       "3796  27                       ...                                 False   \n",
       "\n",
       "      highly_cited_10  highly_cited_5 recent_citations  \\\n",
       "4564            False           False             12.0   \n",
       "2331             True            True             23.0   \n",
       "5847             True            True             27.0   \n",
       "5427            False           False              2.0   \n",
       "3796             True           False             18.0   \n",
       "\n",
       "     relative_citation_ratio  times_cited Citations  \\\n",
       "4564                    0.90         20.0      20.0   \n",
       "2331                    3.89         67.0      67.0   \n",
       "5847                    2.60         71.0      71.0   \n",
       "5427                    0.15          6.0       6.0   \n",
       "3796                    2.84         32.0      32.0   \n",
       "\n",
       "                                     Cluster Cluster_no  \\\n",
       "4564  ['connectivity', 'network', 'effects']          1   \n",
       "2331        ['dynamics', 'retinal', 'sleep']          4   \n",
       "5847        ['mice', 'induced', 'olfactory']          9   \n",
       "5427           ['mutation', 'models', 'new']         10   \n",
       "3796      ['based', 'receptors', 'distinct']          7   \n",
       "\n",
       "                                         Article_kws  \n",
       "4564                 ['rhythms', 'free', 'premotor']  \n",
       "2331               ['runx1', 'vglut3', 'morphology']  \n",
       "5847                 ['odor', 'distributed', 'rate']  \n",
       "5427               ['policy', 'academy', 'american']  \n",
       "3796  ['characterizing', 'approaches', 'regression']  \n",
       "\n",
       "[5 rows x 26 columns]"
      ]
     },
     "execution_count": 5,
     "metadata": {},
     "output_type": "execute_result"
    }
   ],
   "source": [
    "# read data\n",
    "data = pd.read_csv(c.working_data,index_col = 0)\n",
    "# data[\"Cluster_no\"] = data[\"Cluster_no\"].astype('category')\n",
    "data.sample(5)"
   ]
  },
  {
   "cell_type": "markdown",
   "metadata": {
    "hideCode": false,
    "hidePrompt": false
   },
   "source": [
    "## Set NaNs in citations col to zero."
   ]
  },
  {
   "cell_type": "code",
   "execution_count": 6,
   "metadata": {
    "collapsed": true,
    "hideCode": false,
    "hidePrompt": false
   },
   "outputs": [],
   "source": [
    "data['Citations'] = data['Citations'].fillna(0)"
   ]
  },
  {
   "cell_type": "code",
   "execution_count": 7,
   "metadata": {
    "hideCode": false,
    "hidePrompt": false
   },
   "outputs": [
    {
     "name": "stdout",
     "output_type": "stream",
     "text": [
      "Showing data for the following journals:\n",
      "JOURNAL OF NEUROSCIENCE       2450\n",
      "NEUROIMAGE                    1449\n",
      "NEURON                         462\n",
      "NEUROLOGY                      430\n",
      "BRAIN                          378\n",
      "MULTIPLE SCLEROSIS JOURNAL     296\n",
      "ANNALS OF NEUROLOGY            247\n",
      "ACTA NEUROPATHOLOGICA          142\n",
      "LANCET NEUROLOGY                66\n",
      "Name: SO, dtype: int64\n"
     ]
    }
   ],
   "source": [
    "print('Showing data for the following journals:')\n",
    "print(data['SO'].value_counts())"
   ]
  },
  {
   "cell_type": "code",
   "execution_count": 8,
   "metadata": {
    "collapsed": true,
    "hideCode": false,
    "hidePrompt": false
   },
   "outputs": [],
   "source": [
    "# for col in data.columns:\n",
    "#     print(col,': ',sum(data[col].isnull()))"
   ]
  },
  {
   "cell_type": "markdown",
   "metadata": {
    "hideCode": false,
    "hidePrompt": false
   },
   "source": [
    "## Bokeh code\n",
    "The first step is to define a few things that will go into the plot.\n",
    "\n",
    "#### Hover tool\n",
    "The hover tool defines what happens when you hover your mouse over the plot. "
   ]
  },
  {
   "cell_type": "code",
   "execution_count": 10,
   "metadata": {
    "collapsed": true
   },
   "outputs": [],
   "source": [
    "hover = HoverTool(\n",
    "        tooltips=[\n",
    "#             (\"index\", \"$index\"),\n",
    "#             (\"(x,y)\", \"($x, $y)\"),\n",
    "            (\"Journal\", \"@SO\"),\n",
    "            (\"DOI\", \"@DI\"),\n",
    "            (\"Article Keywords\",\"@Article_kws\"),\n",
    "            (\"Citations\", \"@Citations\"),\n",
    "            (\"Cluster_no\", \"@Cluster_no\"),\n",
    "            (\"Cluster Keywords\",\"@Cluster\")\n",
    "                ])"
   ]
  },
  {
   "cell_type": "code",
   "execution_count": 11,
   "metadata": {},
   "outputs": [
    {
     "data": {
      "text/html": [
       "\n",
       "    <div class=\"bk-root\">\n",
       "        <a href=\"https://bokeh.pydata.org\" target=\"_blank\" class=\"bk-logo bk-logo-small bk-logo-notebook\"></a>\n",
       "        <span id=\"f63cf85e-d8e6-4913-916b-fc29c08038c2\">Loading BokehJS ...</span>\n",
       "    </div>"
      ]
     },
     "metadata": {},
     "output_type": "display_data"
    },
    {
     "data": {
      "application/javascript": [
       "\n",
       "(function(root) {\n",
       "  function now() {\n",
       "    return new Date();\n",
       "  }\n",
       "\n",
       "  var force = true;\n",
       "\n",
       "  if (typeof (root._bokeh_onload_callbacks) === \"undefined\" || force === true) {\n",
       "    root._bokeh_onload_callbacks = [];\n",
       "    root._bokeh_is_loading = undefined;\n",
       "  }\n",
       "\n",
       "  var JS_MIME_TYPE = 'application/javascript';\n",
       "  var HTML_MIME_TYPE = 'text/html';\n",
       "  var EXEC_MIME_TYPE = 'application/vnd.bokehjs_exec.v0+json';\n",
       "  var CLASS_NAME = 'output_bokeh rendered_html';\n",
       "\n",
       "  /**\n",
       "   * Render data to the DOM node\n",
       "   */\n",
       "  function render(props, node) {\n",
       "    var script = document.createElement(\"script\");\n",
       "    node.appendChild(script);\n",
       "  }\n",
       "\n",
       "  /**\n",
       "   * Handle when an output is cleared or removed\n",
       "   */\n",
       "  function handleClearOutput(event, handle) {\n",
       "    var cell = handle.cell;\n",
       "\n",
       "    var id = cell.output_area._bokeh_element_id;\n",
       "    var server_id = cell.output_area._bokeh_server_id;\n",
       "    // Clean up Bokeh references\n",
       "    if (id !== undefined) {\n",
       "      Bokeh.index[id].model.document.clear();\n",
       "      delete Bokeh.index[id];\n",
       "    }\n",
       "\n",
       "    if (server_id !== undefined) {\n",
       "      // Clean up Bokeh references\n",
       "      var cmd = \"from bokeh.io.state import curstate; print(curstate().uuid_to_server['\" + server_id + \"'].get_sessions()[0].document.roots[0]._id)\";\n",
       "      cell.notebook.kernel.execute(cmd, {\n",
       "        iopub: {\n",
       "          output: function(msg) {\n",
       "            var element_id = msg.content.text.trim();\n",
       "            Bokeh.index[element_id].model.document.clear();\n",
       "            delete Bokeh.index[element_id];\n",
       "          }\n",
       "        }\n",
       "      });\n",
       "      // Destroy server and session\n",
       "      var cmd = \"import bokeh.io.notebook as ion; ion.destroy_server('\" + server_id + \"')\";\n",
       "      cell.notebook.kernel.execute(cmd);\n",
       "    }\n",
       "  }\n",
       "\n",
       "  /**\n",
       "   * Handle when a new output is added\n",
       "   */\n",
       "  function handleAddOutput(event, handle) {\n",
       "    var output_area = handle.output_area;\n",
       "    var output = handle.output;\n",
       "\n",
       "    // limit handleAddOutput to display_data with EXEC_MIME_TYPE content only\n",
       "    if ((output.output_type != \"display_data\") || (!output.data.hasOwnProperty(EXEC_MIME_TYPE))) {\n",
       "      return\n",
       "    }\n",
       "\n",
       "    var toinsert = output_area.element.find(`.${CLASS_NAME.split(' ')[0]}`);\n",
       "\n",
       "    if (output.metadata[EXEC_MIME_TYPE][\"id\"] !== undefined) {\n",
       "      toinsert[0].firstChild.textContent = output.data[JS_MIME_TYPE];\n",
       "      // store reference to embed id on output_area\n",
       "      output_area._bokeh_element_id = output.metadata[EXEC_MIME_TYPE][\"id\"];\n",
       "    }\n",
       "    if (output.metadata[EXEC_MIME_TYPE][\"server_id\"] !== undefined) {\n",
       "      var bk_div = document.createElement(\"div\");\n",
       "      bk_div.innerHTML = output.data[HTML_MIME_TYPE];\n",
       "      var script_attrs = bk_div.children[0].attributes;\n",
       "      for (var i = 0; i < script_attrs.length; i++) {\n",
       "        toinsert[0].firstChild.setAttribute(script_attrs[i].name, script_attrs[i].value);\n",
       "      }\n",
       "      // store reference to server id on output_area\n",
       "      output_area._bokeh_server_id = output.metadata[EXEC_MIME_TYPE][\"server_id\"];\n",
       "    }\n",
       "  }\n",
       "\n",
       "  function register_renderer(events, OutputArea) {\n",
       "\n",
       "    function append_mime(data, metadata, element) {\n",
       "      // create a DOM node to render to\n",
       "      var toinsert = this.create_output_subarea(\n",
       "        metadata,\n",
       "        CLASS_NAME,\n",
       "        EXEC_MIME_TYPE\n",
       "      );\n",
       "      this.keyboard_manager.register_events(toinsert);\n",
       "      // Render to node\n",
       "      var props = {data: data, metadata: metadata[EXEC_MIME_TYPE]};\n",
       "      render(props, toinsert[0]);\n",
       "      element.append(toinsert);\n",
       "      return toinsert\n",
       "    }\n",
       "\n",
       "    /* Handle when an output is cleared or removed */\n",
       "    events.on('clear_output.CodeCell', handleClearOutput);\n",
       "    events.on('delete.Cell', handleClearOutput);\n",
       "\n",
       "    /* Handle when a new output is added */\n",
       "    events.on('output_added.OutputArea', handleAddOutput);\n",
       "\n",
       "    /**\n",
       "     * Register the mime type and append_mime function with output_area\n",
       "     */\n",
       "    OutputArea.prototype.register_mime_type(EXEC_MIME_TYPE, append_mime, {\n",
       "      /* Is output safe? */\n",
       "      safe: true,\n",
       "      /* Index of renderer in `output_area.display_order` */\n",
       "      index: 0\n",
       "    });\n",
       "  }\n",
       "\n",
       "  // register the mime type if in Jupyter Notebook environment and previously unregistered\n",
       "  if (root.Jupyter !== undefined) {\n",
       "    var events = require('base/js/events');\n",
       "    var OutputArea = require('notebook/js/outputarea').OutputArea;\n",
       "\n",
       "    if (OutputArea.prototype.mime_types().indexOf(EXEC_MIME_TYPE) == -1) {\n",
       "      register_renderer(events, OutputArea);\n",
       "    }\n",
       "  }\n",
       "\n",
       "  \n",
       "  if (typeof (root._bokeh_timeout) === \"undefined\" || force === true) {\n",
       "    root._bokeh_timeout = Date.now() + 5000;\n",
       "    root._bokeh_failed_load = false;\n",
       "  }\n",
       "\n",
       "  var NB_LOAD_WARNING = {'data': {'text/html':\n",
       "     \"<div style='background-color: #fdd'>\\n\"+\n",
       "     \"<p>\\n\"+\n",
       "     \"BokehJS does not appear to have successfully loaded. If loading BokehJS from CDN, this \\n\"+\n",
       "     \"may be due to a slow or bad network connection. Possible fixes:\\n\"+\n",
       "     \"</p>\\n\"+\n",
       "     \"<ul>\\n\"+\n",
       "     \"<li>re-rerun `output_notebook()` to attempt to load from CDN again, or</li>\\n\"+\n",
       "     \"<li>use INLINE resources instead, as so:</li>\\n\"+\n",
       "     \"</ul>\\n\"+\n",
       "     \"<code>\\n\"+\n",
       "     \"from bokeh.resources import INLINE\\n\"+\n",
       "     \"output_notebook(resources=INLINE)\\n\"+\n",
       "     \"</code>\\n\"+\n",
       "     \"</div>\"}};\n",
       "\n",
       "  function display_loaded() {\n",
       "    var el = document.getElementById(\"f63cf85e-d8e6-4913-916b-fc29c08038c2\");\n",
       "    if (el != null) {\n",
       "      el.textContent = \"BokehJS is loading...\";\n",
       "    }\n",
       "    if (root.Bokeh !== undefined) {\n",
       "      if (el != null) {\n",
       "        el.textContent = \"BokehJS \" + root.Bokeh.version + \" successfully loaded.\";\n",
       "      }\n",
       "    } else if (Date.now() < root._bokeh_timeout) {\n",
       "      setTimeout(display_loaded, 100)\n",
       "    }\n",
       "  }\n",
       "\n",
       "\n",
       "  function run_callbacks() {\n",
       "    try {\n",
       "      root._bokeh_onload_callbacks.forEach(function(callback) { callback() });\n",
       "    }\n",
       "    finally {\n",
       "      delete root._bokeh_onload_callbacks\n",
       "    }\n",
       "    console.info(\"Bokeh: all callbacks have finished\");\n",
       "  }\n",
       "\n",
       "  function load_libs(js_urls, callback) {\n",
       "    root._bokeh_onload_callbacks.push(callback);\n",
       "    if (root._bokeh_is_loading > 0) {\n",
       "      console.log(\"Bokeh: BokehJS is being loaded, scheduling callback at\", now());\n",
       "      return null;\n",
       "    }\n",
       "    if (js_urls == null || js_urls.length === 0) {\n",
       "      run_callbacks();\n",
       "      return null;\n",
       "    }\n",
       "    console.log(\"Bokeh: BokehJS not loaded, scheduling load and callback at\", now());\n",
       "    root._bokeh_is_loading = js_urls.length;\n",
       "    for (var i = 0; i < js_urls.length; i++) {\n",
       "      var url = js_urls[i];\n",
       "      var s = document.createElement('script');\n",
       "      s.src = url;\n",
       "      s.async = false;\n",
       "      s.onreadystatechange = s.onload = function() {\n",
       "        root._bokeh_is_loading--;\n",
       "        if (root._bokeh_is_loading === 0) {\n",
       "          console.log(\"Bokeh: all BokehJS libraries loaded\");\n",
       "          run_callbacks()\n",
       "        }\n",
       "      };\n",
       "      s.onerror = function() {\n",
       "        console.warn(\"failed to load library \" + url);\n",
       "      };\n",
       "      console.log(\"Bokeh: injecting script tag for BokehJS library: \", url);\n",
       "      document.getElementsByTagName(\"head\")[0].appendChild(s);\n",
       "    }\n",
       "  };var element = document.getElementById(\"f63cf85e-d8e6-4913-916b-fc29c08038c2\");\n",
       "  if (element == null) {\n",
       "    console.log(\"Bokeh: ERROR: autoload.js configured with elementid 'f63cf85e-d8e6-4913-916b-fc29c08038c2' but no matching script tag was found. \")\n",
       "    return false;\n",
       "  }\n",
       "\n",
       "  var js_urls = [\"https://cdn.pydata.org/bokeh/release/bokeh-0.12.10.min.js\", \"https://cdn.pydata.org/bokeh/release/bokeh-widgets-0.12.10.min.js\", \"https://cdn.pydata.org/bokeh/release/bokeh-tables-0.12.10.min.js\", \"https://cdn.pydata.org/bokeh/release/bokeh-gl-0.12.10.min.js\"];\n",
       "\n",
       "  var inline_js = [\n",
       "    function(Bokeh) {\n",
       "      Bokeh.set_log_level(\"info\");\n",
       "    },\n",
       "    \n",
       "    function(Bokeh) {\n",
       "      \n",
       "    },\n",
       "    function(Bokeh) {\n",
       "      console.log(\"Bokeh: injecting CSS: https://cdn.pydata.org/bokeh/release/bokeh-0.12.10.min.css\");\n",
       "      Bokeh.embed.inject_css(\"https://cdn.pydata.org/bokeh/release/bokeh-0.12.10.min.css\");\n",
       "      console.log(\"Bokeh: injecting CSS: https://cdn.pydata.org/bokeh/release/bokeh-widgets-0.12.10.min.css\");\n",
       "      Bokeh.embed.inject_css(\"https://cdn.pydata.org/bokeh/release/bokeh-widgets-0.12.10.min.css\");\n",
       "      console.log(\"Bokeh: injecting CSS: https://cdn.pydata.org/bokeh/release/bokeh-tables-0.12.10.min.css\");\n",
       "      Bokeh.embed.inject_css(\"https://cdn.pydata.org/bokeh/release/bokeh-tables-0.12.10.min.css\");\n",
       "    }\n",
       "  ];\n",
       "\n",
       "  function run_inline_js() {\n",
       "    \n",
       "    if ((root.Bokeh !== undefined) || (force === true)) {\n",
       "      for (var i = 0; i < inline_js.length; i++) {\n",
       "        inline_js[i].call(root, root.Bokeh);\n",
       "      }if (force === true) {\n",
       "        display_loaded();\n",
       "      }} else if (Date.now() < root._bokeh_timeout) {\n",
       "      setTimeout(run_inline_js, 100);\n",
       "    } else if (!root._bokeh_failed_load) {\n",
       "      console.log(\"Bokeh: BokehJS failed to load within specified timeout.\");\n",
       "      root._bokeh_failed_load = true;\n",
       "    } else if (force !== true) {\n",
       "      var cell = $(document.getElementById(\"f63cf85e-d8e6-4913-916b-fc29c08038c2\")).parents('.cell').data().cell;\n",
       "      cell.output_area.append_execute_result(NB_LOAD_WARNING)\n",
       "    }\n",
       "\n",
       "  }\n",
       "\n",
       "  if (root._bokeh_is_loading === 0) {\n",
       "    console.log(\"Bokeh: BokehJS loaded, going straight to plotting\");\n",
       "    run_inline_js();\n",
       "  } else {\n",
       "    load_libs(js_urls, function() {\n",
       "      console.log(\"Bokeh: BokehJS plotting callback run at\", now());\n",
       "      run_inline_js();\n",
       "    });\n",
       "  }\n",
       "}(window));"
      ],
      "application/vnd.bokehjs_load.v0+json": "\n(function(root) {\n  function now() {\n    return new Date();\n  }\n\n  var force = true;\n\n  if (typeof (root._bokeh_onload_callbacks) === \"undefined\" || force === true) {\n    root._bokeh_onload_callbacks = [];\n    root._bokeh_is_loading = undefined;\n  }\n\n  \n\n  \n  if (typeof (root._bokeh_timeout) === \"undefined\" || force === true) {\n    root._bokeh_timeout = Date.now() + 5000;\n    root._bokeh_failed_load = false;\n  }\n\n  var NB_LOAD_WARNING = {'data': {'text/html':\n     \"<div style='background-color: #fdd'>\\n\"+\n     \"<p>\\n\"+\n     \"BokehJS does not appear to have successfully loaded. If loading BokehJS from CDN, this \\n\"+\n     \"may be due to a slow or bad network connection. Possible fixes:\\n\"+\n     \"</p>\\n\"+\n     \"<ul>\\n\"+\n     \"<li>re-rerun `output_notebook()` to attempt to load from CDN again, or</li>\\n\"+\n     \"<li>use INLINE resources instead, as so:</li>\\n\"+\n     \"</ul>\\n\"+\n     \"<code>\\n\"+\n     \"from bokeh.resources import INLINE\\n\"+\n     \"output_notebook(resources=INLINE)\\n\"+\n     \"</code>\\n\"+\n     \"</div>\"}};\n\n  function display_loaded() {\n    var el = document.getElementById(\"f63cf85e-d8e6-4913-916b-fc29c08038c2\");\n    if (el != null) {\n      el.textContent = \"BokehJS is loading...\";\n    }\n    if (root.Bokeh !== undefined) {\n      if (el != null) {\n        el.textContent = \"BokehJS \" + root.Bokeh.version + \" successfully loaded.\";\n      }\n    } else if (Date.now() < root._bokeh_timeout) {\n      setTimeout(display_loaded, 100)\n    }\n  }\n\n\n  function run_callbacks() {\n    try {\n      root._bokeh_onload_callbacks.forEach(function(callback) { callback() });\n    }\n    finally {\n      delete root._bokeh_onload_callbacks\n    }\n    console.info(\"Bokeh: all callbacks have finished\");\n  }\n\n  function load_libs(js_urls, callback) {\n    root._bokeh_onload_callbacks.push(callback);\n    if (root._bokeh_is_loading > 0) {\n      console.log(\"Bokeh: BokehJS is being loaded, scheduling callback at\", now());\n      return null;\n    }\n    if (js_urls == null || js_urls.length === 0) {\n      run_callbacks();\n      return null;\n    }\n    console.log(\"Bokeh: BokehJS not loaded, scheduling load and callback at\", now());\n    root._bokeh_is_loading = js_urls.length;\n    for (var i = 0; i < js_urls.length; i++) {\n      var url = js_urls[i];\n      var s = document.createElement('script');\n      s.src = url;\n      s.async = false;\n      s.onreadystatechange = s.onload = function() {\n        root._bokeh_is_loading--;\n        if (root._bokeh_is_loading === 0) {\n          console.log(\"Bokeh: all BokehJS libraries loaded\");\n          run_callbacks()\n        }\n      };\n      s.onerror = function() {\n        console.warn(\"failed to load library \" + url);\n      };\n      console.log(\"Bokeh: injecting script tag for BokehJS library: \", url);\n      document.getElementsByTagName(\"head\")[0].appendChild(s);\n    }\n  };var element = document.getElementById(\"f63cf85e-d8e6-4913-916b-fc29c08038c2\");\n  if (element == null) {\n    console.log(\"Bokeh: ERROR: autoload.js configured with elementid 'f63cf85e-d8e6-4913-916b-fc29c08038c2' but no matching script tag was found. \")\n    return false;\n  }\n\n  var js_urls = [\"https://cdn.pydata.org/bokeh/release/bokeh-0.12.10.min.js\", \"https://cdn.pydata.org/bokeh/release/bokeh-widgets-0.12.10.min.js\", \"https://cdn.pydata.org/bokeh/release/bokeh-tables-0.12.10.min.js\", \"https://cdn.pydata.org/bokeh/release/bokeh-gl-0.12.10.min.js\"];\n\n  var inline_js = [\n    function(Bokeh) {\n      Bokeh.set_log_level(\"info\");\n    },\n    \n    function(Bokeh) {\n      \n    },\n    function(Bokeh) {\n      console.log(\"Bokeh: injecting CSS: https://cdn.pydata.org/bokeh/release/bokeh-0.12.10.min.css\");\n      Bokeh.embed.inject_css(\"https://cdn.pydata.org/bokeh/release/bokeh-0.12.10.min.css\");\n      console.log(\"Bokeh: injecting CSS: https://cdn.pydata.org/bokeh/release/bokeh-widgets-0.12.10.min.css\");\n      Bokeh.embed.inject_css(\"https://cdn.pydata.org/bokeh/release/bokeh-widgets-0.12.10.min.css\");\n      console.log(\"Bokeh: injecting CSS: https://cdn.pydata.org/bokeh/release/bokeh-tables-0.12.10.min.css\");\n      Bokeh.embed.inject_css(\"https://cdn.pydata.org/bokeh/release/bokeh-tables-0.12.10.min.css\");\n    }\n  ];\n\n  function run_inline_js() {\n    \n    if ((root.Bokeh !== undefined) || (force === true)) {\n      for (var i = 0; i < inline_js.length; i++) {\n        inline_js[i].call(root, root.Bokeh);\n      }if (force === true) {\n        display_loaded();\n      }} else if (Date.now() < root._bokeh_timeout) {\n      setTimeout(run_inline_js, 100);\n    } else if (!root._bokeh_failed_load) {\n      console.log(\"Bokeh: BokehJS failed to load within specified timeout.\");\n      root._bokeh_failed_load = true;\n    } else if (force !== true) {\n      var cell = $(document.getElementById(\"f63cf85e-d8e6-4913-916b-fc29c08038c2\")).parents('.cell').data().cell;\n      cell.output_area.append_execute_result(NB_LOAD_WARNING)\n    }\n\n  }\n\n  if (root._bokeh_is_loading === 0) {\n    console.log(\"Bokeh: BokehJS loaded, going straight to plotting\");\n    run_inline_js();\n  } else {\n    load_libs(js_urls, function() {\n      console.log(\"Bokeh: BokehJS plotting callback run at\", now());\n      run_inline_js();\n    });\n  }\n}(window));"
     },
     "metadata": {},
     "output_type": "display_data"
    }
   ],
   "source": [
    "output_notebook()"
   ]
  },
  {
   "cell_type": "markdown",
   "metadata": {},
   "source": [
    "#### Other tools\n",
    "Other tools to add to the right hand side of the plot can be selected from a list."
   ]
  },
  {
   "cell_type": "code",
   "execution_count": 12,
   "metadata": {
    "collapsed": true,
    "hideCode": false,
    "hidePrompt": false
   },
   "outputs": [],
   "source": [
    "TOOLS = [BoxSelectTool(), hover, 'tap','box_zoom','reset', 'crosshair'] #,HoverTool()] # just say 'HoverTool()' for the default"
   ]
  },
  {
   "cell_type": "markdown",
   "metadata": {
    "hideCode": false,
    "hidePrompt": false
   },
   "source": [
    "## Add Alpha and size data\n",
    "\n",
    "'Alpha' is the transparency or 'brightness' of the dots.  The formula below ensures that low-cited articles are dimmer than the bright ones.  This has quite a subtle effect on the final plot and can be removed, but it does help to make individual articles stand out , even if their coloring puts then in a group that has low citations.\n",
    "\n",
    "'Sizes' is our setting for the size of the dots.  I used to use this to help accentuate highly cited papers, but I decided that it made the plot look cluttered.  Perhaps it's worth uncommenting this line if you are using a small dataset."
   ]
  },
  {
   "cell_type": "code",
   "execution_count": 13,
   "metadata": {
    "collapsed": true,
    "hideCode": false,
    "hidePrompt": false
   },
   "outputs": [],
   "source": [
    "# data['Sizes'] = 3+(1.5*(np.log(1+data.Citations)))\n",
    "data['Alpha'] = 0.1+(0.3*np.log2(1+data.Citations))"
   ]
  },
  {
   "cell_type": "markdown",
   "metadata": {
    "hideCode": false,
    "hidePrompt": false
   },
   "source": [
    "## Colour clusters by average citation rates\n",
    "This is where we define our colour scheme. "
   ]
  },
  {
   "cell_type": "code",
   "execution_count": 14,
   "metadata": {
    "collapsed": true,
    "hideCode": false,
    "hidePrompt": false
   },
   "outputs": [],
   "source": [
    "\n",
    "sns.palplot(sns.color_palette(\"YlOrRd\", 50)[::-1])"
   ]
  },
  {
   "cell_type": "code",
   "execution_count": 15,
   "metadata": {
    "collapsed": true,
    "hideCode": false,
    "hidePrompt": false
   },
   "outputs": [],
   "source": [
    "cit_col_ls = []\n",
    "avcits = data.groupby('Cluster_no')['Citations'].mean()\n",
    "maxav = avcits.max()\n",
    "minav = avcits.min()\n",
    "avrange = maxav-minav\n",
    "palette = sns.color_palette(\"YlOrRd\", n_clusters+1).as_hex()[::-1] # note +1 to fix rounding errors\n",
    "# palette2 = ['#%02x%02x%02x'%(int(y) for y in x) for x in palette]\n",
    "# palette2\n",
    "i=0\n",
    "so = data['SO'].tolist()\n",
    "color_numerics=[]\n",
    "for cl_no in data['Cluster_no'].tolist():\n",
    "    \n",
    "    if so[i] == journal_of_interest:\n",
    "        cit_col_ls.append('#7ec0ee') # this colour is a bright sky-blue.  'green' or maybe purple would show up well, too\n",
    "    else:\n",
    "        cl_avcit = n_clusters*(avcits[cl_no]-minav)/avrange # gets the relative position of the cluster's average cites in the distribution\n",
    "        color_numerics.append(cl_avcit)\n",
    "        colr = palette[int(cl_avcit)]\n",
    "        cit_col_ls.append(colr)\n",
    "    i+=1\n",
    "data['Cit_col'] = cit_col_ls   \n",
    "# cit_col_ls"
   ]
  },
  {
   "cell_type": "markdown",
   "metadata": {},
   "source": [
    "Check the distribution of the colours.  In some datasets, you'll find a poor distribution of red/orange/yellow simply due to the distribution of citations in the dataset.  Worth fiddling with the code to make the diferences stand out.  "
   ]
  },
  {
   "cell_type": "code",
   "execution_count": 16,
   "metadata": {},
   "outputs": [
    {
     "data": {
      "text/plain": [
       "<matplotlib.axes._subplots.AxesSubplot at 0x21db41980f0>"
      ]
     },
     "execution_count": 16,
     "metadata": {},
     "output_type": "execute_result"
    }
   ],
   "source": [
    "pd.Series(color_numerics).hist()"
   ]
  },
  {
   "cell_type": "markdown",
   "metadata": {
    "hideCode": false,
    "hidePrompt": false
   },
   "source": [
    "## Build plot\n",
    "This is where we define the figure itself using the Bokeh package."
   ]
  },
  {
   "cell_type": "code",
   "execution_count": 17,
   "metadata": {
    "collapsed": true,
    "hideCode": false,
    "hidePrompt": false
   },
   "outputs": [],
   "source": [
    "from bokeh.io import show\n",
    "from bokeh.models import ColumnDataSource\n",
    "from bokeh.palettes import RdBu3\n",
    "from bokeh.plotting import figure\n",
    "\n",
    "# https://stackoverflow.com/questions/41856999/bokeh-plots-just-bring-up-a-blank-window\n",
    "# BOKEH_RESOURCES=inline\n",
    "\n",
    "\n",
    "# plotting\n",
    "p = figure(plot_width=950, plot_height=600,\n",
    "           title=plot_title,  # specified in the config file!\n",
    "           tools=TOOLS,\n",
    "          x_axis_label = \"Textual similarity axis_1 (arbitrary units)\",\n",
    "          y_axis_label = 'Textual similarity axis_2 (arbitrary units)') # , active_inspect=None)\n",
    "\n",
    "# p.toolbar.active_inspect = ['crosshair', hover]\n",
    "\n",
    "p.background_fill_color = \"black\"\n",
    "\n",
    "p.circle(x = 'TSNE1', \n",
    "         y = 'TSNE2', \n",
    "#           legend = 'Division',\n",
    "#          size = 'Sizes',\n",
    "         color = 'Cit_col', # Cit_col',#'j_col', #'cit_colr', # #841F27', #'Color',\n",
    "         alpha = 0.2, #'Alpha', \n",
    "         line_alpha = 0,\n",
    "         source = ColumnDataSource(data))  # This conversion to ColumnDataSource is crucial.\n",
    "\n",
    "p.legend.location = \"bottom_right\"\n",
    "# p.legend.text = div_colors\n",
    "\n",
    "output_file(tfidf_filename,\n",
    "           mode = 'inline')  # toggle for write-to-file\n",
    "\n",
    "\n",
    "# add links\n",
    "url = \"@Link\"\n",
    "taptool = p.select(type=TapTool)\n",
    "taptool.callback = OpenURL(url=url)"
   ]
  },
  {
   "cell_type": "code",
   "execution_count": 18,
   "metadata": {
    "hideCode": false,
    "hidePrompt": false,
    "scrolled": false
   },
   "outputs": [
    {
     "data": {
      "text/html": [
       "\n",
       "<div class=\"bk-root\">\n",
       "    <div class=\"bk-plotdiv\" id=\"74096571-6804-4a24-852d-f0dc1722760a\"></div>\n",
       "</div>"
      ]
     },
     "metadata": {},
     "output_type": "display_data"
    },
    {
     "name": "stderr",
     "output_type": "stream",
     "text": [
      "IOPub data rate exceeded.\n",
      "The notebook server will temporarily stop sending output\n",
      "to the client in order to avoid crashing it.\n",
      "To change this limit, set the config variable\n",
      "`--NotebookApp.iopub_data_rate_limit`.\n"
     ]
    }
   ],
   "source": [
    "show(p)"
   ]
  },
  {
   "cell_type": "markdown",
   "metadata": {
    "hideCode": false,
    "hidePrompt": false
   },
   "source": [
    "### Add bar plots\n",
    "Now that the plot is completed, there are a few simple images that might help to describe the data."
   ]
  },
  {
   "cell_type": "code",
   "execution_count": null,
   "metadata": {
    "collapsed": true,
    "hideCode": false,
    "hidePrompt": false
   },
   "outputs": [],
   "source": [
    "# % matplotlib inline\n",
    "df = pd.read_csv('data/cluster_data.csv', index_col=0)\n",
    "df.sample(1)"
   ]
  },
  {
   "cell_type": "code",
   "execution_count": null,
   "metadata": {
    "collapsed": true,
    "hideCode": false,
    "hidePrompt": false
   },
   "outputs": [],
   "source": [
    "df.dtypes"
   ]
  },
  {
   "cell_type": "code",
   "execution_count": null,
   "metadata": {
    "collapsed": true,
    "hideCode": false,
    "hidePrompt": false
   },
   "outputs": [],
   "source": [
    "# Convert Cluster to category data type\n",
    "df['Cluster'] = df['Cluster'].astype(str).astype('category', ordered = True)\n",
    "#check\n",
    "df.dtypes"
   ]
  },
  {
   "cell_type": "markdown",
   "metadata": {
    "hideCode": false,
    "hidePrompt": false
   },
   "source": [
    "### With Seaborn\n",
    "Means first"
   ]
  },
  {
   "cell_type": "code",
   "execution_count": null,
   "metadata": {
    "collapsed": true,
    "hideCode": false,
    "hidePrompt": false
   },
   "outputs": [],
   "source": [
    "x = 'Cluster'\n",
    "y = 'mean_cites'\n",
    "\n",
    "df.Cluster = df.sort_values(y).Cluster\n",
    "df = df.sort_values(y, ascending = False)\n",
    "df.Cluster.cat.ordered\n",
    "# df['Cluster'] = df['Cluster'].cat.reorder_categories(list(df['Cluster']), ordered=True)"
   ]
  },
  {
   "cell_type": "code",
   "execution_count": null,
   "metadata": {
    "collapsed": true,
    "hideCode": false,
    "hidePrompt": false,
    "scrolled": false
   },
   "outputs": [],
   "source": [
    "import matplotlib.pyplot as plt\n",
    "f, ax = plt.subplots(figsize=(20, 12))\n",
    "p = sns.barplot(data = df, \n",
    "            x=df[y],\n",
    "            y=df[x],\n",
    "            color = 'b',\n",
    "            orient='h',\n",
    "            order = df[x]).set_title('Citation rates for {} split into 50 K-Means clusters'.format(c.set_name))\n",
    "# p.set_xticklabels(labels = df[x],rotation=90)\n",
    "ax.set(xlabel='Mean citations', ylabel='Cluster')\n",
    "plt.savefig('outputs/K_Means_Barplot_means.png')\n",
    "p"
   ]
  },
  {
   "cell_type": "markdown",
   "metadata": {},
   "source": [
    "Now plot the medians"
   ]
  },
  {
   "cell_type": "code",
   "execution_count": null,
   "metadata": {
    "collapsed": true,
    "hideCode": false,
    "hidePrompt": false
   },
   "outputs": [],
   "source": [
    "import seaborn as sns\n",
    "\n",
    "df = pd.DataFrame(data.groupby('Cluster')['Citations'].median())\n",
    "df.reset_index(level=0, inplace=True)"
   ]
  },
  {
   "cell_type": "code",
   "execution_count": null,
   "metadata": {
    "collapsed": true,
    "hideCode": false,
    "hidePrompt": false
   },
   "outputs": [],
   "source": [
    "df.columns = ['Cluster', 'Median citations']\n",
    "df.Cluster = df.Cluster.astype('category')\n",
    "df.head()"
   ]
  },
  {
   "cell_type": "code",
   "execution_count": null,
   "metadata": {
    "collapsed": true,
    "hideCode": false,
    "hidePrompt": false
   },
   "outputs": [],
   "source": [
    "x = 'Cluster'\n",
    "y = 'Median citations'"
   ]
  },
  {
   "cell_type": "code",
   "execution_count": null,
   "metadata": {
    "collapsed": true,
    "hideCode": false,
    "hidePrompt": false
   },
   "outputs": [],
   "source": [
    "df[x] = df.sort_values(y).Cluster"
   ]
  },
  {
   "cell_type": "code",
   "execution_count": null,
   "metadata": {
    "collapsed": true,
    "hideCode": false,
    "hidePrompt": false
   },
   "outputs": [],
   "source": [
    "df = df.sort_values(y, ascending = False)\n",
    "df.Cluster.cat.ordered"
   ]
  },
  {
   "cell_type": "code",
   "execution_count": null,
   "metadata": {
    "collapsed": true,
    "hideCode": false,
    "hidePrompt": false
   },
   "outputs": [],
   "source": [
    "import matplotlib.pyplot as plt\n",
    "f, ax = plt.subplots(figsize=(20, 12))\n",
    "p = sns.barplot(data = df, \n",
    "            x=df[y],\n",
    "            y=df[x],\n",
    "            color = 'b',\n",
    "            orient='h',\n",
    "            order = df[x]).set_title('Citation rates for {} into 50 K-Means clusters'.format(c.set_name))\n",
    "# p.set_xticklabels(labels = df[x],rotation=90)\n",
    "ax.set(xlabel='Median citations', ylabel='Cluster')\n",
    "plt.savefig('outputs/K_Means_Barplot_medians.png')\n",
    "p"
   ]
  },
  {
   "cell_type": "markdown",
   "metadata": {
    "hideCode": false,
    "hidePrompt": false
   },
   "source": [
    "## Show relative sizes of journals over the years"
   ]
  },
  {
   "cell_type": "code",
   "execution_count": null,
   "metadata": {
    "collapsed": true,
    "hideCode": false,
    "hidePrompt": false,
    "scrolled": true
   },
   "outputs": [],
   "source": [
    "# see clusters 15, 47, 10\n",
    "\n",
    "bar_df = pd.DataFrame(data.groupby(['SO',\n",
    "#                                     'Cluster',\n",
    "                                    'PY']).size().reset_index(name=\"Count\"))\n",
    "\n",
    "# bar_df.columns\n",
    "bar_df.sample()"
   ]
  },
  {
   "cell_type": "code",
   "execution_count": null,
   "metadata": {
    "collapsed": true,
    "hideCode": false,
    "hidePrompt": false
   },
   "outputs": [],
   "source": [
    "f, ax = plt.subplots(figsize=(20, 12))\n",
    "p = sns.factorplot(data = bar_df, \n",
    "                   ax =ax,\n",
    "            x='PY',\n",
    "            y='Count',\n",
    "#                     fit_reg=False,\n",
    "                   kind='bar',\n",
    "            hue = 'SO')\n",
    "# plt.title('Citations per year for cluster 15')\n",
    "# p.set_xticklabels(labels = df[x],rotation=90)\n",
    "# plt.savefig('outputs/Cluster_15_Barplot.png') #image not saving correctly\n",
    "plt"
   ]
  }
 ],
 "metadata": {
  "hide_code_all_hidden": false,
  "kernelspec": {
   "display_name": "Python 3",
   "language": "python",
   "name": "python3"
  },
  "language_info": {
   "codemirror_mode": {
    "name": "ipython",
    "version": 3
   },
   "file_extension": ".py",
   "mimetype": "text/x-python",
   "name": "python",
   "nbconvert_exporter": "python",
   "pygments_lexer": "ipython3",
   "version": "3.6.3"
  }
 },
 "nbformat": 4,
 "nbformat_minor": 2
}
