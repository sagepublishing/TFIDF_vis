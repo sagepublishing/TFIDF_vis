{
 "cells": [
  {
   "cell_type": "markdown",
   "metadata": {
    "hideCode": false,
    "hidePrompt": false
   },
   "source": [
    "### Visualisation with Bokeh\n",
    "This is just a simple piece of visualisation code to display the text data which has been processed in other notebooks.  "
   ]
  },
  {
   "cell_type": "code",
   "execution_count": 1,
   "metadata": {
    "hideCode": false,
    "hidePrompt": false
   },
   "outputs": [
    {
     "name": "stdout",
     "output_type": "stream",
     "text": [
      "------------------------------------------------------\n",
      "Step 5:  Creating visualisation\n",
      "2018-04-04 10:35:55.050354\n",
      "------------------------------------------------------\n"
     ]
    }
   ],
   "source": [
    "print('------------------------------------------------------')\n",
    "print('Step 5:  Creating visualisation')\n",
    "from datetime import datetime as dt\n",
    "print(dt.now())\n",
    "print('------------------------------------------------------')"
   ]
  },
  {
   "cell_type": "code",
   "execution_count": 2,
   "metadata": {
    "collapsed": true,
    "hideCode": false,
    "hidePrompt": false
   },
   "outputs": [],
   "source": [
    "import pandas as pd\n",
    "import numpy as np\n",
    "import pickle\n",
    "\n",
    "# %matplotlib inline\n",
    "import matplotlib.pyplot as plt\n",
    "import seaborn as sns\n",
    "\n",
    "\n",
    "from bokeh.plotting import *\n",
    "# from bokeh.models import ColumnDataSource, OpenURL, TapTool\n",
    "from bokeh.models import *\n",
    "from bokeh.io import output_notebook"
   ]
  },
  {
   "cell_type": "code",
   "execution_count": 3,
   "metadata": {
    "collapsed": true,
    "hideCode": false,
    "hidePrompt": false
   },
   "outputs": [],
   "source": [
    "from config import Config as c\n",
    "tfidf_filename = c.tfidf_filename\n",
    "bar_filename = c.bar_filename\n",
    "plot_title = c.title\n",
    "doi_datapath = c.dois_pkl\n",
    "working_data = c.working_data\n",
    "set_name = c.set_name\n",
    "# test_set = c.test_set\n",
    "n_clusters = c.n_clusters\n",
    "journal_of_interest = c.joi"
   ]
  },
  {
   "cell_type": "code",
   "execution_count": 4,
   "metadata": {
    "collapsed": true,
    "hideCode": false,
    "hidePrompt": false
   },
   "outputs": [],
   "source": [
    "# global variable\n",
    "dois = pickle.load(open(doi_datapath,'rb'))"
   ]
  },
  {
   "cell_type": "code",
   "execution_count": 5,
   "metadata": {
    "hideCode": false,
    "hidePrompt": false
   },
   "outputs": [
    {
     "data": {
      "text/html": [
       "<div>\n",
       "<style scoped>\n",
       "    .dataframe tbody tr th:only-of-type {\n",
       "        vertical-align: middle;\n",
       "    }\n",
       "\n",
       "    .dataframe tbody tr th {\n",
       "        vertical-align: top;\n",
       "    }\n",
       "\n",
       "    .dataframe thead th {\n",
       "        text-align: right;\n",
       "    }\n",
       "</style>\n",
       "<table border=\"1\" class=\"dataframe\">\n",
       "  <thead>\n",
       "    <tr style=\"text-align: right;\">\n",
       "      <th></th>\n",
       "      <th>DI</th>\n",
       "      <th>PY</th>\n",
       "      <th>TI</th>\n",
       "      <th>AB</th>\n",
       "      <th>WD</th>\n",
       "      <th>AU</th>\n",
       "      <th>EM</th>\n",
       "      <th>AF</th>\n",
       "      <th>SO</th>\n",
       "      <th>SC</th>\n",
       "      <th>...</th>\n",
       "      <th>highly_cited_1</th>\n",
       "      <th>highly_cited_10</th>\n",
       "      <th>highly_cited_5</th>\n",
       "      <th>recent_citations</th>\n",
       "      <th>relative_citation_ratio</th>\n",
       "      <th>times_cited</th>\n",
       "      <th>Citations</th>\n",
       "      <th>Cluster</th>\n",
       "      <th>Cluster_no</th>\n",
       "      <th>Article_kws</th>\n",
       "    </tr>\n",
       "  </thead>\n",
       "  <tbody>\n",
       "    <tr>\n",
       "      <th>800</th>\n",
       "      <td>10.1016/j.ijedudev.2014.02.005</td>\n",
       "      <td>2014</td>\n",
       "      <td>Academic effectiveness of private, public and ...</td>\n",
       "      <td>recent years, there has been major growth in l...</td>\n",
       "      <td>Academic effectiveness of private, public and ...</td>\n",
       "      <td>Amjad, R; MacLeod, G</td>\n",
       "      <td>ravish.ita@gmail.com</td>\n",
       "      <td>Amjad, Ravish; MacLeod, Gordon</td>\n",
       "      <td>INTERNATIONAL JOURNAL OF EDUCATIONAL DEVELOPMENT</td>\n",
       "      <td>Education &amp; Educational Research</td>\n",
       "      <td>...</td>\n",
       "      <td>False</td>\n",
       "      <td>False</td>\n",
       "      <td>False</td>\n",
       "      <td>5</td>\n",
       "      <td>NaN</td>\n",
       "      <td>5</td>\n",
       "      <td>5</td>\n",
       "      <td>['school', 'student', 'privat']</td>\n",
       "      <td>11</td>\n",
       "      <td>['privat', 'outperform', 'school']</td>\n",
       "    </tr>\n",
       "    <tr>\n",
       "      <th>1264</th>\n",
       "      <td>10.1177/1367493510397624</td>\n",
       "      <td>2011</td>\n",
       "      <td>The importance of including both a child persp...</td>\n",
       "      <td>The UN Convention on the Rights of the Child (...</td>\n",
       "      <td>The importance of including both a child persp...</td>\n",
       "      <td>Soderback, M; Coyne, I; Harder, M</td>\n",
       "      <td>maja.soderback@mdh.se</td>\n",
       "      <td>Soderback, Maja; Coyne, Imelda; Harder, Maria</td>\n",
       "      <td>JOURNAL OF CHILD HEALTH CARE</td>\n",
       "      <td>Nursing; Pediatrics</td>\n",
       "      <td>...</td>\n",
       "      <td>False</td>\n",
       "      <td>True</td>\n",
       "      <td>False</td>\n",
       "      <td>24</td>\n",
       "      <td>3.89</td>\n",
       "      <td>58</td>\n",
       "      <td>58</td>\n",
       "      <td>['servic', 'care', 'famili']</td>\n",
       "      <td>4</td>\n",
       "      <td>['child', 'perspect', 'care']</td>\n",
       "    </tr>\n",
       "    <tr>\n",
       "      <th>548</th>\n",
       "      <td>10.1111/j.1365-2214.2010.01125.x</td>\n",
       "      <td>2011</td>\n",
       "      <td>Parent and service providers' perceptions rega...</td>\n",
       "      <td>Background Family-centred service (FCS) provis...</td>\n",
       "      <td>Parent and service providers' perceptions rega...</td>\n",
       "      <td>Dickens, K; Matthews, LR; Thompson, J</td>\n",
       "      <td>NaN</td>\n",
       "      <td>Dickens, K.; Matthews, L. R.; Thompson, J.</td>\n",
       "      <td>CHILD CARE HEALTH AND DEVELOPMENT</td>\n",
       "      <td>Psychology; Pediatrics</td>\n",
       "      <td>...</td>\n",
       "      <td>False</td>\n",
       "      <td>False</td>\n",
       "      <td>False</td>\n",
       "      <td>8</td>\n",
       "      <td>2.28</td>\n",
       "      <td>24</td>\n",
       "      <td>24</td>\n",
       "      <td>['servic', 'care', 'famili']</td>\n",
       "      <td>4</td>\n",
       "      <td>['fcs', 'servic', 'rehabilit']</td>\n",
       "    </tr>\n",
       "    <tr>\n",
       "      <th>1270</th>\n",
       "      <td>10.1177/1367493510385020</td>\n",
       "      <td>2011</td>\n",
       "      <td>Diet and sleep in children with attention defi...</td>\n",
       "      <td>Sleep disturbances are common and consequentia...</td>\n",
       "      <td>Diet and sleep in children with attention defi...</td>\n",
       "      <td>Blunden, SL; Milte, CM; Sinn, N</td>\n",
       "      <td>sarah.blunden@unisa.edu.au</td>\n",
       "      <td>Blunden, Sarah Lee; Milte, Catherine M.; Sinn,...</td>\n",
       "      <td>JOURNAL OF CHILD HEALTH CARE</td>\n",
       "      <td>Nursing; Pediatrics</td>\n",
       "      <td>...</td>\n",
       "      <td>False</td>\n",
       "      <td>False</td>\n",
       "      <td>False</td>\n",
       "      <td>2</td>\n",
       "      <td>0.30</td>\n",
       "      <td>4</td>\n",
       "      <td>4</td>\n",
       "      <td>['sleep', 'adhd', 'depress']</td>\n",
       "      <td>7</td>\n",
       "      <td>['sleep', 'diet', 'adhd']</td>\n",
       "    </tr>\n",
       "    <tr>\n",
       "      <th>1236</th>\n",
       "      <td>10.1177/1367493511423649</td>\n",
       "      <td>2012</td>\n",
       "      <td>Sibling involvement in childhood chronic heart...</td>\n",
       "      <td>In interviews with parents for the evaluation ...</td>\n",
       "      <td>Sibling involvement in childhood chronic heart...</td>\n",
       "      <td>Redshaw, S; Wilson, V</td>\n",
       "      <td>Valerie.wilson@health.nsw.gov.au</td>\n",
       "      <td>Redshaw, Sarah; Wilson, Valerie</td>\n",
       "      <td>JOURNAL OF CHILD HEALTH CARE</td>\n",
       "      <td>Nursing; Pediatrics</td>\n",
       "      <td>...</td>\n",
       "      <td>False</td>\n",
       "      <td>False</td>\n",
       "      <td>False</td>\n",
       "      <td>0</td>\n",
       "      <td>0.27</td>\n",
       "      <td>5</td>\n",
       "      <td>5</td>\n",
       "      <td>['activ', 'sibl', 'food']</td>\n",
       "      <td>13</td>\n",
       "      <td>['bead', 'sibl', 'heart']</td>\n",
       "    </tr>\n",
       "  </tbody>\n",
       "</table>\n",
       "<p>5 rows × 30 columns</p>\n",
       "</div>"
      ],
      "text/plain": [
       "                                    DI    PY  \\\n",
       "800     10.1016/j.ijedudev.2014.02.005  2014   \n",
       "1264          10.1177/1367493510397624  2011   \n",
       "548   10.1111/j.1365-2214.2010.01125.x  2011   \n",
       "1270          10.1177/1367493510385020  2011   \n",
       "1236          10.1177/1367493511423649  2012   \n",
       "\n",
       "                                                     TI  \\\n",
       "800   Academic effectiveness of private, public and ...   \n",
       "1264  The importance of including both a child persp...   \n",
       "548   Parent and service providers' perceptions rega...   \n",
       "1270  Diet and sleep in children with attention defi...   \n",
       "1236  Sibling involvement in childhood chronic heart...   \n",
       "\n",
       "                                                     AB  \\\n",
       "800   recent years, there has been major growth in l...   \n",
       "1264  The UN Convention on the Rights of the Child (...   \n",
       "548   Background Family-centred service (FCS) provis...   \n",
       "1270  Sleep disturbances are common and consequentia...   \n",
       "1236  In interviews with parents for the evaluation ...   \n",
       "\n",
       "                                                     WD  \\\n",
       "800   Academic effectiveness of private, public and ...   \n",
       "1264  The importance of including both a child persp...   \n",
       "548   Parent and service providers' perceptions rega...   \n",
       "1270  Diet and sleep in children with attention defi...   \n",
       "1236  Sibling involvement in childhood chronic heart...   \n",
       "\n",
       "                                         AU                                EM  \\\n",
       "800                    Amjad, R; MacLeod, G              ravish.ita@gmail.com   \n",
       "1264      Soderback, M; Coyne, I; Harder, M             maja.soderback@mdh.se   \n",
       "548   Dickens, K; Matthews, LR; Thompson, J                               NaN   \n",
       "1270        Blunden, SL; Milte, CM; Sinn, N        sarah.blunden@unisa.edu.au   \n",
       "1236                  Redshaw, S; Wilson, V  Valerie.wilson@health.nsw.gov.au   \n",
       "\n",
       "                                                     AF  \\\n",
       "800                      Amjad, Ravish; MacLeod, Gordon   \n",
       "1264      Soderback, Maja; Coyne, Imelda; Harder, Maria   \n",
       "548          Dickens, K.; Matthews, L. R.; Thompson, J.   \n",
       "1270  Blunden, Sarah Lee; Milte, Catherine M.; Sinn,...   \n",
       "1236                    Redshaw, Sarah; Wilson, Valerie   \n",
       "\n",
       "                                                    SO  \\\n",
       "800   INTERNATIONAL JOURNAL OF EDUCATIONAL DEVELOPMENT   \n",
       "1264                      JOURNAL OF CHILD HEALTH CARE   \n",
       "548                  CHILD CARE HEALTH AND DEVELOPMENT   \n",
       "1270                      JOURNAL OF CHILD HEALTH CARE   \n",
       "1236                      JOURNAL OF CHILD HEALTH CARE   \n",
       "\n",
       "                                    SC                 ...                  \\\n",
       "800   Education & Educational Research                 ...                   \n",
       "1264               Nursing; Pediatrics                 ...                   \n",
       "548             Psychology; Pediatrics                 ...                   \n",
       "1270               Nursing; Pediatrics                 ...                   \n",
       "1236               Nursing; Pediatrics                 ...                   \n",
       "\n",
       "     highly_cited_1 highly_cited_10  highly_cited_5  recent_citations  \\\n",
       "800           False           False           False                 5   \n",
       "1264          False            True           False                24   \n",
       "548           False           False           False                 8   \n",
       "1270          False           False           False                 2   \n",
       "1236          False           False           False                 0   \n",
       "\n",
       "     relative_citation_ratio  times_cited  Citations  \\\n",
       "800                      NaN            5          5   \n",
       "1264                    3.89           58         58   \n",
       "548                     2.28           24         24   \n",
       "1270                    0.30            4          4   \n",
       "1236                    0.27            5          5   \n",
       "\n",
       "                              Cluster Cluster_no  \\\n",
       "800   ['school', 'student', 'privat']         11   \n",
       "1264     ['servic', 'care', 'famili']          4   \n",
       "548      ['servic', 'care', 'famili']          4   \n",
       "1270     ['sleep', 'adhd', 'depress']          7   \n",
       "1236        ['activ', 'sibl', 'food']         13   \n",
       "\n",
       "                             Article_kws  \n",
       "800   ['privat', 'outperform', 'school']  \n",
       "1264       ['child', 'perspect', 'care']  \n",
       "548       ['fcs', 'servic', 'rehabilit']  \n",
       "1270           ['sleep', 'diet', 'adhd']  \n",
       "1236           ['bead', 'sibl', 'heart']  \n",
       "\n",
       "[5 rows x 30 columns]"
      ]
     },
     "execution_count": 5,
     "metadata": {},
     "output_type": "execute_result"
    }
   ],
   "source": [
    "# read data\n",
    "data = pd.read_csv(c.working_data,index_col = 0)\n",
    "# data[\"Cluster_no\"] = data[\"Cluster_no\"].astype('category')\n",
    "data.sample(5)"
   ]
  },
  {
   "cell_type": "markdown",
   "metadata": {
    "hideCode": false,
    "hidePrompt": false
   },
   "source": [
    "## Set NaNs in citations col to zero."
   ]
  },
  {
   "cell_type": "code",
   "execution_count": 6,
   "metadata": {
    "collapsed": true,
    "hideCode": false,
    "hidePrompt": false
   },
   "outputs": [],
   "source": [
    "data['Citations'] = data['Citations'].fillna(0)"
   ]
  },
  {
   "cell_type": "code",
   "execution_count": 7,
   "metadata": {
    "hideCode": false,
    "hidePrompt": false
   },
   "outputs": [
    {
     "name": "stdout",
     "output_type": "stream",
     "text": [
      "Showing data for the following journals:\n",
      "CHILD CARE HEALTH AND DEVELOPMENT                   559\n",
      "INTERNATIONAL JOURNAL OF EDUCATIONAL DEVELOPMENT    485\n",
      "JOURNAL OF CHILD HEALTH CARE                        232\n",
      "JOURNAL OF RESEARCH IN CHILDHOOD EDUCATION           76\n",
      "Name: SO, dtype: int64\n"
     ]
    }
   ],
   "source": [
    "print('Showing data for the following journals:')\n",
    "print(data['SO'].value_counts())"
   ]
  },
  {
   "cell_type": "code",
   "execution_count": 8,
   "metadata": {
    "collapsed": true,
    "hideCode": false,
    "hidePrompt": false
   },
   "outputs": [],
   "source": [
    "# for col in data.columns:\n",
    "#     print(col,': ',sum(data[col].isnull()))"
   ]
  },
  {
   "cell_type": "markdown",
   "metadata": {
    "hideCode": false,
    "hidePrompt": false
   },
   "source": [
    "## Bokeh code\n",
    "The first step is to define a few things that will go into the plot.\n",
    "\n",
    "#### Hover tool\n",
    "The hover tool defines what happens when you hover your mouse over the plot. "
   ]
  },
  {
   "cell_type": "code",
   "execution_count": 9,
   "metadata": {
    "collapsed": true
   },
   "outputs": [],
   "source": [
    "hover = HoverTool(\n",
    "        tooltips=[\n",
    "#             (\"index\", \"$index\"),\n",
    "#             (\"(x,y)\", \"($x, $y)\"),\n",
    "            (\"Journal\", \"@SO\"),\n",
    "            (\"DOI\", \"@DI\"),\n",
    "            (\"Article Keywords\",\"@Article_kws\"),\n",
    "            (\"Citations\", \"@Citations\"),\n",
    "            (\"Cluster_no\", \"@Cluster_no\"),\n",
    "            (\"Cluster Keywords\",\"@Cluster\")\n",
    "                ])"
   ]
  },
  {
   "cell_type": "code",
   "execution_count": 10,
   "metadata": {},
   "outputs": [
    {
     "data": {
      "text/html": [
       "\n",
       "    <div class=\"bk-root\">\n",
       "        <a href=\"https://bokeh.pydata.org\" target=\"_blank\" class=\"bk-logo bk-logo-small bk-logo-notebook\"></a>\n",
       "        <span id=\"8a125a5a-067b-43b7-8020-e91eb90ca266\">Loading BokehJS ...</span>\n",
       "    </div>"
      ]
     },
     "metadata": {},
     "output_type": "display_data"
    },
    {
     "data": {
      "application/javascript": [
       "\n",
       "(function(root) {\n",
       "  function now() {\n",
       "    return new Date();\n",
       "  }\n",
       "\n",
       "  var force = true;\n",
       "\n",
       "  if (typeof (root._bokeh_onload_callbacks) === \"undefined\" || force === true) {\n",
       "    root._bokeh_onload_callbacks = [];\n",
       "    root._bokeh_is_loading = undefined;\n",
       "  }\n",
       "\n",
       "  var JS_MIME_TYPE = 'application/javascript';\n",
       "  var HTML_MIME_TYPE = 'text/html';\n",
       "  var EXEC_MIME_TYPE = 'application/vnd.bokehjs_exec.v0+json';\n",
       "  var CLASS_NAME = 'output_bokeh rendered_html';\n",
       "\n",
       "  /**\n",
       "   * Render data to the DOM node\n",
       "   */\n",
       "  function render(props, node) {\n",
       "    var script = document.createElement(\"script\");\n",
       "    node.appendChild(script);\n",
       "  }\n",
       "\n",
       "  /**\n",
       "   * Handle when an output is cleared or removed\n",
       "   */\n",
       "  function handleClearOutput(event, handle) {\n",
       "    var cell = handle.cell;\n",
       "\n",
       "    var id = cell.output_area._bokeh_element_id;\n",
       "    var server_id = cell.output_area._bokeh_server_id;\n",
       "    // Clean up Bokeh references\n",
       "    if (id !== undefined) {\n",
       "      Bokeh.index[id].model.document.clear();\n",
       "      delete Bokeh.index[id];\n",
       "    }\n",
       "\n",
       "    if (server_id !== undefined) {\n",
       "      // Clean up Bokeh references\n",
       "      var cmd = \"from bokeh.io.state import curstate; print(curstate().uuid_to_server['\" + server_id + \"'].get_sessions()[0].document.roots[0]._id)\";\n",
       "      cell.notebook.kernel.execute(cmd, {\n",
       "        iopub: {\n",
       "          output: function(msg) {\n",
       "            var element_id = msg.content.text.trim();\n",
       "            Bokeh.index[element_id].model.document.clear();\n",
       "            delete Bokeh.index[element_id];\n",
       "          }\n",
       "        }\n",
       "      });\n",
       "      // Destroy server and session\n",
       "      var cmd = \"import bokeh.io.notebook as ion; ion.destroy_server('\" + server_id + \"')\";\n",
       "      cell.notebook.kernel.execute(cmd);\n",
       "    }\n",
       "  }\n",
       "\n",
       "  /**\n",
       "   * Handle when a new output is added\n",
       "   */\n",
       "  function handleAddOutput(event, handle) {\n",
       "    var output_area = handle.output_area;\n",
       "    var output = handle.output;\n",
       "\n",
       "    // limit handleAddOutput to display_data with EXEC_MIME_TYPE content only\n",
       "    if ((output.output_type != \"display_data\") || (!output.data.hasOwnProperty(EXEC_MIME_TYPE))) {\n",
       "      return\n",
       "    }\n",
       "\n",
       "    var toinsert = output_area.element.find(`.${CLASS_NAME.split(' ')[0]}`);\n",
       "\n",
       "    if (output.metadata[EXEC_MIME_TYPE][\"id\"] !== undefined) {\n",
       "      toinsert[0].firstChild.textContent = output.data[JS_MIME_TYPE];\n",
       "      // store reference to embed id on output_area\n",
       "      output_area._bokeh_element_id = output.metadata[EXEC_MIME_TYPE][\"id\"];\n",
       "    }\n",
       "    if (output.metadata[EXEC_MIME_TYPE][\"server_id\"] !== undefined) {\n",
       "      var bk_div = document.createElement(\"div\");\n",
       "      bk_div.innerHTML = output.data[HTML_MIME_TYPE];\n",
       "      var script_attrs = bk_div.children[0].attributes;\n",
       "      for (var i = 0; i < script_attrs.length; i++) {\n",
       "        toinsert[0].firstChild.setAttribute(script_attrs[i].name, script_attrs[i].value);\n",
       "      }\n",
       "      // store reference to server id on output_area\n",
       "      output_area._bokeh_server_id = output.metadata[EXEC_MIME_TYPE][\"server_id\"];\n",
       "    }\n",
       "  }\n",
       "\n",
       "  function register_renderer(events, OutputArea) {\n",
       "\n",
       "    function append_mime(data, metadata, element) {\n",
       "      // create a DOM node to render to\n",
       "      var toinsert = this.create_output_subarea(\n",
       "        metadata,\n",
       "        CLASS_NAME,\n",
       "        EXEC_MIME_TYPE\n",
       "      );\n",
       "      this.keyboard_manager.register_events(toinsert);\n",
       "      // Render to node\n",
       "      var props = {data: data, metadata: metadata[EXEC_MIME_TYPE]};\n",
       "      render(props, toinsert[0]);\n",
       "      element.append(toinsert);\n",
       "      return toinsert\n",
       "    }\n",
       "\n",
       "    /* Handle when an output is cleared or removed */\n",
       "    events.on('clear_output.CodeCell', handleClearOutput);\n",
       "    events.on('delete.Cell', handleClearOutput);\n",
       "\n",
       "    /* Handle when a new output is added */\n",
       "    events.on('output_added.OutputArea', handleAddOutput);\n",
       "\n",
       "    /**\n",
       "     * Register the mime type and append_mime function with output_area\n",
       "     */\n",
       "    OutputArea.prototype.register_mime_type(EXEC_MIME_TYPE, append_mime, {\n",
       "      /* Is output safe? */\n",
       "      safe: true,\n",
       "      /* Index of renderer in `output_area.display_order` */\n",
       "      index: 0\n",
       "    });\n",
       "  }\n",
       "\n",
       "  // register the mime type if in Jupyter Notebook environment and previously unregistered\n",
       "  if (root.Jupyter !== undefined) {\n",
       "    var events = require('base/js/events');\n",
       "    var OutputArea = require('notebook/js/outputarea').OutputArea;\n",
       "\n",
       "    if (OutputArea.prototype.mime_types().indexOf(EXEC_MIME_TYPE) == -1) {\n",
       "      register_renderer(events, OutputArea);\n",
       "    }\n",
       "  }\n",
       "\n",
       "  \n",
       "  if (typeof (root._bokeh_timeout) === \"undefined\" || force === true) {\n",
       "    root._bokeh_timeout = Date.now() + 5000;\n",
       "    root._bokeh_failed_load = false;\n",
       "  }\n",
       "\n",
       "  var NB_LOAD_WARNING = {'data': {'text/html':\n",
       "     \"<div style='background-color: #fdd'>\\n\"+\n",
       "     \"<p>\\n\"+\n",
       "     \"BokehJS does not appear to have successfully loaded. If loading BokehJS from CDN, this \\n\"+\n",
       "     \"may be due to a slow or bad network connection. Possible fixes:\\n\"+\n",
       "     \"</p>\\n\"+\n",
       "     \"<ul>\\n\"+\n",
       "     \"<li>re-rerun `output_notebook()` to attempt to load from CDN again, or</li>\\n\"+\n",
       "     \"<li>use INLINE resources instead, as so:</li>\\n\"+\n",
       "     \"</ul>\\n\"+\n",
       "     \"<code>\\n\"+\n",
       "     \"from bokeh.resources import INLINE\\n\"+\n",
       "     \"output_notebook(resources=INLINE)\\n\"+\n",
       "     \"</code>\\n\"+\n",
       "     \"</div>\"}};\n",
       "\n",
       "  function display_loaded() {\n",
       "    var el = document.getElementById(\"8a125a5a-067b-43b7-8020-e91eb90ca266\");\n",
       "    if (el != null) {\n",
       "      el.textContent = \"BokehJS is loading...\";\n",
       "    }\n",
       "    if (root.Bokeh !== undefined) {\n",
       "      if (el != null) {\n",
       "        el.textContent = \"BokehJS \" + root.Bokeh.version + \" successfully loaded.\";\n",
       "      }\n",
       "    } else if (Date.now() < root._bokeh_timeout) {\n",
       "      setTimeout(display_loaded, 100)\n",
       "    }\n",
       "  }\n",
       "\n",
       "\n",
       "  function run_callbacks() {\n",
       "    try {\n",
       "      root._bokeh_onload_callbacks.forEach(function(callback) { callback() });\n",
       "    }\n",
       "    finally {\n",
       "      delete root._bokeh_onload_callbacks\n",
       "    }\n",
       "    console.info(\"Bokeh: all callbacks have finished\");\n",
       "  }\n",
       "\n",
       "  function load_libs(js_urls, callback) {\n",
       "    root._bokeh_onload_callbacks.push(callback);\n",
       "    if (root._bokeh_is_loading > 0) {\n",
       "      console.log(\"Bokeh: BokehJS is being loaded, scheduling callback at\", now());\n",
       "      return null;\n",
       "    }\n",
       "    if (js_urls == null || js_urls.length === 0) {\n",
       "      run_callbacks();\n",
       "      return null;\n",
       "    }\n",
       "    console.log(\"Bokeh: BokehJS not loaded, scheduling load and callback at\", now());\n",
       "    root._bokeh_is_loading = js_urls.length;\n",
       "    for (var i = 0; i < js_urls.length; i++) {\n",
       "      var url = js_urls[i];\n",
       "      var s = document.createElement('script');\n",
       "      s.src = url;\n",
       "      s.async = false;\n",
       "      s.onreadystatechange = s.onload = function() {\n",
       "        root._bokeh_is_loading--;\n",
       "        if (root._bokeh_is_loading === 0) {\n",
       "          console.log(\"Bokeh: all BokehJS libraries loaded\");\n",
       "          run_callbacks()\n",
       "        }\n",
       "      };\n",
       "      s.onerror = function() {\n",
       "        console.warn(\"failed to load library \" + url);\n",
       "      };\n",
       "      console.log(\"Bokeh: injecting script tag for BokehJS library: \", url);\n",
       "      document.getElementsByTagName(\"head\")[0].appendChild(s);\n",
       "    }\n",
       "  };var element = document.getElementById(\"8a125a5a-067b-43b7-8020-e91eb90ca266\");\n",
       "  if (element == null) {\n",
       "    console.log(\"Bokeh: ERROR: autoload.js configured with elementid '8a125a5a-067b-43b7-8020-e91eb90ca266' but no matching script tag was found. \")\n",
       "    return false;\n",
       "  }\n",
       "\n",
       "  var js_urls = [\"https://cdn.pydata.org/bokeh/release/bokeh-0.12.10.min.js\", \"https://cdn.pydata.org/bokeh/release/bokeh-widgets-0.12.10.min.js\", \"https://cdn.pydata.org/bokeh/release/bokeh-tables-0.12.10.min.js\", \"https://cdn.pydata.org/bokeh/release/bokeh-gl-0.12.10.min.js\"];\n",
       "\n",
       "  var inline_js = [\n",
       "    function(Bokeh) {\n",
       "      Bokeh.set_log_level(\"info\");\n",
       "    },\n",
       "    \n",
       "    function(Bokeh) {\n",
       "      \n",
       "    },\n",
       "    function(Bokeh) {\n",
       "      console.log(\"Bokeh: injecting CSS: https://cdn.pydata.org/bokeh/release/bokeh-0.12.10.min.css\");\n",
       "      Bokeh.embed.inject_css(\"https://cdn.pydata.org/bokeh/release/bokeh-0.12.10.min.css\");\n",
       "      console.log(\"Bokeh: injecting CSS: https://cdn.pydata.org/bokeh/release/bokeh-widgets-0.12.10.min.css\");\n",
       "      Bokeh.embed.inject_css(\"https://cdn.pydata.org/bokeh/release/bokeh-widgets-0.12.10.min.css\");\n",
       "      console.log(\"Bokeh: injecting CSS: https://cdn.pydata.org/bokeh/release/bokeh-tables-0.12.10.min.css\");\n",
       "      Bokeh.embed.inject_css(\"https://cdn.pydata.org/bokeh/release/bokeh-tables-0.12.10.min.css\");\n",
       "    }\n",
       "  ];\n",
       "\n",
       "  function run_inline_js() {\n",
       "    \n",
       "    if ((root.Bokeh !== undefined) || (force === true)) {\n",
       "      for (var i = 0; i < inline_js.length; i++) {\n",
       "        inline_js[i].call(root, root.Bokeh);\n",
       "      }if (force === true) {\n",
       "        display_loaded();\n",
       "      }} else if (Date.now() < root._bokeh_timeout) {\n",
       "      setTimeout(run_inline_js, 100);\n",
       "    } else if (!root._bokeh_failed_load) {\n",
       "      console.log(\"Bokeh: BokehJS failed to load within specified timeout.\");\n",
       "      root._bokeh_failed_load = true;\n",
       "    } else if (force !== true) {\n",
       "      var cell = $(document.getElementById(\"8a125a5a-067b-43b7-8020-e91eb90ca266\")).parents('.cell').data().cell;\n",
       "      cell.output_area.append_execute_result(NB_LOAD_WARNING)\n",
       "    }\n",
       "\n",
       "  }\n",
       "\n",
       "  if (root._bokeh_is_loading === 0) {\n",
       "    console.log(\"Bokeh: BokehJS loaded, going straight to plotting\");\n",
       "    run_inline_js();\n",
       "  } else {\n",
       "    load_libs(js_urls, function() {\n",
       "      console.log(\"Bokeh: BokehJS plotting callback run at\", now());\n",
       "      run_inline_js();\n",
       "    });\n",
       "  }\n",
       "}(window));"
      ],
      "application/vnd.bokehjs_load.v0+json": "\n(function(root) {\n  function now() {\n    return new Date();\n  }\n\n  var force = true;\n\n  if (typeof (root._bokeh_onload_callbacks) === \"undefined\" || force === true) {\n    root._bokeh_onload_callbacks = [];\n    root._bokeh_is_loading = undefined;\n  }\n\n  \n\n  \n  if (typeof (root._bokeh_timeout) === \"undefined\" || force === true) {\n    root._bokeh_timeout = Date.now() + 5000;\n    root._bokeh_failed_load = false;\n  }\n\n  var NB_LOAD_WARNING = {'data': {'text/html':\n     \"<div style='background-color: #fdd'>\\n\"+\n     \"<p>\\n\"+\n     \"BokehJS does not appear to have successfully loaded. If loading BokehJS from CDN, this \\n\"+\n     \"may be due to a slow or bad network connection. Possible fixes:\\n\"+\n     \"</p>\\n\"+\n     \"<ul>\\n\"+\n     \"<li>re-rerun `output_notebook()` to attempt to load from CDN again, or</li>\\n\"+\n     \"<li>use INLINE resources instead, as so:</li>\\n\"+\n     \"</ul>\\n\"+\n     \"<code>\\n\"+\n     \"from bokeh.resources import INLINE\\n\"+\n     \"output_notebook(resources=INLINE)\\n\"+\n     \"</code>\\n\"+\n     \"</div>\"}};\n\n  function display_loaded() {\n    var el = document.getElementById(\"8a125a5a-067b-43b7-8020-e91eb90ca266\");\n    if (el != null) {\n      el.textContent = \"BokehJS is loading...\";\n    }\n    if (root.Bokeh !== undefined) {\n      if (el != null) {\n        el.textContent = \"BokehJS \" + root.Bokeh.version + \" successfully loaded.\";\n      }\n    } else if (Date.now() < root._bokeh_timeout) {\n      setTimeout(display_loaded, 100)\n    }\n  }\n\n\n  function run_callbacks() {\n    try {\n      root._bokeh_onload_callbacks.forEach(function(callback) { callback() });\n    }\n    finally {\n      delete root._bokeh_onload_callbacks\n    }\n    console.info(\"Bokeh: all callbacks have finished\");\n  }\n\n  function load_libs(js_urls, callback) {\n    root._bokeh_onload_callbacks.push(callback);\n    if (root._bokeh_is_loading > 0) {\n      console.log(\"Bokeh: BokehJS is being loaded, scheduling callback at\", now());\n      return null;\n    }\n    if (js_urls == null || js_urls.length === 0) {\n      run_callbacks();\n      return null;\n    }\n    console.log(\"Bokeh: BokehJS not loaded, scheduling load and callback at\", now());\n    root._bokeh_is_loading = js_urls.length;\n    for (var i = 0; i < js_urls.length; i++) {\n      var url = js_urls[i];\n      var s = document.createElement('script');\n      s.src = url;\n      s.async = false;\n      s.onreadystatechange = s.onload = function() {\n        root._bokeh_is_loading--;\n        if (root._bokeh_is_loading === 0) {\n          console.log(\"Bokeh: all BokehJS libraries loaded\");\n          run_callbacks()\n        }\n      };\n      s.onerror = function() {\n        console.warn(\"failed to load library \" + url);\n      };\n      console.log(\"Bokeh: injecting script tag for BokehJS library: \", url);\n      document.getElementsByTagName(\"head\")[0].appendChild(s);\n    }\n  };var element = document.getElementById(\"8a125a5a-067b-43b7-8020-e91eb90ca266\");\n  if (element == null) {\n    console.log(\"Bokeh: ERROR: autoload.js configured with elementid '8a125a5a-067b-43b7-8020-e91eb90ca266' but no matching script tag was found. \")\n    return false;\n  }\n\n  var js_urls = [\"https://cdn.pydata.org/bokeh/release/bokeh-0.12.10.min.js\", \"https://cdn.pydata.org/bokeh/release/bokeh-widgets-0.12.10.min.js\", \"https://cdn.pydata.org/bokeh/release/bokeh-tables-0.12.10.min.js\", \"https://cdn.pydata.org/bokeh/release/bokeh-gl-0.12.10.min.js\"];\n\n  var inline_js = [\n    function(Bokeh) {\n      Bokeh.set_log_level(\"info\");\n    },\n    \n    function(Bokeh) {\n      \n    },\n    function(Bokeh) {\n      console.log(\"Bokeh: injecting CSS: https://cdn.pydata.org/bokeh/release/bokeh-0.12.10.min.css\");\n      Bokeh.embed.inject_css(\"https://cdn.pydata.org/bokeh/release/bokeh-0.12.10.min.css\");\n      console.log(\"Bokeh: injecting CSS: https://cdn.pydata.org/bokeh/release/bokeh-widgets-0.12.10.min.css\");\n      Bokeh.embed.inject_css(\"https://cdn.pydata.org/bokeh/release/bokeh-widgets-0.12.10.min.css\");\n      console.log(\"Bokeh: injecting CSS: https://cdn.pydata.org/bokeh/release/bokeh-tables-0.12.10.min.css\");\n      Bokeh.embed.inject_css(\"https://cdn.pydata.org/bokeh/release/bokeh-tables-0.12.10.min.css\");\n    }\n  ];\n\n  function run_inline_js() {\n    \n    if ((root.Bokeh !== undefined) || (force === true)) {\n      for (var i = 0; i < inline_js.length; i++) {\n        inline_js[i].call(root, root.Bokeh);\n      }if (force === true) {\n        display_loaded();\n      }} else if (Date.now() < root._bokeh_timeout) {\n      setTimeout(run_inline_js, 100);\n    } else if (!root._bokeh_failed_load) {\n      console.log(\"Bokeh: BokehJS failed to load within specified timeout.\");\n      root._bokeh_failed_load = true;\n    } else if (force !== true) {\n      var cell = $(document.getElementById(\"8a125a5a-067b-43b7-8020-e91eb90ca266\")).parents('.cell').data().cell;\n      cell.output_area.append_execute_result(NB_LOAD_WARNING)\n    }\n\n  }\n\n  if (root._bokeh_is_loading === 0) {\n    console.log(\"Bokeh: BokehJS loaded, going straight to plotting\");\n    run_inline_js();\n  } else {\n    load_libs(js_urls, function() {\n      console.log(\"Bokeh: BokehJS plotting callback run at\", now());\n      run_inline_js();\n    });\n  }\n}(window));"
     },
     "metadata": {},
     "output_type": "display_data"
    }
   ],
   "source": [
    "output_notebook()"
   ]
  },
  {
   "cell_type": "markdown",
   "metadata": {},
   "source": [
    "#### Other tools\n",
    "Other tools to add to the right hand side of the plot can be selected from a list."
   ]
  },
  {
   "cell_type": "code",
   "execution_count": 11,
   "metadata": {
    "collapsed": true,
    "hideCode": false,
    "hidePrompt": false
   },
   "outputs": [],
   "source": [
    "TOOLS = [BoxSelectTool(), hover, 'tap','box_zoom','reset', 'crosshair'] #,HoverTool()] # just say 'HoverTool()' for the default"
   ]
  },
  {
   "cell_type": "markdown",
   "metadata": {
    "hideCode": false,
    "hidePrompt": false
   },
   "source": [
    "## Add Alpha and size data\n",
    "\n",
    "'Alpha' is the transparency or 'brightness' of the dots.  The formula below ensures that low-cited articles are dimmer than the bright ones.  This has quite a subtle effect on the final plot and can be removed, but it does help to make individual articles stand out , even if their coloring puts then in a group that has low citations.\n",
    "\n",
    "'Sizes' is our setting for the size of the dots.  I used to use this to help accentuate highly cited papers, but I decided that it made the plot look cluttered.  Perhaps it's worth uncommenting this line if you are using a small dataset."
   ]
  },
  {
   "cell_type": "code",
   "execution_count": 12,
   "metadata": {
    "collapsed": true,
    "hideCode": false,
    "hidePrompt": false
   },
   "outputs": [],
   "source": [
    "# data['Sizes'] = 3+(1.5*(np.log(1+data.Citations)))\n",
    "\n",
    "# normalize citations to max 1 and attenuate with log so that we don't have a spike\n",
    "normed = np.log10(1+data.Citations)/np.log10(1+np.max(data.Citations))\n",
    "# set minimum alpha\n",
    "min_alpha = 0.2\n",
    "# set max alpha\n",
    "max_alpha = 1.0\n",
    "# set alpha\n",
    "data['Alpha'] = min_alpha + ( (max_alpha-min_alpha)*normed )"
   ]
  },
  {
   "cell_type": "markdown",
   "metadata": {
    "hideCode": false,
    "hidePrompt": false
   },
   "source": [
    "## Colour clusters by average citation rates\n",
    "This is where we define our colour scheme. "
   ]
  },
  {
   "cell_type": "code",
   "execution_count": 13,
   "metadata": {
    "collapsed": true,
    "hideCode": false,
    "hidePrompt": false
   },
   "outputs": [],
   "source": [
    "\n",
    "sns.palplot(sns.color_palette(\"YlOrRd\", 50)[::-1])"
   ]
  },
  {
   "cell_type": "code",
   "execution_count": 14,
   "metadata": {},
   "outputs": [
    {
     "data": {
      "text/html": [
       "<div>\n",
       "<style scoped>\n",
       "    .dataframe tbody tr th:only-of-type {\n",
       "        vertical-align: middle;\n",
       "    }\n",
       "\n",
       "    .dataframe tbody tr th {\n",
       "        vertical-align: top;\n",
       "    }\n",
       "\n",
       "    .dataframe thead th {\n",
       "        text-align: right;\n",
       "    }\n",
       "</style>\n",
       "<table border=\"1\" class=\"dataframe\">\n",
       "  <thead>\n",
       "    <tr style=\"text-align: right;\">\n",
       "      <th></th>\n",
       "      <th>DI</th>\n",
       "      <th>PY</th>\n",
       "      <th>TI</th>\n",
       "      <th>AB</th>\n",
       "      <th>WD</th>\n",
       "      <th>AU</th>\n",
       "      <th>EM</th>\n",
       "      <th>AF</th>\n",
       "      <th>SO</th>\n",
       "      <th>SC</th>\n",
       "      <th>...</th>\n",
       "      <th>highly_cited_10</th>\n",
       "      <th>highly_cited_5</th>\n",
       "      <th>recent_citations</th>\n",
       "      <th>relative_citation_ratio</th>\n",
       "      <th>times_cited</th>\n",
       "      <th>Citations</th>\n",
       "      <th>Cluster</th>\n",
       "      <th>Cluster_no</th>\n",
       "      <th>Article_kws</th>\n",
       "      <th>Alpha</th>\n",
       "    </tr>\n",
       "  </thead>\n",
       "  <tbody>\n",
       "    <tr>\n",
       "      <th>477</th>\n",
       "      <td>10.1111/j.1365-2214.2011.01282.x</td>\n",
       "      <td>2011</td>\n",
       "      <td>A social-ecological model of readiness for tra...</td>\n",
       "      <td>Background Policy and research related to tran...</td>\n",
       "      <td>A social-ecological model of readiness for tra...</td>\n",
       "      <td>Schwartz, LA; Tuchman, LK; Hobbie, WL; Ginsber...</td>\n",
       "      <td>schwartzl@email.chop.edu</td>\n",
       "      <td>Schwartz, L. A.; Tuchman, L. K.; Hobbie, W. L....</td>\n",
       "      <td>CHILD CARE HEALTH AND DEVELOPMENT</td>\n",
       "      <td>Psychology; Pediatrics</td>\n",
       "      <td>...</td>\n",
       "      <td>True</td>\n",
       "      <td>True</td>\n",
       "      <td>59</td>\n",
       "      <td>5.52</td>\n",
       "      <td>100</td>\n",
       "      <td>100</td>\n",
       "      <td>['transit', 'adult', 'care']</td>\n",
       "      <td>17</td>\n",
       "      <td>['smart', 'transit', 'readi']</td>\n",
       "      <td>0.985472</td>\n",
       "    </tr>\n",
       "  </tbody>\n",
       "</table>\n",
       "<p>1 rows × 31 columns</p>\n",
       "</div>"
      ],
      "text/plain": [
       "                                   DI    PY  \\\n",
       "477  10.1111/j.1365-2214.2011.01282.x  2011   \n",
       "\n",
       "                                                    TI  \\\n",
       "477  A social-ecological model of readiness for tra...   \n",
       "\n",
       "                                                    AB  \\\n",
       "477  Background Policy and research related to tran...   \n",
       "\n",
       "                                                    WD  \\\n",
       "477  A social-ecological model of readiness for tra...   \n",
       "\n",
       "                                                    AU  \\\n",
       "477  Schwartz, LA; Tuchman, LK; Hobbie, WL; Ginsber...   \n",
       "\n",
       "                           EM  \\\n",
       "477  schwartzl@email.chop.edu   \n",
       "\n",
       "                                                    AF  \\\n",
       "477  Schwartz, L. A.; Tuchman, L. K.; Hobbie, W. L....   \n",
       "\n",
       "                                    SO                      SC    ...     \\\n",
       "477  CHILD CARE HEALTH AND DEVELOPMENT  Psychology; Pediatrics    ...      \n",
       "\n",
       "    highly_cited_10 highly_cited_5  recent_citations  relative_citation_ratio  \\\n",
       "477            True           True                59                     5.52   \n",
       "\n",
       "    times_cited  Citations                       Cluster Cluster_no  \\\n",
       "477         100        100  ['transit', 'adult', 'care']         17   \n",
       "\n",
       "                       Article_kws     Alpha  \n",
       "477  ['smart', 'transit', 'readi']  0.985472  \n",
       "\n",
       "[1 rows x 31 columns]"
      ]
     },
     "execution_count": 14,
     "metadata": {},
     "output_type": "execute_result"
    }
   ],
   "source": [
    "data[data['Citations']==100]"
   ]
  },
  {
   "cell_type": "code",
   "execution_count": null,
   "metadata": {
    "collapsed": true,
    "hideCode": false,
    "hidePrompt": false
   },
   "outputs": [],
   "source": [
    "cit_col_ls = []\n",
    "\n",
    "av_years = c.av_years # this won't work if you have zero articles from these years in a particular cluster.  Use with care or just set to c.years\n",
    "\n",
    "avcits = data[data['PY'].isin(av_years)].groupby('Cluster_no')['Citations'].mean()\n",
    "maxav = avcits.max()\n",
    "minav = avcits.min()\n",
    "avrange = maxav-minav\n",
    "\n",
    "# define the palette\n",
    "palette = sns.color_palette(\"YlOrRd\", n_clusters+1).as_hex()[::-1] # note +1 to fix rounding errors\n",
    "# palette2 = ['#%02x%02x%02x'%(int(y) for y in x) for x in palette]\n",
    "# palette2\n",
    "i=0\n",
    "so = data['SO'].tolist()\n",
    "color_numerics=[]\n",
    "for cl_no in data['Cluster_no'].tolist():\n",
    "    \n",
    "    if so[i] == journal_of_interest:\n",
    "        cit_col_ls.append('#7ec0ee') # this colour is a bright sky-blue.  'green' or maybe purple would show up well, too\n",
    "    else:\n",
    "        cl_avcit = n_clusters*(avcits[cl_no]-minav)/avrange # gets the relative position of the cluster's average cites in the distribution\n",
    "        color_numerics.append(cl_avcit)\n",
    "        colr = palette[int(cl_avcit)]\n",
    "        cit_col_ls.append(colr)\n",
    "    i+=1\n",
    "data['Cit_col'] = cit_col_ls   \n",
    "# cit_col_ls"
   ]
  },
  {
   "cell_type": "markdown",
   "metadata": {},
   "source": [
    "Check the distribution of the colours.  In some datasets, you'll find a poor distribution of red/orange/yellow simply due to the distribution of citations in the dataset.  Worth fiddling with the code to make the diferences stand out.  "
   ]
  },
  {
   "cell_type": "code",
   "execution_count": null,
   "metadata": {},
   "outputs": [],
   "source": [
    "pd.Series(color_numerics).hist()"
   ]
  },
  {
   "cell_type": "markdown",
   "metadata": {
    "hideCode": false,
    "hidePrompt": false
   },
   "source": [
    "## Build plot\n",
    "This is where we define the figure itself using the Bokeh package."
   ]
  },
  {
   "cell_type": "code",
   "execution_count": null,
   "metadata": {
    "collapsed": true,
    "hideCode": false,
    "hidePrompt": false
   },
   "outputs": [],
   "source": [
    "from bokeh.io import show\n",
    "from bokeh.models import ColumnDataSource\n",
    "from bokeh.palettes import RdBu3\n",
    "from bokeh.plotting import figure\n",
    "\n",
    "# https://stackoverflow.com/questions/41856999/bokeh-plots-just-bring-up-a-blank-window\n",
    "# BOKEH_RESOURCES=inline\n",
    "\n",
    "\n",
    "# plotting\n",
    "p = figure(plot_width=950, plot_height=600,\n",
    "           title=plot_title,  # specified in the config file!\n",
    "           tools=TOOLS,\n",
    "          x_axis_label = \"Textual similarity axis_1 (arbitrary units)\",\n",
    "          y_axis_label = 'Textual similarity axis_2 (arbitrary units)') # , active_inspect=None)\n",
    "\n",
    "# p.toolbar.active_inspect = ['crosshair', hover]\n",
    "\n",
    "p.background_fill_color = \"black\"\n",
    "\n",
    "p.circle(x = 'TSNE1', \n",
    "         y = 'TSNE2', \n",
    "#           legend = 'Division',\n",
    "         size = 5, # 'Sizes',\n",
    "         color = 'Cit_col', # Cit_col',#'j_col', #'cit_colr', # #841F27', #'Color',\n",
    "         alpha = 'Alpha', \n",
    "         line_alpha = 0,\n",
    "         source = ColumnDataSource(data))  # This conversion to ColumnDataSource is crucial.\n",
    "\n",
    "p.legend.location = \"bottom_right\"\n",
    "# p.legend.text = div_colors\n",
    "\n",
    "output_file(tfidf_filename,\n",
    "           mode = 'inline')  # toggle for write-to-file\n",
    "\n",
    "\n",
    "# add links\n",
    "url = \"@Link\"\n",
    "taptool = p.select(type=TapTool)\n",
    "taptool.callback = OpenURL(url=url)"
   ]
  },
  {
   "cell_type": "code",
   "execution_count": null,
   "metadata": {
    "hideCode": false,
    "hidePrompt": false,
    "scrolled": false
   },
   "outputs": [],
   "source": [
    "show(p)"
   ]
  },
  {
   "cell_type": "markdown",
   "metadata": {
    "hideCode": false,
    "hidePrompt": false
   },
   "source": [
    "### Add bar plots\n",
    "Now that the plot is completed, there are a few simple images that might help to describe the data."
   ]
  },
  {
   "cell_type": "code",
   "execution_count": null,
   "metadata": {
    "hideCode": false,
    "hidePrompt": false
   },
   "outputs": [],
   "source": [
    "# % matplotlib inline\n",
    "df = pd.read_csv('data/cluster_data.csv', index_col=0)\n",
    "df.sample(1)"
   ]
  },
  {
   "cell_type": "code",
   "execution_count": null,
   "metadata": {
    "hideCode": false,
    "hidePrompt": false
   },
   "outputs": [],
   "source": [
    "df.dtypes"
   ]
  },
  {
   "cell_type": "code",
   "execution_count": null,
   "metadata": {
    "hideCode": false,
    "hidePrompt": false
   },
   "outputs": [],
   "source": [
    "# Convert Cluster to category data type\n",
    "df['Cluster'] = df['Cluster'].astype(str).astype('category', ordered = True)\n",
    "#check\n",
    "df.dtypes"
   ]
  },
  {
   "cell_type": "markdown",
   "metadata": {
    "hideCode": false,
    "hidePrompt": false
   },
   "source": [
    "### With Seaborn\n",
    "Means first"
   ]
  },
  {
   "cell_type": "code",
   "execution_count": null,
   "metadata": {
    "hideCode": false,
    "hidePrompt": false
   },
   "outputs": [],
   "source": [
    "x = 'Cluster'\n",
    "y = 'mean_cites'\n",
    "\n",
    "df.Cluster = df.sort_values(y).Cluster\n",
    "df = df.sort_values(y, ascending = False)\n",
    "df.Cluster.cat.ordered\n",
    "# df['Cluster'] = df['Cluster'].cat.reorder_categories(list(df['Cluster']), ordered=True)"
   ]
  },
  {
   "cell_type": "code",
   "execution_count": null,
   "metadata": {
    "hideCode": false,
    "hidePrompt": false,
    "scrolled": false
   },
   "outputs": [],
   "source": [
    "import matplotlib.pyplot as plt\n",
    "f, ax = plt.subplots(figsize=(20, 12))\n",
    "p = sns.barplot(data = df, \n",
    "            x=df[y],\n",
    "            y=df[x],\n",
    "            color = 'b',\n",
    "            orient='h',\n",
    "            order = df[x]).set_title('Citation rates for {} split into {} K-Means clusters'.format(c.set_name,c.n_clusters))\n",
    "# p.set_xticklabels(labels = df[x],rotation=90)\n",
    "ax.set(xlabel='Mean citations', ylabel='Cluster')\n",
    "plt.savefig('outputs/K_Means_Barplot_means_k{}.png'.format(n_clusters))\n",
    "p"
   ]
  },
  {
   "cell_type": "markdown",
   "metadata": {},
   "source": [
    "Now plot the medians"
   ]
  },
  {
   "cell_type": "code",
   "execution_count": null,
   "metadata": {
    "collapsed": true,
    "hideCode": false,
    "hidePrompt": false
   },
   "outputs": [],
   "source": [
    "import seaborn as sns\n",
    "\n",
    "df = pd.DataFrame(data.groupby('Cluster')['Citations'].median())\n",
    "df.reset_index(level=0, inplace=True)"
   ]
  },
  {
   "cell_type": "code",
   "execution_count": null,
   "metadata": {
    "hideCode": false,
    "hidePrompt": false
   },
   "outputs": [],
   "source": [
    "df.columns = ['Cluster', 'Median citations']\n",
    "df.Cluster = df.Cluster.astype('category')\n",
    "df.head()"
   ]
  },
  {
   "cell_type": "code",
   "execution_count": null,
   "metadata": {
    "collapsed": true,
    "hideCode": false,
    "hidePrompt": false
   },
   "outputs": [],
   "source": [
    "x = 'Cluster'\n",
    "y = 'Median citations'"
   ]
  },
  {
   "cell_type": "code",
   "execution_count": null,
   "metadata": {
    "collapsed": true,
    "hideCode": false,
    "hidePrompt": false
   },
   "outputs": [],
   "source": [
    "df[x] = df.sort_values(y).Cluster"
   ]
  },
  {
   "cell_type": "code",
   "execution_count": null,
   "metadata": {
    "hideCode": false,
    "hidePrompt": false
   },
   "outputs": [],
   "source": [
    "df = df.sort_values(y, ascending = False)\n",
    "df.Cluster.cat.ordered"
   ]
  },
  {
   "cell_type": "code",
   "execution_count": null,
   "metadata": {
    "hideCode": false,
    "hidePrompt": false
   },
   "outputs": [],
   "source": [
    "import matplotlib.pyplot as plt\n",
    "f, ax = plt.subplots(figsize=(20, 12))\n",
    "p = sns.barplot(data = df, \n",
    "            x=df[y],\n",
    "            y=df[x],\n",
    "            color = 'b',\n",
    "            orient='h',\n",
    "            order = df[x]).set_title('Citation rates for {} split into {} K-Means clusters'.format(c.set_name, c.n_clusters))\n",
    "# p.set_xticklabels(labels = df[x],rotation=90)\n",
    "ax.set(xlabel='Median citations', ylabel='Cluster')\n",
    "plt.savefig('outputs/K_Means_Barplot_medians_k{}.png'.format(n_clusters))\n",
    "p"
   ]
  },
  {
   "cell_type": "markdown",
   "metadata": {
    "hideCode": false,
    "hidePrompt": false
   },
   "source": [
    "## Show relative sizes of journals over the years"
   ]
  },
  {
   "cell_type": "code",
   "execution_count": null,
   "metadata": {
    "hideCode": false,
    "hidePrompt": false,
    "scrolled": true
   },
   "outputs": [],
   "source": [
    "# see clusters 15, 47, 10\n",
    "\n",
    "bar_df = pd.DataFrame(data.groupby(['SO',\n",
    "#                                     'Cluster',\n",
    "                                    'PY']).size().reset_index(name=\"Count\"))\n",
    "\n",
    "# bar_df.columns\n",
    "bar_df.sample()"
   ]
  },
  {
   "cell_type": "code",
   "execution_count": null,
   "metadata": {
    "hideCode": false,
    "hidePrompt": false
   },
   "outputs": [],
   "source": [
    "f, ax = plt.subplots(figsize=(20, 12))\n",
    "p = sns.factorplot(data = bar_df, \n",
    "                   ax =ax,\n",
    "            x='PY',\n",
    "            y='Count',\n",
    "#                     fit_reg=False,\n",
    "                   kind='bar',\n",
    "            hue = 'SO')\n",
    "# plt.title('Citations per year for cluster 15')\n",
    "# p.set_xticklabels(labels = df[x],rotation=90)\n",
    "# plt.savefig('outputs/Cluster_15_Barplot.png') #image not saving correctly\n",
    "plt"
   ]
  }
 ],
 "metadata": {
  "hide_code_all_hidden": false,
  "kernelspec": {
   "display_name": "Python 3",
   "language": "python",
   "name": "python3"
  },
  "language_info": {
   "codemirror_mode": {
    "name": "ipython",
    "version": 3
   },
   "file_extension": ".py",
   "mimetype": "text/x-python",
   "name": "python",
   "nbconvert_exporter": "python",
   "pygments_lexer": "ipython3",
   "version": "3.6.3"
  }
 },
 "nbformat": 4,
 "nbformat_minor": 2
}
