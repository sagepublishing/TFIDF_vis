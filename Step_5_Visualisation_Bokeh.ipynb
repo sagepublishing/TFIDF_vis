{
 "cells": [
  {
   "cell_type": "markdown",
   "metadata": {
    "hideCode": false,
    "hidePrompt": false
   },
   "source": [
    "### Visualisation with Bokeh\n",
    "This is just a simple piece of visualisation code to display the text data which has been processed in other notebooks.  "
   ]
  },
  {
   "cell_type": "code",
   "execution_count": 55,
   "metadata": {
    "hideCode": false,
    "hidePrompt": false
   },
   "outputs": [
    {
     "name": "stdout",
     "output_type": "stream",
     "text": [
      "------------------------------------------------------\n",
      "Step 5:  Creating visualisation\n",
      "2018-02-20 16:38:52.259237\n",
      "------------------------------------------------------\n"
     ]
    }
   ],
   "source": [
    "print('------------------------------------------------------')\n",
    "print('Step 5:  Creating visualisation')\n",
    "from datetime import datetime as dt\n",
    "print(dt.now())\n",
    "print('------------------------------------------------------')"
   ]
  },
  {
   "cell_type": "code",
   "execution_count": 56,
   "metadata": {
    "collapsed": true,
    "hideCode": false,
    "hidePrompt": false
   },
   "outputs": [],
   "source": [
    "import pandas as pd\n",
    "import numpy as np\n",
    "import pickle\n",
    "\n",
    "# %matplotlib inline\n",
    "import matplotlib.pyplot as plt\n",
    "import seaborn as sns\n",
    "\n",
    "\n",
    "from bokeh.plotting import *\n",
    "# from bokeh.models import ColumnDataSource, OpenURL, TapTool\n",
    "from bokeh.models import *\n",
    "from bokeh.io import output_notebook"
   ]
  },
  {
   "cell_type": "code",
   "execution_count": 57,
   "metadata": {
    "collapsed": true,
    "hideCode": false,
    "hidePrompt": false
   },
   "outputs": [],
   "source": [
    "from config import Config as c\n",
    "tfidf_filename = c.tfidf_filename\n",
    "bar_filename = c.bar_filename\n",
    "plot_title = c.title\n",
    "doi_datapath = c.dois_pkl\n",
    "working_data = c.working_data\n",
    "set_name = c.set_name\n",
    "# test_set = c.test_set\n",
    "n_clusters = c.n_clusters\n",
    "journal_of_interest = c.joi"
   ]
  },
  {
   "cell_type": "code",
   "execution_count": 58,
   "metadata": {
    "collapsed": true,
    "hideCode": false,
    "hidePrompt": false
   },
   "outputs": [],
   "source": [
    "# global variable\n",
    "dois = pickle.load(open(doi_datapath,'rb'))"
   ]
  },
  {
   "cell_type": "code",
   "execution_count": 59,
   "metadata": {
    "hideCode": false,
    "hidePrompt": false
   },
   "outputs": [
    {
     "data": {
      "text/html": [
       "<div>\n",
       "<style scoped>\n",
       "    .dataframe tbody tr th:only-of-type {\n",
       "        vertical-align: middle;\n",
       "    }\n",
       "\n",
       "    .dataframe tbody tr th {\n",
       "        vertical-align: top;\n",
       "    }\n",
       "\n",
       "    .dataframe thead th {\n",
       "        text-align: right;\n",
       "    }\n",
       "</style>\n",
       "<table border=\"1\" class=\"dataframe\">\n",
       "  <thead>\n",
       "    <tr style=\"text-align: right;\">\n",
       "      <th></th>\n",
       "      <th>DI</th>\n",
       "      <th>PY</th>\n",
       "      <th>WD</th>\n",
       "      <th>AU</th>\n",
       "      <th>AF</th>\n",
       "      <th>SO</th>\n",
       "      <th>SC</th>\n",
       "      <th>SN</th>\n",
       "      <th>EI</th>\n",
       "      <th>TC</th>\n",
       "      <th>...</th>\n",
       "      <th>TSNE2</th>\n",
       "      <th>DOI_y</th>\n",
       "      <th>Link_y</th>\n",
       "      <th>field_citation_ratio</th>\n",
       "      <th>highly_cited_1</th>\n",
       "      <th>highly_cited_10</th>\n",
       "      <th>highly_cited_5</th>\n",
       "      <th>recent_citations</th>\n",
       "      <th>relative_citation_ratio</th>\n",
       "      <th>times_cited</th>\n",
       "    </tr>\n",
       "  </thead>\n",
       "  <tbody>\n",
       "    <tr>\n",
       "      <th>18137</th>\n",
       "      <td>10.1177/1708538114531259</td>\n",
       "      <td>2015</td>\n",
       "      <td>Through-and-through wire technique for endovas...</td>\n",
       "      <td>Rohlffs, F; Larena-Avellaneda, AA; Petersen, J...</td>\n",
       "      <td>Rohlffs, Fiona; Larena-Avellaneda, Axel Antoni...</td>\n",
       "      <td>VASCULAR</td>\n",
       "      <td>Cardiovascular System &amp; Cardiology</td>\n",
       "      <td>1708-5381</td>\n",
       "      <td>1708-539X</td>\n",
       "      <td>1</td>\n",
       "      <td>...</td>\n",
       "      <td>-19.470090</td>\n",
       "      <td>10.1177/1708538114531259</td>\n",
       "      <td>http://dx.doi.org/10.1177/1708538114531259</td>\n",
       "      <td>0.86</td>\n",
       "      <td>False</td>\n",
       "      <td>False</td>\n",
       "      <td>False</td>\n",
       "      <td>2.0</td>\n",
       "      <td>0.97</td>\n",
       "      <td>2.0</td>\n",
       "    </tr>\n",
       "    <tr>\n",
       "      <th>1318</th>\n",
       "      <td>10.1016/j.ahj.2012.01.029</td>\n",
       "      <td>2012</td>\n",
       "      <td>The impact of high-density lipoprotein cholest...</td>\n",
       "      <td>Duffy, D; Holmes, DN; Roe, MT; Peterson, ED</td>\n",
       "      <td>Duffy, Danielle; Holmes, DaJuanicia N.; Roe, M...</td>\n",
       "      <td>AMERICAN HEART JOURNAL</td>\n",
       "      <td>Cardiovascular System &amp; Cardiology</td>\n",
       "      <td>0002-8703</td>\n",
       "      <td>NaN</td>\n",
       "      <td>11</td>\n",
       "      <td>...</td>\n",
       "      <td>-33.253826</td>\n",
       "      <td>10.1016/j.ahj.2012.01.029</td>\n",
       "      <td>http://dx.doi.org/10.1016/j.ahj.2012.01.029</td>\n",
       "      <td>2.41</td>\n",
       "      <td>False</td>\n",
       "      <td>False</td>\n",
       "      <td>False</td>\n",
       "      <td>3.0</td>\n",
       "      <td>0.64</td>\n",
       "      <td>13.0</td>\n",
       "    </tr>\n",
       "    <tr>\n",
       "      <th>3249</th>\n",
       "      <td>10.1161/CIR.0000000000000444</td>\n",
       "      <td>2016</td>\n",
       "      <td>Sleep Duration and Quality: Impact on Lifestyl...</td>\n",
       "      <td>St-Onge, MP; Grandner, MA; Brown, D; Conroy, M...</td>\n",
       "      <td>St-Onge, Marie-Pierre; Grandner, Michael A.; B...</td>\n",
       "      <td>CIRCULATION</td>\n",
       "      <td>Cardiovascular System &amp; Cardiology</td>\n",
       "      <td>0009-7322</td>\n",
       "      <td>1524-4539</td>\n",
       "      <td>25</td>\n",
       "      <td>...</td>\n",
       "      <td>17.714027</td>\n",
       "      <td>10.1161/CIR.0000000000000444</td>\n",
       "      <td>http://dx.doi.org/10.1161/CIR.0000000000000444</td>\n",
       "      <td>28.56</td>\n",
       "      <td>True</td>\n",
       "      <td>True</td>\n",
       "      <td>True</td>\n",
       "      <td>40.0</td>\n",
       "      <td>8.98</td>\n",
       "      <td>40.0</td>\n",
       "    </tr>\n",
       "    <tr>\n",
       "      <th>13915</th>\n",
       "      <td>10.1177/1526602817711424</td>\n",
       "      <td>2017</td>\n",
       "      <td>Outcomes After Endovascular Revascularization ...</td>\n",
       "      <td>Uhl, C; Steinbauer, M; Torsello, G; Bisdas, T</td>\n",
       "      <td>Uhl, Christian; Steinbauer, Markus; Torsello, ...</td>\n",
       "      <td>JOURNAL OF ENDOVASCULAR THERAPY</td>\n",
       "      <td>Surgery; Cardiovascular System &amp; Cardiology</td>\n",
       "      <td>1526-6028</td>\n",
       "      <td>1545-1550</td>\n",
       "      <td>0</td>\n",
       "      <td>...</td>\n",
       "      <td>-6.968868</td>\n",
       "      <td>10.1177/1526602817711424</td>\n",
       "      <td>http://dx.doi.org/10.1177/1526602817711424</td>\n",
       "      <td>NaN</td>\n",
       "      <td>False</td>\n",
       "      <td>False</td>\n",
       "      <td>False</td>\n",
       "      <td>0.0</td>\n",
       "      <td>NaN</td>\n",
       "      <td>0.0</td>\n",
       "    </tr>\n",
       "    <tr>\n",
       "      <th>10294</th>\n",
       "      <td>10.1177/2047487314553736</td>\n",
       "      <td>2014</td>\n",
       "      <td>Electrocardiographic monitoring during maratho...</td>\n",
       "      <td>Spethmann, S; Prescher, S; Dreger, H; Nettlau,...</td>\n",
       "      <td>Spethmann, Sebastian; Prescher, Sandra; Dreger...</td>\n",
       "      <td>EUROPEAN JOURNAL OF PREVENTIVE CARDIOLOGY</td>\n",
       "      <td>Cardiovascular System &amp; Cardiology</td>\n",
       "      <td>2047-4873</td>\n",
       "      <td>2047-4881</td>\n",
       "      <td>2</td>\n",
       "      <td>...</td>\n",
       "      <td>-1.732146</td>\n",
       "      <td>10.1177/2047487314553736</td>\n",
       "      <td>http://dx.doi.org/10.1177/2047487314553736</td>\n",
       "      <td>0.89</td>\n",
       "      <td>False</td>\n",
       "      <td>False</td>\n",
       "      <td>False</td>\n",
       "      <td>3.0</td>\n",
       "      <td>0.25</td>\n",
       "      <td>3.0</td>\n",
       "    </tr>\n",
       "  </tbody>\n",
       "</table>\n",
       "<p>5 rows × 28 columns</p>\n",
       "</div>"
      ],
      "text/plain": [
       "                                 DI    PY  \\\n",
       "18137      10.1177/1708538114531259  2015   \n",
       "1318      10.1016/j.ahj.2012.01.029  2012   \n",
       "3249   10.1161/CIR.0000000000000444  2016   \n",
       "13915      10.1177/1526602817711424  2017   \n",
       "10294      10.1177/2047487314553736  2014   \n",
       "\n",
       "                                                      WD  \\\n",
       "18137  Through-and-through wire technique for endovas...   \n",
       "1318   The impact of high-density lipoprotein cholest...   \n",
       "3249   Sleep Duration and Quality: Impact on Lifestyl...   \n",
       "13915  Outcomes After Endovascular Revascularization ...   \n",
       "10294  Electrocardiographic monitoring during maratho...   \n",
       "\n",
       "                                                      AU  \\\n",
       "18137  Rohlffs, F; Larena-Avellaneda, AA; Petersen, J...   \n",
       "1318         Duffy, D; Holmes, DN; Roe, MT; Peterson, ED   \n",
       "3249   St-Onge, MP; Grandner, MA; Brown, D; Conroy, M...   \n",
       "13915      Uhl, C; Steinbauer, M; Torsello, G; Bisdas, T   \n",
       "10294  Spethmann, S; Prescher, S; Dreger, H; Nettlau,...   \n",
       "\n",
       "                                                      AF  \\\n",
       "18137  Rohlffs, Fiona; Larena-Avellaneda, Axel Antoni...   \n",
       "1318   Duffy, Danielle; Holmes, DaJuanicia N.; Roe, M...   \n",
       "3249   St-Onge, Marie-Pierre; Grandner, Michael A.; B...   \n",
       "13915  Uhl, Christian; Steinbauer, Markus; Torsello, ...   \n",
       "10294  Spethmann, Sebastian; Prescher, Sandra; Dreger...   \n",
       "\n",
       "                                              SO  \\\n",
       "18137                                   VASCULAR   \n",
       "1318                      AMERICAN HEART JOURNAL   \n",
       "3249                                 CIRCULATION   \n",
       "13915            JOURNAL OF ENDOVASCULAR THERAPY   \n",
       "10294  EUROPEAN JOURNAL OF PREVENTIVE CARDIOLOGY   \n",
       "\n",
       "                                                SC         SN         EI  TC  \\\n",
       "18137           Cardiovascular System & Cardiology  1708-5381  1708-539X   1   \n",
       "1318            Cardiovascular System & Cardiology  0002-8703        NaN  11   \n",
       "3249            Cardiovascular System & Cardiology  0009-7322  1524-4539  25   \n",
       "13915  Surgery; Cardiovascular System & Cardiology  1526-6028  1545-1550   0   \n",
       "10294           Cardiovascular System & Cardiology  2047-4873  2047-4881   2   \n",
       "\n",
       "          ...          TSNE2                         DOI_y  \\\n",
       "18137     ...     -19.470090      10.1177/1708538114531259   \n",
       "1318      ...     -33.253826     10.1016/j.ahj.2012.01.029   \n",
       "3249      ...      17.714027  10.1161/CIR.0000000000000444   \n",
       "13915     ...      -6.968868      10.1177/1526602817711424   \n",
       "10294     ...      -1.732146      10.1177/2047487314553736   \n",
       "\n",
       "                                               Link_y  field_citation_ratio  \\\n",
       "18137      http://dx.doi.org/10.1177/1708538114531259                  0.86   \n",
       "1318      http://dx.doi.org/10.1016/j.ahj.2012.01.029                  2.41   \n",
       "3249   http://dx.doi.org/10.1161/CIR.0000000000000444                 28.56   \n",
       "13915      http://dx.doi.org/10.1177/1526602817711424                   NaN   \n",
       "10294      http://dx.doi.org/10.1177/2047487314553736                  0.89   \n",
       "\n",
       "      highly_cited_1  highly_cited_10 highly_cited_5  recent_citations  \\\n",
       "18137          False            False          False               2.0   \n",
       "1318           False            False          False               3.0   \n",
       "3249            True             True           True              40.0   \n",
       "13915          False            False          False               0.0   \n",
       "10294          False            False          False               3.0   \n",
       "\n",
       "       relative_citation_ratio times_cited  \n",
       "18137                     0.97         2.0  \n",
       "1318                      0.64        13.0  \n",
       "3249                      8.98        40.0  \n",
       "13915                      NaN         0.0  \n",
       "10294                     0.25         3.0  \n",
       "\n",
       "[5 rows x 28 columns]"
      ]
     },
     "execution_count": 59,
     "metadata": {},
     "output_type": "execute_result"
    }
   ],
   "source": [
    "# read data\n",
    "data = pd.read_csv(c.working_data,index_col = 0)\n",
    "# data[\"Cluster_no\"] = data[\"Cluster_no\"].astype('category')\n",
    "data.sample(5)"
   ]
  },
  {
   "cell_type": "markdown",
   "metadata": {
    "hideCode": false,
    "hidePrompt": false
   },
   "source": [
    "## Set NaNs in citations col to zero."
   ]
  },
  {
   "cell_type": "code",
   "execution_count": 60,
   "metadata": {
    "collapsed": true,
    "hideCode": false,
    "hidePrompt": false
   },
   "outputs": [],
   "source": [
    "data['Citations'] = data['Citations'].fillna(0)"
   ]
  },
  {
   "cell_type": "code",
   "execution_count": 61,
   "metadata": {
    "hideCode": false,
    "hidePrompt": false
   },
   "outputs": [
    {
     "name": "stdout",
     "output_type": "stream",
     "text": [
      "Showing data for the following journals:\n",
      "CIRCULATION                                                     1583\n",
      "AMERICAN HEART JOURNAL                                          1391\n",
      "EUROPACE                                                        1345\n",
      "JOURNAL OF CEREBRAL BLOOD FLOW AND METABOLISM                   1230\n",
      "EUROPEAN HEART JOURNAL                                          1210\n",
      "JOURNAL OF INTERNATIONAL MEDICAL RESEARCH                       1023\n",
      "CARDIOVASCULAR RESEARCH                                          927\n",
      "EUROPEAN JOURNAL OF PREVENTIVE CARDIOLOGY                        915\n",
      "EUROPEAN HEART JOURNAL-CARDIOVASCULAR IMAGING                    776\n",
      "INTERNATIONAL JOURNAL OF STROKE                                  741\n",
      "CLINICAL AND APPLIED THROMBOSIS-HEMOSTASIS                       597\n",
      "ANGIOLOGY                                                        565\n",
      "JOURNAL OF ENDOVASCULAR THERAPY                                  526\n",
      "VASCULAR AND ENDOVASCULAR SURGERY                                525\n",
      "INTERVENTIONAL NEURORADIOLOGY                                    494\n",
      "PERFUSION-UK                                                     482\n",
      "VASCULAR                                                         444\n",
      "PHLEBOLOGY                                                       416\n",
      "JOURNAL OF THE RENIN-ANGIOTENSIN-ALDOSTERONE SYSTEM              404\n",
      "EUROPEAN JOURNAL OF CARDIOVASCULAR NURSING                       314\n",
      "PULMONARY CIRCULATION                                            297\n",
      "DIABETES & VASCULAR DISEASE RESEARCH                             287\n",
      "JOURNAL OF CARDIOVASCULAR PHARMACOLOGY AND THERAPEUTICS          257\n",
      "SCOTTISH MEDICAL JOURNAL                                         247\n",
      "VASCULAR MEDICINE                                                244\n",
      "INTERNATIONAL JOURNAL OF LOWER EXTREMITY WOUNDS                  215\n",
      "DOSE-RESPONSE                                                    206\n",
      "EUROPEAN HEART JOURNAL-ACUTE CARDIOVASCULAR CARE                 198\n",
      "JOURNAL OF MEDICAL SCREENING                                     187\n",
      "ESC HEART FAILURE                                                140\n",
      "JOURNAL OF THE ROYAL SOCIETY OF MEDICINE                          95\n",
      "EUROPEAN HEART JOURNAL-CARDIOVASCULAR PHARMACOTHERAPY             39\n",
      "Pulmonary Circulation                                             19\n",
      "International Journal of Lower Extremity Wounds                   10\n",
      "EUROPEAN HEART JOURNAL-QUALITY OF CARE AND CLINICAL OUTCOMES       6\n",
      "Name: SO, dtype: int64\n"
     ]
    }
   ],
   "source": [
    "print('Showing data for the following journals:')\n",
    "print(data['SO'].value_counts())"
   ]
  },
  {
   "cell_type": "code",
   "execution_count": 62,
   "metadata": {
    "collapsed": true,
    "hideCode": false,
    "hidePrompt": false
   },
   "outputs": [],
   "source": [
    "# for col in data.columns:\n",
    "#     print(col,': ',sum(data[col].isnull()))"
   ]
  },
  {
   "cell_type": "markdown",
   "metadata": {
    "hideCode": false,
    "hidePrompt": false
   },
   "source": [
    "## Bokeh code\n",
    "The first step is to define a few things that will go into the plot.\n",
    "\n",
    "#### Hover tool\n",
    "The hover tool defines what happens when you hover your mouse over the plot. "
   ]
  },
  {
   "cell_type": "code",
   "execution_count": 63,
   "metadata": {
    "collapsed": true
   },
   "outputs": [],
   "source": [
    "hover = HoverTool(\n",
    "        tooltips=[\n",
    "#             (\"index\", \"$index\"),\n",
    "#             (\"(x,y)\", \"($x, $y)\"),\n",
    "            (\"Journal\", \"@SO\"),\n",
    "            (\"DOI\", \"@DI\"),\n",
    "            (\"Article Keywords\",\"@Article_kws\"),\n",
    "            (\"Citations\", \"@Citations\"),\n",
    "            (\"Cluster_no\", \"@Cluster_no\"),\n",
    "            (\"Cluster Keywords\",\"@Cluster\")\n",
    "                ])"
   ]
  },
  {
   "cell_type": "code",
   "execution_count": 64,
   "metadata": {},
   "outputs": [
    {
     "data": {
      "text/html": [
       "\n",
       "    <div class=\"bk-root\">\n",
       "        <a href=\"https://bokeh.pydata.org\" target=\"_blank\" class=\"bk-logo bk-logo-small bk-logo-notebook\"></a>\n",
       "        <span id=\"9bf41f50-3631-4d48-a199-b4c21827c42a\">Loading BokehJS ...</span>\n",
       "    </div>"
      ]
     },
     "metadata": {},
     "output_type": "display_data"
    },
    {
     "data": {
      "application/javascript": [
       "\n",
       "(function(root) {\n",
       "  function now() {\n",
       "    return new Date();\n",
       "  }\n",
       "\n",
       "  var force = true;\n",
       "\n",
       "  if (typeof (root._bokeh_onload_callbacks) === \"undefined\" || force === true) {\n",
       "    root._bokeh_onload_callbacks = [];\n",
       "    root._bokeh_is_loading = undefined;\n",
       "  }\n",
       "\n",
       "  var JS_MIME_TYPE = 'application/javascript';\n",
       "  var HTML_MIME_TYPE = 'text/html';\n",
       "  var EXEC_MIME_TYPE = 'application/vnd.bokehjs_exec.v0+json';\n",
       "  var CLASS_NAME = 'output_bokeh rendered_html';\n",
       "\n",
       "  /**\n",
       "   * Render data to the DOM node\n",
       "   */\n",
       "  function render(props, node) {\n",
       "    var script = document.createElement(\"script\");\n",
       "    node.appendChild(script);\n",
       "  }\n",
       "\n",
       "  /**\n",
       "   * Handle when an output is cleared or removed\n",
       "   */\n",
       "  function handleClearOutput(event, handle) {\n",
       "    var cell = handle.cell;\n",
       "\n",
       "    var id = cell.output_area._bokeh_element_id;\n",
       "    var server_id = cell.output_area._bokeh_server_id;\n",
       "    // Clean up Bokeh references\n",
       "    if (id !== undefined) {\n",
       "      Bokeh.index[id].model.document.clear();\n",
       "      delete Bokeh.index[id];\n",
       "    }\n",
       "\n",
       "    if (server_id !== undefined) {\n",
       "      // Clean up Bokeh references\n",
       "      var cmd = \"from bokeh.io.state import curstate; print(curstate().uuid_to_server['\" + server_id + \"'].get_sessions()[0].document.roots[0]._id)\";\n",
       "      cell.notebook.kernel.execute(cmd, {\n",
       "        iopub: {\n",
       "          output: function(msg) {\n",
       "            var element_id = msg.content.text.trim();\n",
       "            Bokeh.index[element_id].model.document.clear();\n",
       "            delete Bokeh.index[element_id];\n",
       "          }\n",
       "        }\n",
       "      });\n",
       "      // Destroy server and session\n",
       "      var cmd = \"import bokeh.io.notebook as ion; ion.destroy_server('\" + server_id + \"')\";\n",
       "      cell.notebook.kernel.execute(cmd);\n",
       "    }\n",
       "  }\n",
       "\n",
       "  /**\n",
       "   * Handle when a new output is added\n",
       "   */\n",
       "  function handleAddOutput(event, handle) {\n",
       "    var output_area = handle.output_area;\n",
       "    var output = handle.output;\n",
       "\n",
       "    // limit handleAddOutput to display_data with EXEC_MIME_TYPE content only\n",
       "    if ((output.output_type != \"display_data\") || (!output.data.hasOwnProperty(EXEC_MIME_TYPE))) {\n",
       "      return\n",
       "    }\n",
       "\n",
       "    var toinsert = output_area.element.find(`.${CLASS_NAME.split(' ')[0]}`);\n",
       "\n",
       "    if (output.metadata[EXEC_MIME_TYPE][\"id\"] !== undefined) {\n",
       "      toinsert[0].firstChild.textContent = output.data[JS_MIME_TYPE];\n",
       "      // store reference to embed id on output_area\n",
       "      output_area._bokeh_element_id = output.metadata[EXEC_MIME_TYPE][\"id\"];\n",
       "    }\n",
       "    if (output.metadata[EXEC_MIME_TYPE][\"server_id\"] !== undefined) {\n",
       "      var bk_div = document.createElement(\"div\");\n",
       "      bk_div.innerHTML = output.data[HTML_MIME_TYPE];\n",
       "      var script_attrs = bk_div.children[0].attributes;\n",
       "      for (var i = 0; i < script_attrs.length; i++) {\n",
       "        toinsert[0].firstChild.setAttribute(script_attrs[i].name, script_attrs[i].value);\n",
       "      }\n",
       "      // store reference to server id on output_area\n",
       "      output_area._bokeh_server_id = output.metadata[EXEC_MIME_TYPE][\"server_id\"];\n",
       "    }\n",
       "  }\n",
       "\n",
       "  function register_renderer(events, OutputArea) {\n",
       "\n",
       "    function append_mime(data, metadata, element) {\n",
       "      // create a DOM node to render to\n",
       "      var toinsert = this.create_output_subarea(\n",
       "        metadata,\n",
       "        CLASS_NAME,\n",
       "        EXEC_MIME_TYPE\n",
       "      );\n",
       "      this.keyboard_manager.register_events(toinsert);\n",
       "      // Render to node\n",
       "      var props = {data: data, metadata: metadata[EXEC_MIME_TYPE]};\n",
       "      render(props, toinsert[0]);\n",
       "      element.append(toinsert);\n",
       "      return toinsert\n",
       "    }\n",
       "\n",
       "    /* Handle when an output is cleared or removed */\n",
       "    events.on('clear_output.CodeCell', handleClearOutput);\n",
       "    events.on('delete.Cell', handleClearOutput);\n",
       "\n",
       "    /* Handle when a new output is added */\n",
       "    events.on('output_added.OutputArea', handleAddOutput);\n",
       "\n",
       "    /**\n",
       "     * Register the mime type and append_mime function with output_area\n",
       "     */\n",
       "    OutputArea.prototype.register_mime_type(EXEC_MIME_TYPE, append_mime, {\n",
       "      /* Is output safe? */\n",
       "      safe: true,\n",
       "      /* Index of renderer in `output_area.display_order` */\n",
       "      index: 0\n",
       "    });\n",
       "  }\n",
       "\n",
       "  // register the mime type if in Jupyter Notebook environment and previously unregistered\n",
       "  if (root.Jupyter !== undefined) {\n",
       "    var events = require('base/js/events');\n",
       "    var OutputArea = require('notebook/js/outputarea').OutputArea;\n",
       "\n",
       "    if (OutputArea.prototype.mime_types().indexOf(EXEC_MIME_TYPE) == -1) {\n",
       "      register_renderer(events, OutputArea);\n",
       "    }\n",
       "  }\n",
       "\n",
       "  \n",
       "  if (typeof (root._bokeh_timeout) === \"undefined\" || force === true) {\n",
       "    root._bokeh_timeout = Date.now() + 5000;\n",
       "    root._bokeh_failed_load = false;\n",
       "  }\n",
       "\n",
       "  var NB_LOAD_WARNING = {'data': {'text/html':\n",
       "     \"<div style='background-color: #fdd'>\\n\"+\n",
       "     \"<p>\\n\"+\n",
       "     \"BokehJS does not appear to have successfully loaded. If loading BokehJS from CDN, this \\n\"+\n",
       "     \"may be due to a slow or bad network connection. Possible fixes:\\n\"+\n",
       "     \"</p>\\n\"+\n",
       "     \"<ul>\\n\"+\n",
       "     \"<li>re-rerun `output_notebook()` to attempt to load from CDN again, or</li>\\n\"+\n",
       "     \"<li>use INLINE resources instead, as so:</li>\\n\"+\n",
       "     \"</ul>\\n\"+\n",
       "     \"<code>\\n\"+\n",
       "     \"from bokeh.resources import INLINE\\n\"+\n",
       "     \"output_notebook(resources=INLINE)\\n\"+\n",
       "     \"</code>\\n\"+\n",
       "     \"</div>\"}};\n",
       "\n",
       "  function display_loaded() {\n",
       "    var el = document.getElementById(\"9bf41f50-3631-4d48-a199-b4c21827c42a\");\n",
       "    if (el != null) {\n",
       "      el.textContent = \"BokehJS is loading...\";\n",
       "    }\n",
       "    if (root.Bokeh !== undefined) {\n",
       "      if (el != null) {\n",
       "        el.textContent = \"BokehJS \" + root.Bokeh.version + \" successfully loaded.\";\n",
       "      }\n",
       "    } else if (Date.now() < root._bokeh_timeout) {\n",
       "      setTimeout(display_loaded, 100)\n",
       "    }\n",
       "  }\n",
       "\n",
       "\n",
       "  function run_callbacks() {\n",
       "    try {\n",
       "      root._bokeh_onload_callbacks.forEach(function(callback) { callback() });\n",
       "    }\n",
       "    finally {\n",
       "      delete root._bokeh_onload_callbacks\n",
       "    }\n",
       "    console.info(\"Bokeh: all callbacks have finished\");\n",
       "  }\n",
       "\n",
       "  function load_libs(js_urls, callback) {\n",
       "    root._bokeh_onload_callbacks.push(callback);\n",
       "    if (root._bokeh_is_loading > 0) {\n",
       "      console.log(\"Bokeh: BokehJS is being loaded, scheduling callback at\", now());\n",
       "      return null;\n",
       "    }\n",
       "    if (js_urls == null || js_urls.length === 0) {\n",
       "      run_callbacks();\n",
       "      return null;\n",
       "    }\n",
       "    console.log(\"Bokeh: BokehJS not loaded, scheduling load and callback at\", now());\n",
       "    root._bokeh_is_loading = js_urls.length;\n",
       "    for (var i = 0; i < js_urls.length; i++) {\n",
       "      var url = js_urls[i];\n",
       "      var s = document.createElement('script');\n",
       "      s.src = url;\n",
       "      s.async = false;\n",
       "      s.onreadystatechange = s.onload = function() {\n",
       "        root._bokeh_is_loading--;\n",
       "        if (root._bokeh_is_loading === 0) {\n",
       "          console.log(\"Bokeh: all BokehJS libraries loaded\");\n",
       "          run_callbacks()\n",
       "        }\n",
       "      };\n",
       "      s.onerror = function() {\n",
       "        console.warn(\"failed to load library \" + url);\n",
       "      };\n",
       "      console.log(\"Bokeh: injecting script tag for BokehJS library: \", url);\n",
       "      document.getElementsByTagName(\"head\")[0].appendChild(s);\n",
       "    }\n",
       "  };var element = document.getElementById(\"9bf41f50-3631-4d48-a199-b4c21827c42a\");\n",
       "  if (element == null) {\n",
       "    console.log(\"Bokeh: ERROR: autoload.js configured with elementid '9bf41f50-3631-4d48-a199-b4c21827c42a' but no matching script tag was found. \")\n",
       "    return false;\n",
       "  }\n",
       "\n",
       "  var js_urls = [\"https://cdn.pydata.org/bokeh/release/bokeh-0.12.10.min.js\", \"https://cdn.pydata.org/bokeh/release/bokeh-widgets-0.12.10.min.js\", \"https://cdn.pydata.org/bokeh/release/bokeh-tables-0.12.10.min.js\", \"https://cdn.pydata.org/bokeh/release/bokeh-gl-0.12.10.min.js\"];\n",
       "\n",
       "  var inline_js = [\n",
       "    function(Bokeh) {\n",
       "      Bokeh.set_log_level(\"info\");\n",
       "    },\n",
       "    \n",
       "    function(Bokeh) {\n",
       "      \n",
       "    },\n",
       "    function(Bokeh) {\n",
       "      console.log(\"Bokeh: injecting CSS: https://cdn.pydata.org/bokeh/release/bokeh-0.12.10.min.css\");\n",
       "      Bokeh.embed.inject_css(\"https://cdn.pydata.org/bokeh/release/bokeh-0.12.10.min.css\");\n",
       "      console.log(\"Bokeh: injecting CSS: https://cdn.pydata.org/bokeh/release/bokeh-widgets-0.12.10.min.css\");\n",
       "      Bokeh.embed.inject_css(\"https://cdn.pydata.org/bokeh/release/bokeh-widgets-0.12.10.min.css\");\n",
       "      console.log(\"Bokeh: injecting CSS: https://cdn.pydata.org/bokeh/release/bokeh-tables-0.12.10.min.css\");\n",
       "      Bokeh.embed.inject_css(\"https://cdn.pydata.org/bokeh/release/bokeh-tables-0.12.10.min.css\");\n",
       "    }\n",
       "  ];\n",
       "\n",
       "  function run_inline_js() {\n",
       "    \n",
       "    if ((root.Bokeh !== undefined) || (force === true)) {\n",
       "      for (var i = 0; i < inline_js.length; i++) {\n",
       "        inline_js[i].call(root, root.Bokeh);\n",
       "      }if (force === true) {\n",
       "        display_loaded();\n",
       "      }} else if (Date.now() < root._bokeh_timeout) {\n",
       "      setTimeout(run_inline_js, 100);\n",
       "    } else if (!root._bokeh_failed_load) {\n",
       "      console.log(\"Bokeh: BokehJS failed to load within specified timeout.\");\n",
       "      root._bokeh_failed_load = true;\n",
       "    } else if (force !== true) {\n",
       "      var cell = $(document.getElementById(\"9bf41f50-3631-4d48-a199-b4c21827c42a\")).parents('.cell').data().cell;\n",
       "      cell.output_area.append_execute_result(NB_LOAD_WARNING)\n",
       "    }\n",
       "\n",
       "  }\n",
       "\n",
       "  if (root._bokeh_is_loading === 0) {\n",
       "    console.log(\"Bokeh: BokehJS loaded, going straight to plotting\");\n",
       "    run_inline_js();\n",
       "  } else {\n",
       "    load_libs(js_urls, function() {\n",
       "      console.log(\"Bokeh: BokehJS plotting callback run at\", now());\n",
       "      run_inline_js();\n",
       "    });\n",
       "  }\n",
       "}(window));"
      ],
      "application/vnd.bokehjs_load.v0+json": "\n(function(root) {\n  function now() {\n    return new Date();\n  }\n\n  var force = true;\n\n  if (typeof (root._bokeh_onload_callbacks) === \"undefined\" || force === true) {\n    root._bokeh_onload_callbacks = [];\n    root._bokeh_is_loading = undefined;\n  }\n\n  \n\n  \n  if (typeof (root._bokeh_timeout) === \"undefined\" || force === true) {\n    root._bokeh_timeout = Date.now() + 5000;\n    root._bokeh_failed_load = false;\n  }\n\n  var NB_LOAD_WARNING = {'data': {'text/html':\n     \"<div style='background-color: #fdd'>\\n\"+\n     \"<p>\\n\"+\n     \"BokehJS does not appear to have successfully loaded. If loading BokehJS from CDN, this \\n\"+\n     \"may be due to a slow or bad network connection. Possible fixes:\\n\"+\n     \"</p>\\n\"+\n     \"<ul>\\n\"+\n     \"<li>re-rerun `output_notebook()` to attempt to load from CDN again, or</li>\\n\"+\n     \"<li>use INLINE resources instead, as so:</li>\\n\"+\n     \"</ul>\\n\"+\n     \"<code>\\n\"+\n     \"from bokeh.resources import INLINE\\n\"+\n     \"output_notebook(resources=INLINE)\\n\"+\n     \"</code>\\n\"+\n     \"</div>\"}};\n\n  function display_loaded() {\n    var el = document.getElementById(\"9bf41f50-3631-4d48-a199-b4c21827c42a\");\n    if (el != null) {\n      el.textContent = \"BokehJS is loading...\";\n    }\n    if (root.Bokeh !== undefined) {\n      if (el != null) {\n        el.textContent = \"BokehJS \" + root.Bokeh.version + \" successfully loaded.\";\n      }\n    } else if (Date.now() < root._bokeh_timeout) {\n      setTimeout(display_loaded, 100)\n    }\n  }\n\n\n  function run_callbacks() {\n    try {\n      root._bokeh_onload_callbacks.forEach(function(callback) { callback() });\n    }\n    finally {\n      delete root._bokeh_onload_callbacks\n    }\n    console.info(\"Bokeh: all callbacks have finished\");\n  }\n\n  function load_libs(js_urls, callback) {\n    root._bokeh_onload_callbacks.push(callback);\n    if (root._bokeh_is_loading > 0) {\n      console.log(\"Bokeh: BokehJS is being loaded, scheduling callback at\", now());\n      return null;\n    }\n    if (js_urls == null || js_urls.length === 0) {\n      run_callbacks();\n      return null;\n    }\n    console.log(\"Bokeh: BokehJS not loaded, scheduling load and callback at\", now());\n    root._bokeh_is_loading = js_urls.length;\n    for (var i = 0; i < js_urls.length; i++) {\n      var url = js_urls[i];\n      var s = document.createElement('script');\n      s.src = url;\n      s.async = false;\n      s.onreadystatechange = s.onload = function() {\n        root._bokeh_is_loading--;\n        if (root._bokeh_is_loading === 0) {\n          console.log(\"Bokeh: all BokehJS libraries loaded\");\n          run_callbacks()\n        }\n      };\n      s.onerror = function() {\n        console.warn(\"failed to load library \" + url);\n      };\n      console.log(\"Bokeh: injecting script tag for BokehJS library: \", url);\n      document.getElementsByTagName(\"head\")[0].appendChild(s);\n    }\n  };var element = document.getElementById(\"9bf41f50-3631-4d48-a199-b4c21827c42a\");\n  if (element == null) {\n    console.log(\"Bokeh: ERROR: autoload.js configured with elementid '9bf41f50-3631-4d48-a199-b4c21827c42a' but no matching script tag was found. \")\n    return false;\n  }\n\n  var js_urls = [\"https://cdn.pydata.org/bokeh/release/bokeh-0.12.10.min.js\", \"https://cdn.pydata.org/bokeh/release/bokeh-widgets-0.12.10.min.js\", \"https://cdn.pydata.org/bokeh/release/bokeh-tables-0.12.10.min.js\", \"https://cdn.pydata.org/bokeh/release/bokeh-gl-0.12.10.min.js\"];\n\n  var inline_js = [\n    function(Bokeh) {\n      Bokeh.set_log_level(\"info\");\n    },\n    \n    function(Bokeh) {\n      \n    },\n    function(Bokeh) {\n      console.log(\"Bokeh: injecting CSS: https://cdn.pydata.org/bokeh/release/bokeh-0.12.10.min.css\");\n      Bokeh.embed.inject_css(\"https://cdn.pydata.org/bokeh/release/bokeh-0.12.10.min.css\");\n      console.log(\"Bokeh: injecting CSS: https://cdn.pydata.org/bokeh/release/bokeh-widgets-0.12.10.min.css\");\n      Bokeh.embed.inject_css(\"https://cdn.pydata.org/bokeh/release/bokeh-widgets-0.12.10.min.css\");\n      console.log(\"Bokeh: injecting CSS: https://cdn.pydata.org/bokeh/release/bokeh-tables-0.12.10.min.css\");\n      Bokeh.embed.inject_css(\"https://cdn.pydata.org/bokeh/release/bokeh-tables-0.12.10.min.css\");\n    }\n  ];\n\n  function run_inline_js() {\n    \n    if ((root.Bokeh !== undefined) || (force === true)) {\n      for (var i = 0; i < inline_js.length; i++) {\n        inline_js[i].call(root, root.Bokeh);\n      }if (force === true) {\n        display_loaded();\n      }} else if (Date.now() < root._bokeh_timeout) {\n      setTimeout(run_inline_js, 100);\n    } else if (!root._bokeh_failed_load) {\n      console.log(\"Bokeh: BokehJS failed to load within specified timeout.\");\n      root._bokeh_failed_load = true;\n    } else if (force !== true) {\n      var cell = $(document.getElementById(\"9bf41f50-3631-4d48-a199-b4c21827c42a\")).parents('.cell').data().cell;\n      cell.output_area.append_execute_result(NB_LOAD_WARNING)\n    }\n\n  }\n\n  if (root._bokeh_is_loading === 0) {\n    console.log(\"Bokeh: BokehJS loaded, going straight to plotting\");\n    run_inline_js();\n  } else {\n    load_libs(js_urls, function() {\n      console.log(\"Bokeh: BokehJS plotting callback run at\", now());\n      run_inline_js();\n    });\n  }\n}(window));"
     },
     "metadata": {},
     "output_type": "display_data"
    }
   ],
   "source": [
    "output_notebook()"
   ]
  },
  {
   "cell_type": "markdown",
   "metadata": {},
   "source": [
    "#### Other tools\n",
    "Other tools to add to the right hand side of the plot can be selected from a list."
   ]
  },
  {
   "cell_type": "code",
   "execution_count": 65,
   "metadata": {
    "collapsed": true,
    "hideCode": false,
    "hidePrompt": false
   },
   "outputs": [],
   "source": [
    "TOOLS = [BoxSelectTool(), hover, 'tap','box_zoom','reset', 'crosshair'] #,HoverTool()] # just say 'HoverTool()' for the default"
   ]
  },
  {
   "cell_type": "markdown",
   "metadata": {
    "hideCode": false,
    "hidePrompt": false
   },
   "source": [
    "## Add Alpha and size data\n",
    "\n",
    "'Alpha' is the transparency or 'brightness' of the dots.  The formula below ensures that low-cited articles are dimmer than the bright ones.  This has quite a subtle effect on the final plot and can be removed, but it does help to make individual articles stand out , even if their coloring puts then in a group that has low citations.\n",
    "\n",
    "'Sizes' is our setting for the size of the dots.  I used to use this to help accentuate highly cited papers, but I decided that it made the plot look cluttered.  Perhaps it's worth uncommenting this line if you are using a small dataset."
   ]
  },
  {
   "cell_type": "code",
   "execution_count": 66,
   "metadata": {
    "collapsed": true,
    "hideCode": false,
    "hidePrompt": false
   },
   "outputs": [],
   "source": [
    "# data['Sizes'] = 3+(1.5*(np.log(1+data.Citations)))\n",
    "data['Alpha'] = 0.1+(0.3*np.log2(1+data.Citations))"
   ]
  },
  {
   "cell_type": "markdown",
   "metadata": {
    "hideCode": false,
    "hidePrompt": false
   },
   "source": [
    "## Colour clusters by average citation rates\n",
    "This is where we define our colour scheme. "
   ]
  },
  {
   "cell_type": "code",
   "execution_count": 67,
   "metadata": {
    "collapsed": true,
    "hideCode": false,
    "hidePrompt": false
   },
   "outputs": [],
   "source": [
    "\n",
    "sns.palplot(sns.color_palette(\"YlOrRd\", 50)[::-1])"
   ]
  },
  {
   "cell_type": "code",
   "execution_count": 68,
   "metadata": {
    "collapsed": true,
    "hideCode": false,
    "hidePrompt": false
   },
   "outputs": [],
   "source": [
    "cit_col_ls = []\n",
    "avcits = data.groupby('Cluster_no')['Citations'].mean()\n",
    "maxav = avcits.max()\n",
    "minav = avcits.min()\n",
    "avrange = maxav-minav\n",
    "palette = sns.color_palette(\"YlOrRd\", n_clusters+1).as_hex()[::-1] # note +1 to fix rounding errors\n",
    "# palette2 = ['#%02x%02x%02x'%(int(y) for y in x) for x in palette]\n",
    "# palette2\n",
    "i=0\n",
    "so = data['SO'].tolist()\n",
    "color_numerics=[]\n",
    "for cl_no in data['Cluster_no'].tolist():\n",
    "    \n",
    "    if so[i] == journal_of_interest:\n",
    "        cit_col_ls.append('#7ec0ee') # this colour is a bright sky-blue.  'green' or maybe purple would show up well, too\n",
    "    else:\n",
    "        cl_avcit = n_clusters*(avcits[cl_no]-minav)/avrange # gets the relative position of the cluster's average cites in the distribution\n",
    "        color_numerics.append(cl_avcit)\n",
    "        colr = palette[int(cl_avcit)]\n",
    "        cit_col_ls.append(colr)\n",
    "    i+=1\n",
    "data['Cit_col'] = cit_col_ls   \n",
    "# cit_col_ls"
   ]
  },
  {
   "cell_type": "markdown",
   "metadata": {},
   "source": [
    "Check the distribution of the colours.  In some datasets, you'll find a poor distribution of red/orange/yellow simply due to the distribution of citations in the dataset.  Worth fiddling with the code to make the diferences stand out.  "
   ]
  },
  {
   "cell_type": "code",
   "execution_count": 69,
   "metadata": {},
   "outputs": [
    {
     "data": {
      "text/plain": [
       "<matplotlib.axes._subplots.AxesSubplot at 0x117526f72e8>"
      ]
     },
     "execution_count": 69,
     "metadata": {},
     "output_type": "execute_result"
    }
   ],
   "source": [
    "pd.Series(color_numerics).hist()"
   ]
  },
  {
   "cell_type": "markdown",
   "metadata": {
    "hideCode": false,
    "hidePrompt": false
   },
   "source": [
    "## Build plot\n",
    "This is where we define the figure itself using the Bokeh package."
   ]
  },
  {
   "cell_type": "code",
   "execution_count": 70,
   "metadata": {
    "collapsed": true,
    "hideCode": false,
    "hidePrompt": false
   },
   "outputs": [],
   "source": [
    "from bokeh.io import show\n",
    "from bokeh.models import ColumnDataSource\n",
    "from bokeh.palettes import RdBu3\n",
    "from bokeh.plotting import figure\n",
    "\n",
    "# https://stackoverflow.com/questions/41856999/bokeh-plots-just-bring-up-a-blank-window\n",
    "# BOKEH_RESOURCES=inline\n",
    "\n",
    "\n",
    "# plotting\n",
    "p = figure(plot_width=950, plot_height=600,\n",
    "           title=plot_title,  # specified in the config file!\n",
    "           tools=TOOLS,\n",
    "          x_axis_label = \"Textual similarity axis_1 (arbitrary units)\",\n",
    "          y_axis_label = 'Textual similarity axis_2 (arbitrary units)') # , active_inspect=None)\n",
    "\n",
    "# p.toolbar.active_inspect = ['crosshair', hover]\n",
    "\n",
    "p.background_fill_color = \"black\"\n",
    "\n",
    "p.circle(x = 'TSNE1', \n",
    "         y = 'TSNE2', \n",
    "#           legend = 'Division',\n",
    "#          size = 'Sizes',\n",
    "         color = 'Cit_col', # Cit_col',#'j_col', #'cit_colr', # #841F27', #'Color',\n",
    "         alpha = 0.2, #'Alpha', \n",
    "         line_alpha = 0,\n",
    "         source = ColumnDataSource(data))  # This conversion to ColumnDataSource is crucial.\n",
    "\n",
    "p.legend.location = \"bottom_right\"\n",
    "# p.legend.text = div_colors\n",
    "\n",
    "output_file(tfidf_filename,\n",
    "           mode = 'inline')  # toggle for write-to-file\n",
    "\n",
    "\n",
    "# add links\n",
    "url = \"@Link\"\n",
    "taptool = p.select(type=TapTool)\n",
    "taptool.callback = OpenURL(url=url)"
   ]
  },
  {
   "cell_type": "code",
   "execution_count": 71,
   "metadata": {
    "hideCode": false,
    "hidePrompt": false,
    "scrolled": false
   },
   "outputs": [
    {
     "data": {
      "text/html": [
       "\n",
       "<div class=\"bk-root\">\n",
       "    <div class=\"bk-plotdiv\" id=\"507c22c8-3254-45ba-a6e1-44d7a571aeee\"></div>\n",
       "</div>"
      ]
     },
     "metadata": {},
     "output_type": "display_data"
    },
    {
     "name": "stderr",
     "output_type": "stream",
     "text": [
      "IOPub data rate exceeded.\n",
      "The notebook server will temporarily stop sending output\n",
      "to the client in order to avoid crashing it.\n",
      "To change this limit, set the config variable\n",
      "`--NotebookApp.iopub_data_rate_limit`.\n"
     ]
    }
   ],
   "source": [
    "show(p)"
   ]
  },
  {
   "cell_type": "markdown",
   "metadata": {
    "hideCode": false,
    "hidePrompt": false
   },
   "source": [
    "### Add bar plots\n",
    "Now that the plot is completed, there are a few simple images that might help to describe the data."
   ]
  },
  {
   "cell_type": "code",
   "execution_count": 72,
   "metadata": {
    "hideCode": false,
    "hidePrompt": false
   },
   "outputs": [
    {
     "data": {
      "text/html": [
       "<div>\n",
       "<style scoped>\n",
       "    .dataframe tbody tr th:only-of-type {\n",
       "        vertical-align: middle;\n",
       "    }\n",
       "\n",
       "    .dataframe tbody tr th {\n",
       "        vertical-align: top;\n",
       "    }\n",
       "\n",
       "    .dataframe thead th {\n",
       "        text-align: right;\n",
       "    }\n",
       "</style>\n",
       "<table border=\"1\" class=\"dataframe\">\n",
       "  <thead>\n",
       "    <tr style=\"text-align: right;\">\n",
       "      <th></th>\n",
       "      <th>Cluster</th>\n",
       "      <th>cites</th>\n",
       "      <th>dois_ls</th>\n",
       "      <th>mean_cites</th>\n",
       "      <th>nz_cites</th>\n",
       "      <th>len_cites</th>\n",
       "      <th>Cluster_no</th>\n",
       "      <th>nz_pc</th>\n",
       "    </tr>\n",
       "  </thead>\n",
       "  <tbody>\n",
       "    <tr>\n",
       "      <th>3</th>\n",
       "      <td>['mortality', 'hospital', 'european']</td>\n",
       "      <td>[0.0, 1.0, 0.0, 1.0, 1.0, 1.0, 1.0, 1.0, 0, 1....</td>\n",
       "      <td>['10.1016/j.ahj.2017.08.011', '10.1016/j.ahj.2...</td>\n",
       "      <td>21.998745</td>\n",
       "      <td>739.0</td>\n",
       "      <td>797</td>\n",
       "      <td>3</td>\n",
       "      <td>0.927227</td>\n",
       "    </tr>\n",
       "  </tbody>\n",
       "</table>\n",
       "</div>"
      ],
      "text/plain": [
       "                                 Cluster  \\\n",
       "3  ['mortality', 'hospital', 'european']   \n",
       "\n",
       "                                               cites  \\\n",
       "3  [0.0, 1.0, 0.0, 1.0, 1.0, 1.0, 1.0, 1.0, 0, 1....   \n",
       "\n",
       "                                             dois_ls  mean_cites  nz_cites  \\\n",
       "3  ['10.1016/j.ahj.2017.08.011', '10.1016/j.ahj.2...   21.998745     739.0   \n",
       "\n",
       "   len_cites  Cluster_no     nz_pc  \n",
       "3        797           3  0.927227  "
      ]
     },
     "execution_count": 72,
     "metadata": {},
     "output_type": "execute_result"
    }
   ],
   "source": [
    "# % matplotlib inline\n",
    "df = pd.read_csv('data/cluster_data.csv', index_col=0)\n",
    "df.sample(1)"
   ]
  },
  {
   "cell_type": "code",
   "execution_count": 73,
   "metadata": {
    "hideCode": false,
    "hidePrompt": false
   },
   "outputs": [
    {
     "data": {
      "text/plain": [
       "Cluster        object\n",
       "cites          object\n",
       "dois_ls        object\n",
       "mean_cites    float64\n",
       "nz_cites      float64\n",
       "len_cites       int64\n",
       "Cluster_no      int64\n",
       "nz_pc         float64\n",
       "dtype: object"
      ]
     },
     "execution_count": 73,
     "metadata": {},
     "output_type": "execute_result"
    }
   ],
   "source": [
    "df.dtypes"
   ]
  },
  {
   "cell_type": "code",
   "execution_count": 74,
   "metadata": {
    "hideCode": false,
    "hidePrompt": false
   },
   "outputs": [
    {
     "name": "stderr",
     "output_type": "stream",
     "text": [
      "C:\\Users\\aday\\AppData\\Local\\Continuum\\anaconda3\\lib\\site-packages\\ipykernel_launcher.py:2: FutureWarning: specifying 'categories' or 'ordered' in .astype() is deprecated; pass a CategoricalDtype instead\n",
      "  \n"
     ]
    },
    {
     "data": {
      "text/plain": [
       "Cluster       category\n",
       "cites           object\n",
       "dois_ls         object\n",
       "mean_cites     float64\n",
       "nz_cites       float64\n",
       "len_cites        int64\n",
       "Cluster_no       int64\n",
       "nz_pc          float64\n",
       "dtype: object"
      ]
     },
     "execution_count": 74,
     "metadata": {},
     "output_type": "execute_result"
    }
   ],
   "source": [
    "# Convert Cluster to category data type\n",
    "df['Cluster'] = df['Cluster'].astype(str).astype('category', ordered = True)\n",
    "#check\n",
    "df.dtypes"
   ]
  },
  {
   "cell_type": "markdown",
   "metadata": {
    "hideCode": false,
    "hidePrompt": false
   },
   "source": [
    "### With Seaborn\n",
    "Means first"
   ]
  },
  {
   "cell_type": "code",
   "execution_count": 75,
   "metadata": {
    "hideCode": false,
    "hidePrompt": false
   },
   "outputs": [
    {
     "data": {
      "text/plain": [
       "True"
      ]
     },
     "execution_count": 75,
     "metadata": {},
     "output_type": "execute_result"
    }
   ],
   "source": [
    "x = 'Cluster'\n",
    "y = 'mean_cites'\n",
    "\n",
    "df.Cluster = df.sort_values(y).Cluster\n",
    "df = df.sort_values(y, ascending = False)\n",
    "df.Cluster.cat.ordered\n",
    "# df['Cluster'] = df['Cluster'].cat.reorder_categories(list(df['Cluster']), ordered=True)"
   ]
  },
  {
   "cell_type": "code",
   "execution_count": 76,
   "metadata": {
    "hideCode": false,
    "hidePrompt": false,
    "scrolled": false
   },
   "outputs": [
    {
     "name": "stderr",
     "output_type": "stream",
     "text": [
      "C:\\Users\\aday\\AppData\\Local\\Continuum\\anaconda3\\lib\\site-packages\\seaborn\\categorical.py:1460: FutureWarning: remove_na is deprecated and is a private function. Do not use.\n",
      "  stat_data = remove_na(group_data)\n"
     ]
    },
    {
     "data": {
      "text/plain": [
       "Text(0.5,1,'Citation rates for Cardiology split into 50 K-Means clusters')"
      ]
     },
     "execution_count": 76,
     "metadata": {},
     "output_type": "execute_result"
    }
   ],
   "source": [
    "import matplotlib.pyplot as plt\n",
    "f, ax = plt.subplots(figsize=(20, 12))\n",
    "p = sns.barplot(data = df, \n",
    "            x=df[y],\n",
    "            y=df[x],\n",
    "            color = 'b',\n",
    "            orient='h',\n",
    "            order = df[x]).set_title('Citation rates for {} split into 50 K-Means clusters'.format(c.set_name))\n",
    "# p.set_xticklabels(labels = df[x],rotation=90)\n",
    "ax.set(xlabel='Mean citations', ylabel='Cluster')\n",
    "plt.savefig('outputs/K_Means_Barplot_means.png')\n",
    "p"
   ]
  },
  {
   "cell_type": "markdown",
   "metadata": {},
   "source": [
    "Now plot the medians"
   ]
  },
  {
   "cell_type": "code",
   "execution_count": 77,
   "metadata": {
    "collapsed": true,
    "hideCode": false,
    "hidePrompt": false
   },
   "outputs": [],
   "source": [
    "import seaborn as sns\n",
    "\n",
    "df = pd.DataFrame(data.groupby('Cluster')['Citations'].median())\n",
    "df.reset_index(level=0, inplace=True)"
   ]
  },
  {
   "cell_type": "code",
   "execution_count": 78,
   "metadata": {
    "hideCode": false,
    "hidePrompt": false
   },
   "outputs": [
    {
     "data": {
      "text/html": [
       "<div>\n",
       "<style scoped>\n",
       "    .dataframe tbody tr th:only-of-type {\n",
       "        vertical-align: middle;\n",
       "    }\n",
       "\n",
       "    .dataframe tbody tr th {\n",
       "        vertical-align: top;\n",
       "    }\n",
       "\n",
       "    .dataframe thead th {\n",
       "        text-align: right;\n",
       "    }\n",
       "</style>\n",
       "<table border=\"1\" class=\"dataframe\">\n",
       "  <thead>\n",
       "    <tr style=\"text-align: right;\">\n",
       "      <th></th>\n",
       "      <th>Cluster</th>\n",
       "      <th>Median citations</th>\n",
       "    </tr>\n",
       "  </thead>\n",
       "  <tbody>\n",
       "    <tr>\n",
       "      <th>0</th>\n",
       "      <td>['ablation', 'catheter', 'fibrillation backgro...</td>\n",
       "      <td>7.0</td>\n",
       "    </tr>\n",
       "    <tr>\n",
       "      <th>1</th>\n",
       "      <td>['angiotensin', 'mice', 'mice background']</td>\n",
       "      <td>7.0</td>\n",
       "    </tr>\n",
       "    <tr>\n",
       "      <th>2</th>\n",
       "      <td>['associated', 'function', 'effects']</td>\n",
       "      <td>6.0</td>\n",
       "    </tr>\n",
       "    <tr>\n",
       "      <th>3</th>\n",
       "      <td>['blood', 'pressure', 'blood pressure']</td>\n",
       "      <td>6.0</td>\n",
       "    </tr>\n",
       "    <tr>\n",
       "      <th>4</th>\n",
       "      <td>['burden stroke', 'burden', 'response']</td>\n",
       "      <td>4.0</td>\n",
       "    </tr>\n",
       "  </tbody>\n",
       "</table>\n",
       "</div>"
      ],
      "text/plain": [
       "                                             Cluster  Median citations\n",
       "0  ['ablation', 'catheter', 'fibrillation backgro...               7.0\n",
       "1         ['angiotensin', 'mice', 'mice background']               7.0\n",
       "2              ['associated', 'function', 'effects']               6.0\n",
       "3            ['blood', 'pressure', 'blood pressure']               6.0\n",
       "4            ['burden stroke', 'burden', 'response']               4.0"
      ]
     },
     "execution_count": 78,
     "metadata": {},
     "output_type": "execute_result"
    }
   ],
   "source": [
    "df.columns = ['Cluster', 'Median citations']\n",
    "df.Cluster = df.Cluster.astype('category')\n",
    "df.head()"
   ]
  },
  {
   "cell_type": "code",
   "execution_count": 79,
   "metadata": {
    "collapsed": true,
    "hideCode": false,
    "hidePrompt": false
   },
   "outputs": [],
   "source": [
    "x = 'Cluster'\n",
    "y = 'Median citations'"
   ]
  },
  {
   "cell_type": "code",
   "execution_count": 80,
   "metadata": {
    "collapsed": true,
    "hideCode": false,
    "hidePrompt": false
   },
   "outputs": [],
   "source": [
    "df[x] = df.sort_values(y).Cluster"
   ]
  },
  {
   "cell_type": "code",
   "execution_count": 81,
   "metadata": {
    "hideCode": false,
    "hidePrompt": false
   },
   "outputs": [
    {
     "data": {
      "text/plain": [
       "False"
      ]
     },
     "execution_count": 81,
     "metadata": {},
     "output_type": "execute_result"
    }
   ],
   "source": [
    "df = df.sort_values(y, ascending = False)\n",
    "df.Cluster.cat.ordered"
   ]
  },
  {
   "cell_type": "code",
   "execution_count": 82,
   "metadata": {
    "hideCode": false,
    "hidePrompt": false
   },
   "outputs": [
    {
     "name": "stderr",
     "output_type": "stream",
     "text": [
      "C:\\Users\\aday\\AppData\\Local\\Continuum\\anaconda3\\lib\\site-packages\\seaborn\\categorical.py:1460: FutureWarning: remove_na is deprecated and is a private function. Do not use.\n",
      "  stat_data = remove_na(group_data)\n"
     ]
    },
    {
     "data": {
      "text/plain": [
       "Text(0.5,1,'Citation rates for Cardiology into 50 K-Means clusters')"
      ]
     },
     "execution_count": 82,
     "metadata": {},
     "output_type": "execute_result"
    }
   ],
   "source": [
    "import matplotlib.pyplot as plt\n",
    "f, ax = plt.subplots(figsize=(20, 12))\n",
    "p = sns.barplot(data = df, \n",
    "            x=df[y],\n",
    "            y=df[x],\n",
    "            color = 'b',\n",
    "            orient='h',\n",
    "            order = df[x]).set_title('Citation rates for {} into 50 K-Means clusters'.format(c.set_name))\n",
    "# p.set_xticklabels(labels = df[x],rotation=90)\n",
    "ax.set(xlabel='Median citations', ylabel='Cluster')\n",
    "plt.savefig('outputs/K_Means_Barplot_medians.png')\n",
    "p"
   ]
  },
  {
   "cell_type": "markdown",
   "metadata": {
    "hideCode": false,
    "hidePrompt": false
   },
   "source": [
    "## Show relative sizes of journals over the years"
   ]
  },
  {
   "cell_type": "code",
   "execution_count": 83,
   "metadata": {
    "hideCode": false,
    "hidePrompt": false,
    "scrolled": true
   },
   "outputs": [
    {
     "data": {
      "text/html": [
       "<div>\n",
       "<style scoped>\n",
       "    .dataframe tbody tr th:only-of-type {\n",
       "        vertical-align: middle;\n",
       "    }\n",
       "\n",
       "    .dataframe tbody tr th {\n",
       "        vertical-align: top;\n",
       "    }\n",
       "\n",
       "    .dataframe thead th {\n",
       "        text-align: right;\n",
       "    }\n",
       "</style>\n",
       "<table border=\"1\" class=\"dataframe\">\n",
       "  <thead>\n",
       "    <tr style=\"text-align: right;\">\n",
       "      <th></th>\n",
       "      <th>SO</th>\n",
       "      <th>PY</th>\n",
       "      <th>Count</th>\n",
       "    </tr>\n",
       "  </thead>\n",
       "  <tbody>\n",
       "    <tr>\n",
       "      <th>72</th>\n",
       "      <td>EUROPEAN JOURNAL OF CARDIOVASCULAR NURSING</td>\n",
       "      <td>2014</td>\n",
       "      <td>41</td>\n",
       "    </tr>\n",
       "  </tbody>\n",
       "</table>\n",
       "</div>"
      ],
      "text/plain": [
       "                                            SO    PY  Count\n",
       "72  EUROPEAN JOURNAL OF CARDIOVASCULAR NURSING  2014     41"
      ]
     },
     "execution_count": 83,
     "metadata": {},
     "output_type": "execute_result"
    }
   ],
   "source": [
    "# see clusters 15, 47, 10\n",
    "\n",
    "bar_df = pd.DataFrame(data.groupby(['SO',\n",
    "#                                     'Cluster',\n",
    "                                    'PY']).size().reset_index(name=\"Count\"))\n",
    "\n",
    "# bar_df.columns\n",
    "bar_df.sample()"
   ]
  },
  {
   "cell_type": "code",
   "execution_count": 84,
   "metadata": {
    "hideCode": false,
    "hidePrompt": false
   },
   "outputs": [
    {
     "name": "stderr",
     "output_type": "stream",
     "text": [
      "C:\\Users\\aday\\AppData\\Local\\Continuum\\anaconda3\\lib\\site-packages\\seaborn\\categorical.py:1508: FutureWarning: remove_na is deprecated and is a private function. Do not use.\n",
      "  stat_data = remove_na(group_data[hue_mask])\n"
     ]
    },
    {
     "data": {
      "text/plain": [
       "<module 'matplotlib.pyplot' from 'C:\\\\Users\\\\aday\\\\AppData\\\\Roaming\\\\Python\\\\Python36\\\\site-packages\\\\matplotlib\\\\pyplot.py'>"
      ]
     },
     "execution_count": 84,
     "metadata": {},
     "output_type": "execute_result"
    }
   ],
   "source": [
    "f, ax = plt.subplots(figsize=(20, 12))\n",
    "p = sns.factorplot(data = bar_df, \n",
    "                   ax =ax,\n",
    "            x='PY',\n",
    "            y='Count',\n",
    "#                     fit_reg=False,\n",
    "                   kind='bar',\n",
    "            hue = 'SO')\n",
    "# plt.title('Citations per year for cluster 15')\n",
    "# p.set_xticklabels(labels = df[x],rotation=90)\n",
    "# plt.savefig('outputs/Cluster_15_Barplot.png') #image not saving correctly\n",
    "plt"
   ]
  }
 ],
 "metadata": {
  "hide_code_all_hidden": false,
  "kernelspec": {
   "display_name": "Python 3",
   "language": "python",
   "name": "python3"
  },
  "language_info": {
   "codemirror_mode": {
    "name": "ipython",
    "version": 3
   },
   "file_extension": ".py",
   "mimetype": "text/x-python",
   "name": "python",
   "nbconvert_exporter": "python",
   "pygments_lexer": "ipython3",
   "version": "3.6.3"
  }
 },
 "nbformat": 4,
 "nbformat_minor": 2
}
