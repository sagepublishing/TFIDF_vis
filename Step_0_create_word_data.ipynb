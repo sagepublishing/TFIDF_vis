{
 "cells": [
  {
   "cell_type": "markdown",
   "metadata": {},
   "source": [
    "Create a variable 'word_data' which is a python list of all of the text data for your dataset.  This should be ordered according to the doi_ls variable used elsewhere.\n",
    "\n",
    "The outputs of the script are 3 things:\n",
    "- Dataframe of DOI, WoS word_data, pub_yr, document_type\n",
    "- doi_ls (identical to DOI col of above dataframe)\n",
    "- word_data i.e. text data for each doi in the list. "
   ]
  },
  {
   "cell_type": "code",
   "execution_count": 1,
   "metadata": {},
   "outputs": [
    {
     "name": "stdout",
     "output_type": "stream",
     "text": [
      "------------------------------------------------------\n",
      "Step 0:  Read in data from wos folder and build word_data\n",
      "2018-03-06 10:57:10.254986\n",
      "------------------------------------------------------\n"
     ]
    }
   ],
   "source": [
    "print('------------------------------------------------------')\n",
    "print('Step 0:  Read in data from wos folder and build word_data')\n",
    "from datetime import datetime as dt\n",
    "t_start = dt.now()\n",
    "print(t_start)\n",
    "print('------------------------------------------------------')"
   ]
  },
  {
   "cell_type": "code",
   "execution_count": 2,
   "metadata": {
    "collapsed": true
   },
   "outputs": [],
   "source": [
    "# imports \n",
    "import os\n",
    "import csv\n",
    "import pandas as pd\n",
    "import numpy as np\n",
    "import json\n",
    "import pickle\n",
    "from config import Config as c\n",
    "# cr_db_p = c.cr_db_p\n",
    "years = c.years\n",
    "word_datapath = c.word_datapath\n",
    "dois_p = c.dois_pkl\n",
    "wos_word_data_p = c.wos_word_data_p"
   ]
  },
  {
   "cell_type": "code",
   "execution_count": 3,
   "metadata": {
    "collapsed": true
   },
   "outputs": [],
   "source": [
    "# ensure directories all exist:\n",
    "input_dir = 'wos'\n",
    "if not os.path.exists(input_dir):\n",
    "    raise \"There should be a folder called 'wos' with Web of Science tsv files in it\"\n",
    "\n",
    "dirs = ['data','outputs']\n",
    "for d in dirs:\n",
    "    if not os.path.exists(d):\n",
    "        os.makedirs(d)\n"
   ]
  },
  {
   "cell_type": "markdown",
   "metadata": {},
   "source": [
    "### Load WoS word_data\n",
    "This is DOIs and word data from titles, abstracts and keywords on Web of Science.\n",
    "\n",
    "Note that this is the source of our doi list which is the basis of all data throughout this program.  I.e. if we have a set of tf-idf vectors later in processing, each vector will represent a an article from our doi list and the vectors will have the same ordering as the doi list.  This way, we always know which article an individual piece of data pertains to.\n"
   ]
  },
  {
   "cell_type": "code",
   "execution_count": 26,
   "metadata": {
    "collapsed": true
   },
   "outputs": [],
   "source": [
    "def build_wos_data():\n",
    "    filepaths = [os.path.join(os.path.abspath('wos'),p) for p in os.listdir('wos')]\n",
    "    data = pd.DataFrame({})\n",
    "    print('Reading files from WoS folder into dataframe...')\n",
    "    for filepath in filepaths:\n",
    "        df = pd.read_csv(filepath, \n",
    "                         sep='\\t', \n",
    "                         quotechar='\"',\n",
    "                         quoting=csv.QUOTE_NONE,\n",
    "                         index_col=False, \n",
    "                         error_bad_lines=False,\n",
    "                         encoding='utf-16')\n",
    "        data = pd.concat([data,df])\n",
    "    data['WD'] = data.TI.map(str)+' | '+ data.AB.map(str) +' | '+ data.DE.map(str) + ' | ' + data.ID.map(str)\n",
    "    return data # [['DI','SO','SN','EI','PY','DT','WD']]\n",
    "    "
   ]
  },
  {
   "cell_type": "code",
   "execution_count": 5,
   "metadata": {},
   "outputs": [
    {
     "name": "stdout",
     "output_type": "stream",
     "text": [
      "Reading files from WoS folder into dataframe...\n"
     ]
    }
   ],
   "source": [
    "try:\n",
    "    df = pd.read_csv(wos_word_data_p, index_col=0)\n",
    "except:\n",
    "    df = build_wos_data()"
   ]
  },
  {
   "cell_type": "code",
   "execution_count": null,
   "metadata": {},
   "outputs": [],
   "source": [
    "# checking text data came out right\n",
    "# df = build_wos_data()\n",
    "# df.WD.iloc[0]"
   ]
  },
  {
   "cell_type": "code",
   "execution_count": 27,
   "metadata": {},
   "outputs": [
    {
     "name": "stdout",
     "output_type": "stream",
     "text": [
      "Reading files from WoS folder into dataframe...\n"
     ]
    },
    {
     "data": {
      "text/plain": [
       "'Late outcome of percutaneous mitral commissurotomy: Randomized comparison of Inoue versus double-balloon technique | Background Late prognosis after successful percutaneous mitral commissurotomy (PMC) is unclear. We compared late results of PMC using Inoue versus double-balloon techniques up to 25 years in a randomized trial. Methods Between 1989 and 1995, 302 patients (77 men, 41 +/- 11 years) with severe mitral stenosis were randomly assigned to undergo PMC using Inoue (n = 152; group I) or double-balloon technique (n = 150; group D). The end points were the composite events of death, mitral surgery, repeat PMC, or deterioration of New York Heart Association (NYHA) class >= 3. Results During median follow-up of 20.7 years (maximum, 25.6), clinical events occurred in 82 (53.9%) patients in group I (37 deaths, 44 mitral surgeries, 9 repeat PMCs, 3 NYHA class >= 3) and in 79 (52.7%) patients in group D (34 deaths, 51 mitral surgeries, 5 repeat PMCs, 4 NYHA class >= 3). Event-free survival rates at 24 years were not significantly different between group I and group D (40.8% and 42.6%, respectively; hazard ratio [HR], 0.88; 95% confidence interval [CI], 0.65-1.20; P =.423). On multivariate analysis, absence of post-PMC commissural mitral regurgitation (MR) (HR, 1.84; 95% CI, 1.28-2.63; P =.001) and immediate post-PMC mitral valve area (MVA) b1.8 cm(2) (HR, 1.53; 95% CI, 1.04-2.25; P =.031) were independently correlated with clinical events after successful PMC. Conclusions The Inoue and double-balloon methods showed similar good clinical outcomes up to 25 years, and the achievement of effective commissurotomy to develop post-PMC commissural MR or immediate post-PMC MVA = 1.8 cm(2) is important in optimizing the late results of PMC. | nan | ECHOCARDIOGRAPHIC FOLLOW-UP; PULMONARY-ARTERY PRESSURE; VALVULAR HEART-DISEASE; PREDICTIVE FACTORS; SINGLE-BALLOON; VALVE AREA; VALVULOPLASTY; VALVOTOMY; STENOSIS; SERIES'"
      ]
     },
     "execution_count": 27,
     "metadata": {},
     "output_type": "execute_result"
    }
   ],
   "source": [
    "# check cell\n",
    "df[['WD','TI','AB','DE','ID']].sample(40)\n"
   ]
  },
  {
   "cell_type": "code",
   "execution_count": 28,
   "metadata": {},
   "outputs": [
    {
     "data": {
      "text/plain": [
       "(87281, 69)"
      ]
     },
     "execution_count": 28,
     "metadata": {},
     "output_type": "execute_result"
    }
   ],
   "source": [
    "df.shape # shape of our dataset in (rows , columns)"
   ]
  },
  {
   "cell_type": "code",
   "execution_count": 29,
   "metadata": {},
   "outputs": [
    {
     "name": "stdout",
     "output_type": "stream",
     "text": [
      "Dropping duplicate rows\n",
      "31190 rows of data remaining\n"
     ]
    }
   ],
   "source": [
    "print('Dropping duplicate rows')\n",
    "df.drop_duplicates(subset=['DI'], inplace=True)\n",
    "print(df.shape[0], 'rows of data remaining')"
   ]
  },
  {
   "cell_type": "markdown",
   "metadata": {},
   "source": [
    "Available article types in WoS data are:\n",
    "        \n",
    "        ['Article', 'Review', 'Letter', 'Editorial Material', 'Correction',\n",
    "       'Article; Proceedings Paper', 'Article; Retracted Publication',\n",
    "       'Retraction', 'Meeting Abstract', 'Biographical-Item', 'News Item',\n",
    "       'Book Review', 'News Item; Retracted Publication', 'Reprint']\n",
    "       \n",
    "We want only research papers, so 'article' seems like the best thing."
   ]
  },
  {
   "cell_type": "code",
   "execution_count": 30,
   "metadata": {},
   "outputs": [
    {
     "name": "stdout",
     "output_type": "stream",
     "text": [
      "Limit data to research articles\n",
      "19279 rows of data remaining\n"
     ]
    }
   ],
   "source": [
    "print('Limit data to research articles')\n",
    "df = df[df['DT']=='Article']\n",
    "print(df.shape[0], 'rows of data remaining')"
   ]
  },
  {
   "cell_type": "code",
   "execution_count": 31,
   "metadata": {},
   "outputs": [
    {
     "name": "stdout",
     "output_type": "stream",
     "text": [
      "Limit to years selected in config.py \n",
      " 2012, 2013, 2014, 2015, 2016, 2017\n",
      "19279 rows of data remaining\n"
     ]
    }
   ],
   "source": [
    "print('Limit to years selected in config.py \\n', ', '.join(years))\n",
    "df = df[df['PY'].isin(years)]\n",
    "print(df.shape[0], 'rows of data remaining')"
   ]
  },
  {
   "cell_type": "code",
   "execution_count": 32,
   "metadata": {},
   "outputs": [
    {
     "name": "stdout",
     "output_type": "stream",
     "text": [
      "Limit to articles with abstracts in WoS data\n",
      "18355 rows of data remaining\n"
     ]
    }
   ],
   "source": [
    "print('Limit to articles with abstracts in WoS data')\n",
    "df = df[df.AB.notnull()]\n",
    "print(df.shape[0], 'rows of data remaining')"
   ]
  },
  {
   "cell_type": "markdown",
   "metadata": {},
   "source": [
    "Remove rows where DOI is NaN"
   ]
  },
  {
   "cell_type": "code",
   "execution_count": 33,
   "metadata": {},
   "outputs": [
    {
     "name": "stdout",
     "output_type": "stream",
     "text": [
      "Limit to articles with DOIs in WoS data\n",
      "18355 rows of data remaining\n"
     ]
    }
   ],
   "source": [
    "print('Limit to articles with DOIs in WoS data')\n",
    "df = df[df.DI.notnull()]\n",
    "print(df.shape[0], 'rows of data remaining')"
   ]
  },
  {
   "cell_type": "markdown",
   "metadata": {},
   "source": [
    "### Limit columns"
   ]
  },
  {
   "cell_type": "code",
   "execution_count": 34,
   "metadata": {},
   "outputs": [
    {
     "name": "stdout",
     "output_type": "stream",
     "text": [
      "Limit to useful columns\n",
      "DI, WD, AU, AF, SO, SN, EI, TC, SC, Z9, PY\n"
     ]
    },
    {
     "data": {
      "text/html": [
       "<div>\n",
       "<style scoped>\n",
       "    .dataframe tbody tr th:only-of-type {\n",
       "        vertical-align: middle;\n",
       "    }\n",
       "\n",
       "    .dataframe tbody tr th {\n",
       "        vertical-align: top;\n",
       "    }\n",
       "\n",
       "    .dataframe thead th {\n",
       "        text-align: right;\n",
       "    }\n",
       "</style>\n",
       "<table border=\"1\" class=\"dataframe\">\n",
       "  <thead>\n",
       "    <tr style=\"text-align: right;\">\n",
       "      <th></th>\n",
       "      <th>DI</th>\n",
       "      <th>PY</th>\n",
       "      <th>TI</th>\n",
       "      <th>AB</th>\n",
       "      <th>WD</th>\n",
       "      <th>AU</th>\n",
       "      <th>EM</th>\n",
       "      <th>AF</th>\n",
       "      <th>SO</th>\n",
       "      <th>SC</th>\n",
       "      <th>SN</th>\n",
       "      <th>EI</th>\n",
       "      <th>TC</th>\n",
       "      <th>Z9</th>\n",
       "      <th>C1</th>\n",
       "    </tr>\n",
       "  </thead>\n",
       "  <tbody>\n",
       "    <tr>\n",
       "      <th>0</th>\n",
       "      <td>10.1016/j.ahj.2017.04.004</td>\n",
       "      <td>2017</td>\n",
       "      <td>Late outcome of percutaneous mitral commissuro...</td>\n",
       "      <td>Background Late prognosis after successful per...</td>\n",
       "      <td>Late outcome of percutaneous mitral commissuro...</td>\n",
       "      <td>Lee, S; Kang, DH; Kim, DH; Song, JM; Song, JK;...</td>\n",
       "      <td>dhkang@amc.seoul.kr; sjpark@amc.seoul.kr</td>\n",
       "      <td>Lee, Sahmin; Kang, Duk-Hyun; Kim, Dae-Hee; Son...</td>\n",
       "      <td>AMERICAN HEART JOURNAL</td>\n",
       "      <td>Cardiovascular System &amp; Cardiology</td>\n",
       "      <td>0002-8703</td>\n",
       "      <td>1097-5330</td>\n",
       "      <td>0</td>\n",
       "      <td>0</td>\n",
       "      <td>[Lee, Sahmin; Kang, Duk-Hyun; Kim, Dae-Hee; So...</td>\n",
       "    </tr>\n",
       "    <tr>\n",
       "      <th>1</th>\n",
       "      <td>10.1016/j.ahj.2017.08.014</td>\n",
       "      <td>2017</td>\n",
       "      <td>A unique linkage of administrative and clinica...</td>\n",
       "      <td>Background Large clinical, research, and admin...</td>\n",
       "      <td>A unique linkage of administrative and clinica...</td>\n",
       "      <td>Godown, J; Thurm, C; Dodd, DA; Soslow, JH; Fei...</td>\n",
       "      <td>justin.godown@vanderbilt.edu</td>\n",
       "      <td>Godown, Justin; Thurm, Cary; Dodd, Debra A.; S...</td>\n",
       "      <td>AMERICAN HEART JOURNAL</td>\n",
       "      <td>Cardiovascular System &amp; Cardiology</td>\n",
       "      <td>0002-8703</td>\n",
       "      <td>1097-5330</td>\n",
       "      <td>0</td>\n",
       "      <td>0</td>\n",
       "      <td>[Godown, Justin; Dodd, Debra A.; Soslow, Jonat...</td>\n",
       "    </tr>\n",
       "    <tr>\n",
       "      <th>2</th>\n",
       "      <td>10.1016/j.ahj.2017.08.004</td>\n",
       "      <td>2017</td>\n",
       "      <td>Contemporary risk model for inhospital major b...</td>\n",
       "      <td>Background Major bleeding is a frequent compli...</td>\n",
       "      <td>Contemporary risk model for inhospital major b...</td>\n",
       "      <td>Desai, NR; Kennedy, KF; Cohen, DJ; Connolly, T...</td>\n",
       "      <td>robert.mcnamara@yale.edu</td>\n",
       "      <td>Desai, Nihar R.; Kennedy, Kevin F.; Cohen, Dav...</td>\n",
       "      <td>AMERICAN HEART JOURNAL</td>\n",
       "      <td>Cardiovascular System &amp; Cardiology</td>\n",
       "      <td>0002-8703</td>\n",
       "      <td>1097-5330</td>\n",
       "      <td>0</td>\n",
       "      <td>0</td>\n",
       "      <td>[Desai, Nihar R.; McNamara, Robert L.] Yale Un...</td>\n",
       "    </tr>\n",
       "    <tr>\n",
       "      <th>3</th>\n",
       "      <td>10.1016/j.ahj.2017.08.013</td>\n",
       "      <td>2017</td>\n",
       "      <td>Contemporary rates and correlates of statin us...</td>\n",
       "      <td>Background Statin therapy ishighly efficacious...</td>\n",
       "      <td>Contemporary rates and correlates of statin us...</td>\n",
       "      <td>Go, AS; Fan, DJ; Sung, SH; Inveiss, AI; Romo-L...</td>\n",
       "      <td>Alan.S.Go@kp.org</td>\n",
       "      <td>Go, Alan S.; Fan, Dongjie; Sung, Sue Hee; Inve...</td>\n",
       "      <td>AMERICAN HEART JOURNAL</td>\n",
       "      <td>Cardiovascular System &amp; Cardiology</td>\n",
       "      <td>0002-8703</td>\n",
       "      <td>1097-5330</td>\n",
       "      <td>0</td>\n",
       "      <td>0</td>\n",
       "      <td>[Go, Alan S.; Fan, Dongjie; Sung, Sue Hee; Inv...</td>\n",
       "    </tr>\n",
       "    <tr>\n",
       "      <th>4</th>\n",
       "      <td>10.1016/j.ahj.2017.08.006</td>\n",
       "      <td>2017</td>\n",
       "      <td>Durability of quality of life benefits of tran...</td>\n",
       "      <td>Background For patients with severe aortic ste...</td>\n",
       "      <td>Durability of quality of life benefits of tran...</td>\n",
       "      <td>Baron, SJ; Arnold, SV; Reynolds, MR; Wang, KJ;...</td>\n",
       "      <td>dcohen@saint-lukes.org</td>\n",
       "      <td>Baron, Suzanne J.; Arnold, Suzanne V.; Reynold...</td>\n",
       "      <td>AMERICAN HEART JOURNAL</td>\n",
       "      <td>Cardiovascular System &amp; Cardiology</td>\n",
       "      <td>0002-8703</td>\n",
       "      <td>1097-5330</td>\n",
       "      <td>0</td>\n",
       "      <td>0</td>\n",
       "      <td>[Baron, Suzanne J.; Arnold, Suzanne V.; Wang, ...</td>\n",
       "    </tr>\n",
       "  </tbody>\n",
       "</table>\n",
       "</div>"
      ],
      "text/plain": [
       "                          DI    PY  \\\n",
       "0  10.1016/j.ahj.2017.04.004  2017   \n",
       "1  10.1016/j.ahj.2017.08.014  2017   \n",
       "2  10.1016/j.ahj.2017.08.004  2017   \n",
       "3  10.1016/j.ahj.2017.08.013  2017   \n",
       "4  10.1016/j.ahj.2017.08.006  2017   \n",
       "\n",
       "                                                  TI  \\\n",
       "0  Late outcome of percutaneous mitral commissuro...   \n",
       "1  A unique linkage of administrative and clinica...   \n",
       "2  Contemporary risk model for inhospital major b...   \n",
       "3  Contemporary rates and correlates of statin us...   \n",
       "4  Durability of quality of life benefits of tran...   \n",
       "\n",
       "                                                  AB  \\\n",
       "0  Background Late prognosis after successful per...   \n",
       "1  Background Large clinical, research, and admin...   \n",
       "2  Background Major bleeding is a frequent compli...   \n",
       "3  Background Statin therapy ishighly efficacious...   \n",
       "4  Background For patients with severe aortic ste...   \n",
       "\n",
       "                                                  WD  \\\n",
       "0  Late outcome of percutaneous mitral commissuro...   \n",
       "1  A unique linkage of administrative and clinica...   \n",
       "2  Contemporary risk model for inhospital major b...   \n",
       "3  Contemporary rates and correlates of statin us...   \n",
       "4  Durability of quality of life benefits of tran...   \n",
       "\n",
       "                                                  AU  \\\n",
       "0  Lee, S; Kang, DH; Kim, DH; Song, JM; Song, JK;...   \n",
       "1  Godown, J; Thurm, C; Dodd, DA; Soslow, JH; Fei...   \n",
       "2  Desai, NR; Kennedy, KF; Cohen, DJ; Connolly, T...   \n",
       "3  Go, AS; Fan, DJ; Sung, SH; Inveiss, AI; Romo-L...   \n",
       "4  Baron, SJ; Arnold, SV; Reynolds, MR; Wang, KJ;...   \n",
       "\n",
       "                                         EM  \\\n",
       "0  dhkang@amc.seoul.kr; sjpark@amc.seoul.kr   \n",
       "1              justin.godown@vanderbilt.edu   \n",
       "2                  robert.mcnamara@yale.edu   \n",
       "3                          Alan.S.Go@kp.org   \n",
       "4                    dcohen@saint-lukes.org   \n",
       "\n",
       "                                                  AF                      SO  \\\n",
       "0  Lee, Sahmin; Kang, Duk-Hyun; Kim, Dae-Hee; Son...  AMERICAN HEART JOURNAL   \n",
       "1  Godown, Justin; Thurm, Cary; Dodd, Debra A.; S...  AMERICAN HEART JOURNAL   \n",
       "2  Desai, Nihar R.; Kennedy, Kevin F.; Cohen, Dav...  AMERICAN HEART JOURNAL   \n",
       "3  Go, Alan S.; Fan, Dongjie; Sung, Sue Hee; Inve...  AMERICAN HEART JOURNAL   \n",
       "4  Baron, Suzanne J.; Arnold, Suzanne V.; Reynold...  AMERICAN HEART JOURNAL   \n",
       "\n",
       "                                   SC         SN         EI  TC  Z9  \\\n",
       "0  Cardiovascular System & Cardiology  0002-8703  1097-5330   0   0   \n",
       "1  Cardiovascular System & Cardiology  0002-8703  1097-5330   0   0   \n",
       "2  Cardiovascular System & Cardiology  0002-8703  1097-5330   0   0   \n",
       "3  Cardiovascular System & Cardiology  0002-8703  1097-5330   0   0   \n",
       "4  Cardiovascular System & Cardiology  0002-8703  1097-5330   0   0   \n",
       "\n",
       "                                                  C1  \n",
       "0  [Lee, Sahmin; Kang, Duk-Hyun; Kim, Dae-Hee; So...  \n",
       "1  [Godown, Justin; Dodd, Debra A.; Soslow, Jonat...  \n",
       "2  [Desai, Nihar R.; McNamara, Robert L.] Yale Un...  \n",
       "3  [Go, Alan S.; Fan, Dongjie; Sung, Sue Hee; Inv...  \n",
       "4  [Baron, Suzanne J.; Arnold, Suzanne V.; Wang, ...  "
      ]
     },
     "execution_count": 34,
     "metadata": {},
     "output_type": "execute_result"
    }
   ],
   "source": [
    "print('Limit to useful columns')\n",
    "print(', '.join(['DI','WD','AU','AF','SO','SN','EI','TC','SC','Z9','PY']))\n",
    "df = df[['DI','PY','TI','AB','WD','AU','EM','AF','SO','SC','SN','EI','TC','Z9','C1']]\n",
    "df.head()"
   ]
  },
  {
   "cell_type": "markdown",
   "metadata": {},
   "source": [
    "### Memory saving step\n",
    "Convert dataframe to take only every nth row.  This means that we reduce the size of the dataset.\n",
    "\n",
    "Note that the 'start' is a random number from 1 to n.  This means that we can get different results with the same dataset.  Helpful if the sample is somehow biased."
   ]
  },
  {
   "cell_type": "code",
   "execution_count": 35,
   "metadata": {},
   "outputs": [
    {
     "data": {
      "text/plain": [
       "(18355, 15)"
      ]
     },
     "execution_count": 35,
     "metadata": {},
     "output_type": "execute_result"
    }
   ],
   "source": [
    "from random import randint\n",
    "n = c.every_nth\n",
    "if n!=1:\n",
    "    print('Limiting to 1 article in every {} according to every_nth setting in config.py'.format(n))\n",
    "start = randint(1,n)-1  # -1 is to prevent OBOE\n",
    "# start = 0 # Uncomment to avoid re-indexing citation data when testing\n",
    "df = df.reset_index()\n",
    "df = df.iloc[start::n, :] # start at 'start' and step through selecting every nth row from there.\n",
    "df = df.reset_index()\n",
    "df = df.iloc[:,2:] # resetting index introduces new cols.  Drop them here.\n",
    "df.shape"
   ]
  },
  {
   "cell_type": "markdown",
   "metadata": {},
   "source": [
    "### Define doi_ls here\n"
   ]
  },
  {
   "cell_type": "code",
   "execution_count": 36,
   "metadata": {
    "collapsed": true
   },
   "outputs": [],
   "source": [
    "doi_ls = list(df['DI'])"
   ]
  },
  {
   "cell_type": "code",
   "execution_count": 37,
   "metadata": {},
   "outputs": [
    {
     "name": "stdout",
     "output_type": "stream",
     "text": [
      "--------------------------------------------\n",
      "Filtering complete.\n",
      "18355 articles in our dataset\n",
      "--------------------------------------------\n"
     ]
    }
   ],
   "source": [
    "print('--------------------------------------------')\n",
    "print('Filtering complete.')\n",
    "print('{} articles in our dataset'.format(len(doi_ls)))\n",
    "print('--------------------------------------------')"
   ]
  },
  {
   "cell_type": "markdown",
   "metadata": {},
   "source": [
    "### Build word_data"
   ]
  },
  {
   "cell_type": "code",
   "execution_count": 38,
   "metadata": {},
   "outputs": [
    {
     "name": "stdout",
     "output_type": "stream",
     "text": [
      "Building word_data\n"
     ]
    }
   ],
   "source": [
    "print('Building word_data')"
   ]
  },
  {
   "cell_type": "code",
   "execution_count": 39,
   "metadata": {},
   "outputs": [
    {
     "name": "stdout",
     "output_type": "stream",
     "text": [
      "Failures:  0 / 18355\n",
      "No. articles with word data: 18355\n",
      "No. DOIs in our dataset 18355\n"
     ]
    }
   ],
   "source": [
    "word_data = []\n",
    "\n",
    "failures = 0\n",
    "for doi in doi_ls:\n",
    "    if doi in list(df['DI']):\n",
    "        text = df[df['DI'] == doi ].WD.iloc[0]\n",
    "    else:\n",
    "        text = 'failure'\n",
    "    word_data.append(text)\n",
    "    if text == 'failure':\n",
    "        failures+=1\n",
    "    else:\n",
    "        pass\n",
    "        \n",
    "print('Failures: ',str(failures),'/',str(len(doi_ls)))    \n",
    "print('No. articles with word data:', len(word_data))\n",
    "print('No. DOIs in our dataset', len(doi_ls))"
   ]
  },
  {
   "cell_type": "code",
   "execution_count": 40,
   "metadata": {
    "collapsed": true
   },
   "outputs": [],
   "source": [
    "import pickle\n",
    "with open(word_datapath, 'wb') as f:\n",
    "    pickle.dump(word_data, f)    \n",
    "    \n",
    "with open(dois_p, 'wb') as f:\n",
    "    pickle.dump(doi_ls, f)  \n",
    "    "
   ]
  },
  {
   "cell_type": "code",
   "execution_count": 41,
   "metadata": {
    "collapsed": true
   },
   "outputs": [
    {
     "ename": "PermissionError",
     "evalue": "[Errno 13] Permission denied: 'C:\\\\Users\\\\aday\\\\OneDrive - SAGE Publishing\\\\Projects\\\\TFIDF_vis_Cardio\\\\data\\\\working_data.csv'",
     "output_type": "error",
     "traceback": [
      "\u001b[1;31m---------------------------------------------------------------------------\u001b[0m",
      "\u001b[1;31mPermissionError\u001b[0m                           Traceback (most recent call last)",
      "\u001b[1;32m<ipython-input-41-f73280d071a3>\u001b[0m in \u001b[0;36m<module>\u001b[1;34m()\u001b[0m\n\u001b[1;32m----> 1\u001b[1;33m \u001b[0mdf\u001b[0m\u001b[1;33m.\u001b[0m\u001b[0mto_csv\u001b[0m\u001b[1;33m(\u001b[0m\u001b[0mc\u001b[0m\u001b[1;33m.\u001b[0m\u001b[0mworking_data\u001b[0m\u001b[1;33m)\u001b[0m\u001b[1;33m\u001b[0m\u001b[0m\n\u001b[0m",
      "\u001b[1;32m~\\AppData\\Roaming\\Python\\Python36\\site-packages\\pandas\\core\\frame.py\u001b[0m in \u001b[0;36mto_csv\u001b[1;34m(self, path_or_buf, sep, na_rep, float_format, columns, header, index, index_label, mode, encoding, compression, quoting, quotechar, line_terminator, chunksize, tupleize_cols, date_format, doublequote, escapechar, decimal)\u001b[0m\n\u001b[0;32m   1522\u001b[0m                                      \u001b[0mdoublequote\u001b[0m\u001b[1;33m=\u001b[0m\u001b[0mdoublequote\u001b[0m\u001b[1;33m,\u001b[0m\u001b[1;33m\u001b[0m\u001b[0m\n\u001b[0;32m   1523\u001b[0m                                      escapechar=escapechar, decimal=decimal)\n\u001b[1;32m-> 1524\u001b[1;33m         \u001b[0mformatter\u001b[0m\u001b[1;33m.\u001b[0m\u001b[0msave\u001b[0m\u001b[1;33m(\u001b[0m\u001b[1;33m)\u001b[0m\u001b[1;33m\u001b[0m\u001b[0m\n\u001b[0m\u001b[0;32m   1525\u001b[0m \u001b[1;33m\u001b[0m\u001b[0m\n\u001b[0;32m   1526\u001b[0m         \u001b[1;32mif\u001b[0m \u001b[0mpath_or_buf\u001b[0m \u001b[1;32mis\u001b[0m \u001b[1;32mNone\u001b[0m\u001b[1;33m:\u001b[0m\u001b[1;33m\u001b[0m\u001b[0m\n",
      "\u001b[1;32m~\\AppData\\Roaming\\Python\\Python36\\site-packages\\pandas\\io\\formats\\format.py\u001b[0m in \u001b[0;36msave\u001b[1;34m(self)\u001b[0m\n\u001b[0;32m   1635\u001b[0m             f, handles = _get_handle(self.path_or_buf, self.mode,\n\u001b[0;32m   1636\u001b[0m                                      \u001b[0mencoding\u001b[0m\u001b[1;33m=\u001b[0m\u001b[0mencoding\u001b[0m\u001b[1;33m,\u001b[0m\u001b[1;33m\u001b[0m\u001b[0m\n\u001b[1;32m-> 1637\u001b[1;33m                                      compression=self.compression)\n\u001b[0m\u001b[0;32m   1638\u001b[0m             \u001b[0mclose\u001b[0m \u001b[1;33m=\u001b[0m \u001b[1;32mTrue\u001b[0m\u001b[1;33m\u001b[0m\u001b[0m\n\u001b[0;32m   1639\u001b[0m \u001b[1;33m\u001b[0m\u001b[0m\n",
      "\u001b[1;32m~\\AppData\\Roaming\\Python\\Python36\\site-packages\\pandas\\io\\common.py\u001b[0m in \u001b[0;36m_get_handle\u001b[1;34m(path_or_buf, mode, encoding, compression, memory_map, is_text)\u001b[0m\n\u001b[0;32m    388\u001b[0m         \u001b[1;32melif\u001b[0m \u001b[0mencoding\u001b[0m\u001b[1;33m:\u001b[0m\u001b[1;33m\u001b[0m\u001b[0m\n\u001b[0;32m    389\u001b[0m             \u001b[1;31m# Python 3 and encoding\u001b[0m\u001b[1;33m\u001b[0m\u001b[1;33m\u001b[0m\u001b[0m\n\u001b[1;32m--> 390\u001b[1;33m             \u001b[0mf\u001b[0m \u001b[1;33m=\u001b[0m \u001b[0mopen\u001b[0m\u001b[1;33m(\u001b[0m\u001b[0mpath_or_buf\u001b[0m\u001b[1;33m,\u001b[0m \u001b[0mmode\u001b[0m\u001b[1;33m,\u001b[0m \u001b[0mencoding\u001b[0m\u001b[1;33m=\u001b[0m\u001b[0mencoding\u001b[0m\u001b[1;33m)\u001b[0m\u001b[1;33m\u001b[0m\u001b[0m\n\u001b[0m\u001b[0;32m    391\u001b[0m         \u001b[1;32melif\u001b[0m \u001b[0mis_text\u001b[0m\u001b[1;33m:\u001b[0m\u001b[1;33m\u001b[0m\u001b[0m\n\u001b[0;32m    392\u001b[0m             \u001b[1;31m# Python 3 and no explicit encoding\u001b[0m\u001b[1;33m\u001b[0m\u001b[1;33m\u001b[0m\u001b[0m\n",
      "\u001b[1;31mPermissionError\u001b[0m: [Errno 13] Permission denied: 'C:\\\\Users\\\\aday\\\\OneDrive - SAGE Publishing\\\\Projects\\\\TFIDF_vis_Cardio\\\\data\\\\working_data.csv'"
     ]
    }
   ],
   "source": [
    "df.to_csv(c.working_data)"
   ]
  },
  {
   "cell_type": "code",
   "execution_count": null,
   "metadata": {},
   "outputs": [],
   "source": [
    "print('Word data for {} files built in {}'.format(len(list(set(word_data))),\n",
    "                                                 dt.now()-t_start))"
   ]
  }
 ],
 "metadata": {
  "kernelspec": {
   "display_name": "Python 3",
   "language": "python",
   "name": "python3"
  },
  "language_info": {
   "codemirror_mode": {
    "name": "ipython",
    "version": 3
   },
   "file_extension": ".py",
   "mimetype": "text/x-python",
   "name": "python",
   "nbconvert_exporter": "python",
   "pygments_lexer": "ipython3",
   "version": "3.6.3"
  }
 },
 "nbformat": 4,
 "nbformat_minor": 2
}
